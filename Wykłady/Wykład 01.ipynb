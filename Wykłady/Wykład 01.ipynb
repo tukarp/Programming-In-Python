{
 "cells": [
  {
   "cell_type": "markdown",
   "metadata": {},
   "source": [
    "![title](Data/PYTHONI/PY-1.gif)\n",
    "\n",
    "# WstÄp do jÄzyka PYTHON\n",
    "\n",
    "* <a href=\"#et1\">Instalacja</a>\n",
    "* <a href=\"#et2\">Literatura</a>\n",
    "* <a href=\"#et3\">Instalacja platformy</a>\n",
    "* <a href=\"#et4\">Biblioteki PYTHONA</a>\n",
    "* <a href=\"#et5\">Dlaczego PYTHON</a>\n",
    "* <a href=\"#et6\">1 Cecha charakterystyczna PYTHONA - wciÄcia</a>\n",
    "* <a href=\"#et7\">2 Cecha charakterystyczna PYTHONA - brak deklaracji</a>\n",
    "* <a href=\"#et8\">3 Cecha charakterystyczna PYTHONA - dynamiczne gospodarowanie pamiÄciÄ</a>\n",
    "* <a href=\"#et9\">4 Cecha charakterystyczna PYTHONA - elegancja i przyjazny kod</a>\n",
    "* <a href=\"#et10\">5 Cecha charakterystyczna PYTHONA - bogactwo typĂłw</a>\n"
   ]
  },
  {
   "cell_type": "markdown",
   "metadata": {},
   "source": [
    "\n",
    "\n",
    "\n",
    "## <a name=\"et1\"></a>Instalacja PYTHONA i pakietĂłw\n",
    "\n",
    "Strona_domowa_PYTHONA [http://www.python.org](http://www.python.org)\n",
    "\n",
    "Biblioteki_PYTHONA [pypi.python.org/pypi](pypi.python.org/pypi)\n",
    "\n",
    "Metody instalacji pakietĂłw:\n",
    "\n",
    "* Program pip (wheel)\n",
    " \n",
    " **pip <command> [options] [Nazwa Pakietu]>=<[wersja]**\n",
    " \n",
    " ** python -m pip <command> [options] [Nazwa pakietu]>=<[wersja]**\n",
    "\n",
    "Command:\n",
    "    *  install                     Zainstaluj pakiety.\n",
    "    *  download                    ZaĹaduj packages.\n",
    "    *  uninstall                   Zdezinstaluj packages.  \n",
    "    *  list                        Wylistuj zainstalowane pakiety.\n",
    "    *  show                        PokaĹź informacje o zainstalowanych pakietach.\n",
    "    *  check                       SprawdĹş zaleĹźnoĹci dla zainstalowanych pakietĂłw. \n",
    "    *  search                      ZnajdĹş repozytorium PyPI.\n",
    "    *  wheel                       Zbuduj wheels dla twojego pakietu.    \n",
    "\n",
    "Options:\n",
    "        *  -h, --help                  Pomoc  \n",
    "        *  -V, --version               PokaĹź wersjÄ i wyjdĹş.\n",
    "        *  --proxy <proxy>             WyszczegĂłlnij serwer proxy w formie  > \"[user:passwd@]proxy.server:port.\"  \n",
    "        *  --timeout <sec>             Ograniczenie czasu poszukiwania pakietu.   \n",
    "        *  --upgrade                   Uaktualnij pakiet\n",
    "    \n",
    "ParÄ sĹĂłw o formacie pakietĂłw \"wheel\". MajÄc nowszÄ wersjÄ pip-a instalujemy\n",
    "\n",
    "  **pip install wheel**\n",
    "\n",
    "By zbudowaÄ wheele dla istniejÄcych pakietĂłw wystarczy wskazaÄ docelowy katalog i nazwy pakietĂłw:\n",
    "\n",
    "  **pip wheel --wheel-dir=/katalog/na/wheele NAZWA_PAKIETU**\n",
    "\n",
    "Ĺťeby zainstalowaÄ pakiety z lokalnie zbudowanych wheeli wystarczy wykonaÄ:\n",
    "\n",
    "   **pip install --use-wheel --no-index --find-links=/katalog/na/wheele NAZWA_PAKIETU**\n",
    "\n",
    "MajÄc lokalnie jakiĹ pakiet moĹźemy zbudowaÄ wheel wykonujÄc na setup.py:\n",
    "\n",
    "   **python setup.py bdist_wheel**\n",
    "\n",
    "DziaĹa to z distribute (ale nie z distutils). W efekcie dostaniemy pakiety whl, np:\n",
    "_Django-1.5.4-py2.py3-none-any.whl Pillow-2.2.1-cp27-none-linux_x86_64.whl_\n",
    "Pillow jako pakiet binarny ma w nazwie pliku architekturÄ, pod ktĂłrÄ zostaĹ skompilowany.\n",
    ".\n",
    "\n",
    "* Easy-install (egg)\n",
    " \n",
    " **easy_install [options] [Nazwa pakieru lub url]**\n",
    "\n",
    "Options for 'easy_install' command:\n",
    "    *  --zip-ok (-z)              Zainstaluj pakiet jako zbiĂłr zzipowany\n",
    "    *  --multi-version (-m)       ĹťÄdanie wymaganej wersji \n",
    "    *  --upgrade (-U)             Uaktualnij (przeszukaj PyPI dla ostatniej wersji)\n",
    "    *  --install-dir (-d)         zainstaluj pakiet do DIR\n",
    "    *  --script-dir (-s)          zainstaluj skrypty do DIR\n",
    "    *  --exclude-scripts (-x)     nie instaluj skryptĂłw\n",
    "    *  --always-copy (-a)         skopiuj wszystkie pakietyt potrzebne do instalacji do katalogu \n",
    "    *  --index-url (-i)           podstawowy URL  Python Package Index\n",
    "    *  --find-links (-f)          dodatkowy/we URL(e) do przeszukiwania pakietĂłw \n",
    "    *  --build-directory (-b)     zaĹaduj/wyodrÄbnij/zbuduj w DIR\n",
    "    *  --optimize (-O)            rĂłwnieĹź skompiluj                              \n",
    "    *  --site-dirs (-S)           lista katalogĂłw gdzie sÄ zbiory .pth \n",
    "    *  --no-deps (-N)             nie instaluj zaleĹźnoĹci\n",
    "    *  --version                  wydrukuj informacjÄ o wersji i wyjdĹş \n",
    "*  **C:\\Python27\\python setup.py install**\n",
    "\n",
    "* NiektĂłre biblioteki majÄ instalatory typu _**.exe**_\n",
    "\n",
    "* W momentach zwÄtpienia pozostaje **ANACONDA** - [https://anaconda.org/](https://anaconda.org/)\n"
   ]
  },
  {
   "cell_type": "markdown",
   "metadata": {},
   "source": [
    "## <a name=\"et2\"></a>LITERATURA:\n",
    "1. Altom T., Mitch Chapman, Programming with Python, Prima.\n",
    "2. Alchin M., Pro Django. 2009 by Marty Alchin. \n",
    "3. Ayman H., Django 1.0 Web Site Development, 2009 Packt Publishing. \n",
    "4. Barry P., Head First Python, Copyright ÂŠ 2011 Paul Barry, O'Reilly Media Inc.\n",
    "5. Beazley D.: Python. Essential Reference. 3Ed., Sams Publishing 2006. \n",
    "6. Benett J., Practical Django projects, 2Ed, Apress 2009. \n",
    "7. Bowles M., Machine Learning in PYTHON, Essential Techniques for predictive analysis, John Wiley & Sons, Inc. 2015 [www.it-ebooks.info](www.it-ebooks.info)\n",
    "8. Brown M., Python Annotated Archives, McGraw Hill.  \n",
    "9. Chad A., Learning Python Data Visualization, Copyright ÂŠ 2014 Packt Publishing [www.packtpub.com](www.packtpub.com)\n",
    "10. Chiu Yu Wej, Machine Learning with R Cookbook, Copyright ÂŠ 2015 Packt Publishing [www.it-ebooks.info](www.it-ebooks.info)\n",
    "11. Chun W. J.: Core Python Programming, OâReilly & Ass. Inc. 2002. \n",
    "12. Coelho L.P., Richert W., Building Machine Learning Systems with Python PACKT Publishing 2015. [www.it-ebooks.info](www.it-ebooks.info)\n",
    "13. Dayley B., Python. RozmĂłwki. Helion SA 2007.  \n",
    "14. Deitel H. M., Deitel P. J., Liperi J.P. i inn. Python How to Program, ÂŠ Copyright 1992â2002 by Deitel & Associates, Inc.\n",
    "15. Dokumentacja biblioteki PMW: [http://pmw.sourceforge.net/doc/index.html](http://pmw.sourceforge.net/doc/index.html) \n",
    "16. Dokumentacja techniczna PYTHONa: [http://docs.python.org/index.html](http://docs.python.org/index.html). \n",
    "17. Downey A.B., Think PYTHON, O'Reilly 2012 [www.it-ebooks.info](www.it-ebooks.info). \n",
    "18. Eckel B., Thinking in Python, Design Patterns and Problem-Solving Techniques, (wersja internetowa) \n",
    "19. Flynt C., Tcl/Tk a Developers Guide, 2Ed, 2003 Elsevier Science (USA) \n",
    "20. Ford M. J., Muirhead Ch., Iron Python in Action. 2009 by Manning Publications Co. \n",
    "21. Forcier J., Bissex P., Chun W., Python i Django. Programowanie aplikacji webowych. Helion S.A. 2009. \n",
    "22. Grayson J.E., Python and Tkinter Programming, 2003-2010 Manning Publications Co. \n",
    "23. Hammond M.A.R,  Python Programming on Win32. OâReilly. \n",
    "24. Hetland M.L., Beginning PYTHON. From Novice to Professional. Copyright ÂŠ 2005 by Magnus Lie Hetland. [www.appress.com](www.appress.com)\n",
    "25. Harms D., McDonald K., The Quick Python Book. Manning. \n",
    "26. Himstedt T., MĂ¤nzel K., Mit Python programieren (Programming with Python) Dpunk.Verlag. \n",
    "27. Holovaty A., Kaplan-Moss J.: The Definitive Guide to django. Apress 2009. \n",
    "28. Internetowy manual Vpythona: [http://vpython.org/index.html](http://vpython.org/index.html). \n",
    "29. Internetowy podrÄcznik Tkintera: [http://www.astro.washington.edu/users/rowen/TkinterSummary.html](http://www.astro.washington.edu/users/rowen/TkinterSummary.html) \n",
    "30. Jonas Ch. A., Drake F. L..Jr.,  Python and XML,  OâReilly Media Inc 2002. \n",
    "31. Jones C.A., Python & XML, OâReilly 2002. \n",
    "32. Juneau J., Baker J., Ng V., i inn. The Definitive Guide to Jython. Python for the Javaâ˘ Platform. 2010 Apress. \n",
    "33. KÄdzierski P., JÄzyk Python. [http://www.python.org.pl/view/kursy/jezykpython.pdf](http://www.python.org.pl/view/kursy/jezykpython.pdf)\n",
    "34. McKinney W., Python for Data Analysis, O'Reilly 2013, [www.it-ebooks.info](www.it-ebooks.info)\n",
    "35. Krajka A., Python. Podstawy jÄzyka i aplikacje internetowe. Wyd. UMCS, Lublin 2012. \n",
    "36. van Laningham I., Teach yoursekf Python in 24 hours. Sams.  \n",
    "37. Lundh F., An introduction to Tkinter. 1999 by Frederik Luhn [http://www.pythonware.com/library/an-introduction-to-tkinter.htm](http://www.pythonware.com/library/an-introduction-to-tkinter.htm) \n",
    "38. Lungh F., Ellis M., Python Imaging Library Overview, [http://www.pythonware.com/media/data/pil-handbook.pdf](http://www.pythonware.com/media/data/pil-handbook.pdf)\n",
    "39. von LĂświs M., Fischbeck N.,Das Python-Buch (The Python Book, Addison Wesley Longman, \n",
    "40. Lutz M., Programming Python, 4Ed, OâReilly 2011. \n",
    "41. Lutz M., Learning Python. 5Ed OâReilly 2013 [www.it-ebooks.info](www.it-ebooks.info) \n",
    "42. McGrath S., XML Processing with Python, Prentice Hall. \n",
    "43. MaliĹski P., Äwiczenia praktyczne Django. Helion 2009. \n",
    "44. MaliĹski P., Podstawy Pythona. [http://www.python.rk.edu.pl/w/p/podstawy/](http://www.python.rk.edu.pl/w/p/podstawy/) \n",
    "45. Martelli A., Python in Nutshell, OâReilly 2003. \n",
    "46. Martelli A., Ascher D., Python Cookbook, OâReilly 2002. \n",
    "47. Maruch S., Maruch A., Python for Dummies, John Wiley & Sons ÂŠ 2006. \n",
    "48. Marzall A., Gracia I., Introduction a la programaciĂłn con Python y C. 2002 de AndrĂŠs Marzal VarĂł & Isabel Gracia Luengo \n",
    "49. MilovanoviÄ I., Python Data Visualization Cookbook, Copyright ÂŠ 2013 Packt Publishing, [www.it-ebooks.info](www.it-ebooks.info)\n",
    "50. MĹotkowski M,. WykĹady Internetowe: [http://www.ii.uni.wroc.pl/~marcinm/dyd/python/]\n",
    "(http://www.ii.uni.wroc.pl/~marcinm/dyd/python/) \n",
    "51. Model M.I., Bioinformatics Programming Using Python, O'Reilly Beijing â˘ Cambridge â˘ Farnham â˘ KĂśln â˘ Sebastopol â˘ Taipei â˘ Tokyo [www.it-ebooks.info](www.it-ebooks.info)\n",
    "52. Norton P., Samuel A., Aitel D., I inni,: Beginning Python. Wiley Publ. Inc. 2005. \n",
    "53. Opis biblioteki NumPy: [http://www.scipy.org/Tentative_NumPy_Tutorial](http://www.scipy.org/Tentative_NumPy_Tutorial)\n",
    "54. Ousterhout, J., Tcl and Tk Toolkit, Addison Wesley Longman.  \n",
    "55. Penzillaâs net PYTHON tutorial: [http://www.penzilla.net/tutorials/python/index.shtml](http://www.penzilla.net/tutorials/python/index.shtml) \n",
    "56. Pilgrim M., Warszk, KieÄ P. i in. Zanurkuj w Pythonie, Wikimedia Foundation Inc. 2005-2008. \n",
    "57. Python Documentation: [http://www.python.org/doc/](http://www.python.org/doc/) \n",
    "58. Python Tutorials na [http://www.tutorialspoint.com/index.htm](http://www.tutorialspoint.com/index.htm) \n",
    "59. Raines P., Tcl/Tk pocket reference, 1998 OâReilly Media Inc. Sebastopol. \n",
    "60. Raines P., Tranter J.: Tcl/Tk in a nutshell. A desktop quick reference. 1999 OâReilly Media Inc. Sebastopol. \n",
    "61. Romano F., Learning Python, Copyright ÂŠ 2015 Packt Publishing [www.packtpub.com](www.packtpub.com)\n",
    "62. van Rossum G.: Przewodnik po jÄzyku Python.2.3Ed. Copyright c 2001 Python Software Foundation [(http://docs.python.org.pl/tut/tut.html](http://docs.python.org.pl/tut/tut.html) \n",
    "63. Scheible J., Tuulos V., Mobile Python. Rapid Prototyping of Applications on the Mobile Platform. 2007 John Wiley & Sons.  \n",
    "64. Shipman J. W., Tkinter 8.4 reference: a GUI for Python, New Mexico Tech CC. [http://ibiblio.org/g2swap/byteofpython/read/index.html](http://ibiblio.org/g2swap/byteofpython/read/index.html)\n",
    "65. Swacha J.: Kurs programowania w jÄzyku Python. [http://uoo.univ.szczecin.pl/~jakubs/](http://uoo.univ.szczecin.pl/~jakubs/) \n",
    "66. Swaroop P.H.,  A Byte of Python, [http://ibiblio.org/g2swap/byteofpython/read/index.html](http://ibiblio.org/g2swap/byteofpython/read/index.html),  2003-2005 Swaroop CH. \n",
    "67. Waters A., van Rossum G., Ahlstrom C., Internet Programing with Python, Henry Holt & Co./M&T Books/MIS:Press/IDG Books. \n",
    "68. Welch, B. B., Jones K., Hobbs J.: Tcl and Tk, 4Ed, 2003 Pearson Education Inc. \n",
    "69. ZbiĂłr aplikacji Vpythona: [http://mientki.ruhosting.nl/data_www/pylab_works/pw_application_vpython3.html](http://mientki.ruhosting.nl/data_www/pylab_works/pw_application_vpython3.html)"
   ]
  },
  {
   "cell_type": "markdown",
   "metadata": {},
   "source": [
    "## <a name=\"et3\"></a> Instalacja platformy\n",
    "\n",
    "*   **Python(x,y)**  naukowa dystrybucja Pythona \n",
    "      \n",
    "    [https://python-xy.github.io/](https://python-xy.github.io/)\n",
    "    \n",
    "    zawiera PYTHONA, QT i SPYDERA\n",
    "\n",
    "*   Wtyczka **pydev** w ECLIPSE  \n",
    "\n",
    "    [http://bexlab.pl/konfiguracja-eclipse-do-pracy-z-pythonem/361/](http://bexlab.pl/konfiguracja-eclipse-do-pracy-z-pythonem/361/)    \n",
    "*   Wtyczka **nbPython** w NETBEANS \n",
    "\n",
    "    [http://plugins.netbeans.org/plugin/61688/python](http://plugins.netbeans.org/plugin/61688/python)\n",
    "\n",
    "*   **RODEO**  \n",
    "\n",
    "    [http://rodeo.yhat.com/](http://rodeo.yhat.com/)  \n",
    "\n",
    "    [https://www.yhat.com/products/rodeo](https://www.yhat.com/products/rodeo)\n",
    "\n",
    "*   **JUPYTER NOOTEBOOK**   \n",
    "\n",
    "    [http://jupyter.org/](http://jupyter.org/)"
   ]
  },
  {
   "cell_type": "markdown",
   "metadata": {},
   "source": [
    "## <a name=\"et4\"></a> Ciekawsze biblioteki PYTHONA\n",
    "\n",
    "Blog PYTHONA   [http://www.python.rk.edu.pl/](http://www.python.rk.edu.pl/)\n",
    "\n",
    "Biblioteki:\n",
    "* Frameworki **Django, Flask, Zope, Plone ** \n",
    "* Do robienia gier 2D **pygame**\n",
    "* Wykresy **matplotlib**\n",
    "* \"Naukowe\" **sympy, scipy, numpy, pandas**\n",
    "* **pyhook** moĹźesz w niej zrobiÄ keyloggera\n",
    "* **pyopengl** do grafiki 3D\n",
    "* **beautifulsoup, urllib3** do parsowania stron\n",
    "* **openCV** do przetwarzania wideo\n",
    "* **VPYTHON** do modelowania w 2D i 3D\n",
    "* **biopython** obliczenia DNA, RNA\n",
    "* **threading** przetwarzanie wielowÄtkowe\n",
    "i wiele wiele innych (zobacz [ttps://pypi.python.org/pypi](https://pypi.python.org/pypi) oraz\n",
    "[ttps://github.com/vinta/awesome-python](https://github.com/vinta/awesome-python))\n",
    " \n",
    "#### Problem z konfliktami pomiÄdzy rĂłĹźnymi bibliotekami PYTHONA:\n",
    "\n",
    "* ANACONDA jako sposĂłb instalacji bibliotek\n",
    "* Stworzenie Ĺrodowiska wirtualnego w katalogu w ktorym tworzymy:\n",
    "    **python -m venv [nazwa]**\n"
   ]
  },
  {
   "cell_type": "markdown",
   "metadata": {},
   "source": [
    "## <a name=\"et5\"></a> Dlaczego PYTHON\n",
    "\n",
    "### Klasyfikacja jÄzykĂłw\n",
    "\n",
    "* Imperatywne (Python, Java, C++, R)\n",
    "* Deklaratywne (Prolog, Haskell)\n",
    "\n",
    "\n",
    "* Obiektowe (Java, C++, Python, R)\n",
    "* Strukturalne  \n",
    "* Funkcyjne (Haskell ,F)\n",
    "\n",
    "\n",
    "* Wysokiego poziomu (Java, C++, Python, R)\n",
    "* Niskiego poziomu (assembler, C)\n",
    "\n",
    "\n",
    "* jÄzyk programowania   (Java, C++)\n",
    "* jÄzyk znacznikĂłw   (LATEX, HTML)\n",
    "* jÄzyk skryptowy    (Python, Perl, R)\n",
    "\n",
    "\n",
    "### PorĂłwnania\n",
    "Cechy PYTHONA:\n",
    "Python to jÄzyk programowania wysokiego poziomu. Jego nazwa pochodzi od sĹynnej grupy komediowej Monty Pythona\n",
    "(Guido van Rossum). Mimo iĹź jest jÄzykiem doĹÄ rozbudowanym, Ĺatwo siÄ go nauczyÄ. Cechuje go minimalistyczna skĹadnia rdzenia z podstawowymi poleceniami i prostÄ semantykÄ. Python bardzo przypomina jÄzyk angielski, w zwiÄzku z czym czÄsto polecany jest poczÄtkujÄcym programistom.\n",
    "* PrzenoĹnoĹÄ\n",
    "* Integracja\n",
    "* Prostota\n",
    "* MoĹźliwoĹci\n",
    "* ElastycznoĹÄ\n",
    "* Open-source\n",
    "\n",
    "Cechy R:\n",
    "R jest jÄzykiem programowania sĹuĹźÄcym gĹĂłwnie do obliczeĹ statystycznych oraz wizualizacji ich wynikĂłw. Zawiera liczne implementacje procedur statystycznych, a takĹźe dopasowane do nich, rozbudowane moĹźliwoĹci graficzne. JÄzyk R jest podstawowym narzÄdziem pracy wielu statystykĂłw, analitykĂłw danych, naukowcĂłw, badaczy opinii i rynku czy specjalistĂłw business intelligence.\n",
    "\n",
    "Cechy C,C++: \n",
    "C++ to kolejny obiektowy jÄzyk programowania. Jego autorem jest duĹski informatyk Bjarne Stroustrup, ktĂłry rozszerzyĹ jÄzyk \"C\" o obiektowe mechanizmy abstrakcji danych oraz statycznÄ kontrolÄ typĂłw. JÄzyk ten pozwala tworzyÄ programy w zupeĹnie inny sposĂłb niĹź jego poprzednik. C++ byĹ inspiracjÄ do stworzenia kolejnych jÄzykĂłw programowania, takich jak chociaĹźby Java. Mimo iĹź ma juĹź swoje lata, wciÄĹź znajduje rĂłĹźnorodne zastosowanie, chociaĹźby w tworzeniu gier komputerowych.\n",
    "\n",
    "1. **Cel:** \n",
    "PYTHON - ogĂłlnego celu, R - zaawansowany do statystyki i data miningu, C,C++ - do tworzenia szybkich programĂłw\n",
    "2. **SzybkoĹÄ:**\n",
    "PYTHON - najwolniejszy, R - poĹrodku, C,C++ - najszybszy\n",
    "3. **Instalacja bibliotek:**\n",
    "PYTHON - katastrofa, R - nieĹşle, C,C++ - robiÄ co chcÄ\n",
    "4. **Platformy:**\n",
    "PYTHON - wszÄdzie dostÄpny, R - najgorzej, C,C++ - nieĹşle\n",
    "5. **CzytelnoĹÄ kodu i elegancja:**\n",
    "PYTHON - rewelacyjny, R i C,C++ - zdecydowanie gorzej\n",
    "6. **DostÄpnoĹÄ:**\n",
    "wszystkie bezproblemowe\n",
    "7. **MoĹźliwoĹci graficzne:**\n",
    "PYTHON - Ĺrednio, R - najlepiej, C,C++ - najgorzej\n",
    "8. **MoĹźliwoĹci webowe:**\n",
    "PYTHON - rewelacyjnie, R - najgorzej, C,C++ - Ĺrednio\n",
    "9. **ĹatwoĹÄ uczenia:**\n",
    "PYTHON - najlepiej, R - Ĺrednio, C,C++ - najgorzej\n",
    "10. **Dokumentacja**\n",
    "PYTHON - rĂłĹźnie ale raczej dobrze, R - perfekcyjnie, C,C++ - chyba najgorzej\n",
    "\n",
    "**Lista zastosowaĹ PYTHONa ** - zobacz [https://en.wikipedia.org/wiki/List_of_Python_software](https://en.wikipedia.org/wiki/List_of_Python_software)\n",
    "\n",
    "PopularnoĹÄ jÄzykĂłw programowania (maj 2017):\n",
    "1. Java (14,639%)\n",
    "2. C (7,002%)\n",
    "3. C++ (4,751%)\n",
    "4. Python\n",
    "5. C#\n",
    "6. Visual Basic .NET\n",
    "7. JavaScript\n",
    "8. JÄzyk asemblera\n",
    "9. PHP\n",
    "10. Perl\n",
    "11. Ruby\n",
    "12. Visual Basic\n",
    "13. Swift\n",
    "14. R\n",
    "15. Objective-C\n",
    "16. Go\n",
    "17. MATLAB\n",
    "18. Delphi/Object Pascal\n",
    "19. PL/SQL\n",
    "20. Scratch\n",
    "\n",
    "Zobacz teĹź te rankingi: \n",
    "* [https://www.tiobe.com/tiobe-index/](https://www.tiobe.com/tiobe-index/) \n",
    "* [https://insights.stackoverflow.com/survey/2016#technology](https://insights.stackoverflow.com/survey/2016#technology)\n",
    "* [https://octoverse.github.com/](https://octoverse.github.com/)\n",
    "\n",
    "## Dlaczego PYTHON:\n",
    "\n",
    "**1. Python jest prosty!**\n",
    "\n",
    "**Java:**\n",
    "\n",
    "public class Main {\n",
    "\n",
    "public static void main(String[] args) {\n",
    "\n",
    "System.out.println(\"hello world\");\n",
    "\n",
    "}\n",
    "\n",
    "}\n",
    "\n",
    "**Python:**\n",
    "\n",
    "print(\"hello world\")\n",
    "\n",
    "**2. Python jest szybki w nauce i dostÄpny \"od rÄki\"**\n",
    "\n",
    "**3. Python jest wydajny** \n",
    "\n",
    "Big Data (zarĂłwno w zbieraniu danych, jak ich analizie, przetwarzaniu, wykorzystaniu) jest przyszĹoĹciÄ. \n",
    "Im wiÄcej danych musisz przetworzyÄ, tym waĹźniejsze staje siÄ zarzÄdzanie zuĹźywanymi zasobami i wydajnoĹÄ kodu.\n",
    "Python udostÄpnia generatory zarĂłwno jako wyraĹźenia, jak i funkcje. Generatory pozwalajÄ na iteracyjne przetwarzanie danych â element po elemencie a ânormalneâ iteracyjne przetwarzanie danych wymaga listy. Lista zajmuje pamiÄÄ. NaprawdÄ duĹźa lista zabiera bardzo duĹźo pamiÄci. Generatory umoĹźliwiajÄ pobieranie danych ze ĹşrĂłdĹa po jednym elemencie i przekazywanie ich za poĹrednictwem caĹego ĹaĹcucha przetwarzania omijajÄc mechanizm zwiÄzany z przechowywaniem iterowanej listy.\n",
    "\n",
    "**4. UmiejÄtnoĹci zawodowe**\n",
    "\n",
    "Ĺatwo go siÄ nauczyÄ i od razu mieÄ konkretnÄ umiejÄtnoĹÄ zawodowÄ â programowanie.\n",
    "Jednak nie chcesz rozwijaÄ siÄ w Pythonie? Nie ma problemu, Ĺatwo âzejdziesz niĹźejâ do C,\n",
    "przeskoczysz na Ruby (skĹadnia jest bardzo podobna) czy pĂłjdziesz stronÄ frontendu prosto w ramiona JavaScriptâu.\n",
    "Integracja Pythona z innymi jÄzykami? Nie ma problemu.\n",
    "Dodatkowe rozwiÄzania? Jest i to w wielu opcjach.\n",
    "Jython czyli Python zaimplementowany w Javie â dziaĹa wszÄdzie, gdzie dziaĹa Java. IronPython, Python zaimplementowany w .Net.\n",
    "\n",
    "**5. Wynagrodzenie**\n",
    "\n",
    "![title](Data/PYTHONI/PY-2.jpg)\n",
    "\n",
    "**6. Pracy nie zabraknie**\n",
    "\n",
    "MoĹźliwoĹci jakie daje Python w pracy. WĹaĹciwie moĹźesz w nim napisaÄ wszystko co siÄ marzy i jednoczeĹnie w kaĹźdej dziedzinie znajdziesz dla siebie ofertÄ zatrudnienia. Z roku na rok zapotrzebowanie na specjalistĂłw Pythona roĹnie. W tym roku programiĹci Pythona sÄ w top 3 najbardziej rozchwytywanych.\n",
    "\n",
    "**7. MoĹźliwoĹci**\n",
    "\n",
    "   * Arduino czy Raspberry Pi â na jednym i na drugim moĹźesz programowaÄ w Pythonie, duĹźo zabawy, ogrom moĹźliwoĹci. Projekty DIY sÄ Ĺatwo dostÄpne na youtubie i dajÄ wiele satysfakcji.\n",
    "   * Cybersecurity â ethical hacking, testy penetracyjne, analizy systemĂłw bezpieczeĹstwa, a takĹźe rozwĂłj oprogramowania, to zadania, ktĂłre moĹźesz wykonywaÄ z Pythonem jako spec od bezpieczeĹstwa\n",
    "   * IoT â znany rĂłwnieĹź jako Internet rzeczy, inteligentne domy. WĹaĹciwie, dlaczego samodzielnie nie sprawiÄ sobie kilku gadĹźetĂłw w domu lub pracowaÄ przy tym zawodowo?\n",
    "   * Marketing â wyciÄganie i analiza informacji o uĹźytkownikach z danych wĹasnych czy za pomocÄ API Facebooka, Google, Twittera, lepsze targetowanie reklamy\n",
    "   * Nauka â obrĂłbka danych zarĂłwno na poziomie matematycznym, statystycznym, wyciÄganie czÄĹci informatywnych z wynikĂłw eksperymentĂłw laboratoryjnych, z dziedziny genomiki, chemii, geoinformacji itp.\n",
    "   * QA â testowanie oprogramowani, testy automatyczne, debugowanie, wszÄdzie gdzie moĹźna z lenistwa napisaÄ kod, ktĂłry robi testy za testera\n",
    "   * Statystyka â Python to jeden z najczÄĹciej wymaganych jÄzykĂłw na stanowiska Data Scientist\n",
    "   * Uczenie maszynowe i AI â tematy ĹciĹle zwiazane z przetwarzaniem ogromnych iloĹci danych, ponoÄ Python jest przyszĹoĹciÄ Machine Learningu\n",
    "   * Web development â backend bardziej wydajny niĹź popularny PHP do tego przyspieszajÄce pracÄ frameworki np. Django czy Flask\n",
    "\n",
    "Wiele wiele innych, ktĂłre tylko wpadnÄ nam do gĹowy. Nawet w branĹźy gier, ktĂłra niekoniecznie jest w pierwszym momencie kojarzona z Pythonem, znajdzie siÄ odpowiednie stanowisko (gameplay programmer).\n",
    "\n",
    "**8. Python has power**\n",
    "\n",
    "   * Netflix uĹźywajÄ go w swoich aplikacjach.\n",
    "   * Dropbox jest w caĹoĹci napisany w Pythonie, co zapewnia mu zgodnoĹÄ z kaĹźdym systemem operacyjnym. Ma okoĹo 400 milionĂłw uĹźytkownikĂłw i dla wielu z nich jest jednÄ z pierwszych aplikacji instalowanych na komputerze. Nie tylko aplikacja desktopowa, ale rĂłwnieĹź kod po stronie serwera Dropboxâa jest w jÄzyku Python.\n",
    "   * Google wykorzystuje ogrom technologii, w tym C ++, Python, a teraz takĹźe jÄzyk Go. PonoÄ w Google padĹo zdanie âPython, gdzie moĹźemy. C + +, gdzie musimy.â\n",
    "   * Spotify i Netfilx - Spotify wykorzystuje gĹĂłwnie JavÄ, ale korzysta z Pythona to takich rzeczy jak ich Web API. Spotify korzysta rĂłwnieĹź z Pythona do analizy danych, niekoniecznie zwiÄzanych tylko z uĹźytkownikami (system odzyskiwania serwera DNS, system pĹatnoĹci i system zarzÄdzania treĹciÄ). Netflix wykorzystuje mieszankÄ Javy, Scali i Pythona, jednoczeĹnie daje programistom autonomiÄ wyboru jÄzyka, ktĂłry najlepiej pasuje do napotkanego problemu. Gdzie szukaÄ Pythona? W grupie analitycznej i do obsĹugi wydarzeĹ w czasie rzeczywistym.\n",
    "   * Inne - Facebook, Instagram, Yahoo, Quora, Pinterest, Disqus.\n",
    "    \n",
    "**9. Rozszerzenia**\n",
    "\n",
    "Python uczy stylu programowania opartego o obiektowoĹÄ (nie jest to opcja, tu wszystko jest obiektem). To z kolei pozwala na szybsze i Ĺatwiejsze tworzenie wielomoduĹowych aplikacji, co za tym idzie takĹźe dzielenie kodu w zespole projektowym.\n",
    "Tworzenie wĹasnych moduĹĂłw z dowolnego kodu jest âsuper prosteâ. W innym pliku pobieramy nasz moduĹ przez âimport moduĹâ i koniec, gotowe.\n",
    "Co wiÄcej mamy do dyspozycji peĹno gotowych moduĹĂłw i bibliotek, ktĂłre przyspieszajÄ pisanie kodu np. tworzenie GUI (PySide, PyQt, PyGTK), obliczeĹ matematycznych (NumPy, SciPy, mathplotlib), budowy aplikacji sieciowych (Django, Flask), tworzenia gier (PyGame) itd.;\n",
    "\n",
    "**10. MateriaĹy i spoĹecznoĹÄ**\n",
    "\n",
    "W Pythonie z ĹatwoĹciÄ znajdziecie niemaĹo materiaĹĂłw do nauki, co prawda gĹĂłwnie po angielsku. Dokumentacja jÄzyka jest bogata i bardzo przejrzyĹcie napisana. JeĹli chodzi o ksiÄĹźki â nie dezaktualizujÄ siÄ tak szybko, jak w przypadku technologii webowych (chociaĹź ostroĹźnie polecam ksiÄĹźki, raczej do tematĂłw z wÄskich dziedzin, gdzie znalezienie kompletnych informacji w Internecie jest po prostu trudne).\n",
    "\n",
    "Dla osĂłb poczÄtkujÄcych waĹźne jest wsparcie. Python ma aktywnÄ spoĹecznoĹÄ, takĹźe polskÄ (liczne wydarzenia, grupy na fb takie jak Python Poland, Python: Pierwsze kroki, Python szukam pracy) czy âdamskÄâ PyLadies, PyCode Carrots, Django Girls.\n",
    "\n",
    "## <a name=\"et6\"></a> 1 cecha charakterystyczna PYTHONA - wciÄcia"
   ]
  },
  {
   "cell_type": "code",
   "execution_count": 21,
   "metadata": {},
   "outputs": [
    {
     "name": "stdout",
     "output_type": "stream",
     "text": [
      "--------------------------\n",
      "2\n",
      "--------------------------\n",
      "2\n",
      "5\n",
      "--------------------------\n"
     ]
    }
   ],
   "source": [
    "\"\"\" PY-I-01 WciÄcia \"\"\"\n",
    "print(\"--------------------------\") \n",
    "a=5\n",
    "if a>3:\n",
    "    if 4<5:\n",
    "        print(2)\n",
    "    else:\n",
    "        print(3)\n",
    "else:\n",
    "    print(4)\n",
    "    print(5)  \n",
    "\n",
    "print(\"--------------------------\")\n",
    "# Fragment drugi        \n",
    "a=5\n",
    "if a>3:\n",
    "    if 4<5:\n",
    "        print(2)\n",
    "    else:\n",
    "        print(3)\n",
    "else:\n",
    "    print(4)\n",
    "print(5) \n",
    "print(\"--------------------------\")"
   ]
  },
  {
   "cell_type": "code",
   "execution_count": 22,
   "metadata": {},
   "outputs": [
    {
     "name": "stdout",
     "output_type": "stream",
     "text": [
      "----------------------------\n",
      "o\n",
      "----------------------------\n",
      "ABCxs2310-+!#o\n",
      "----------------------------\n"
     ]
    }
   ],
   "source": [
    "\"\"\" PY-I-02 WciÄcia \"\"\"\n",
    "def escape_chars(text):\n",
    "    result = []\n",
    "    for c in text:\n",
    "        if ord(c) > 255:\n",
    "            result.append (\"&#%s;\" % ord(c))\n",
    "    else:\n",
    "        result.append (c)\n",
    "    return ''.join(result)\n",
    "print(\"----------------------------\")\n",
    "print(escape_chars('ABCxs2310-+!#o'))\n",
    "print(\"----------------------------\")\n",
    "def escape_chars(text):\n",
    "    result = []\n",
    "    for c in text:\n",
    "        if ord(c) > 255:\n",
    "            result.append (\"&#%s;\" % ord(c))\n",
    "        else:\n",
    "            result.append (c)\n",
    "    return ''.join(result)\n",
    "print(escape_chars('ABCxs2310-+!#o'))\n",
    "print(\"----------------------------\")"
   ]
  },
  {
   "cell_type": "code",
   "execution_count": 23,
   "metadata": {},
   "outputs": [
    {
     "name": "stdout",
     "output_type": "stream",
     "text": [
      "[['a', 'b', 'c'], ['a', 'c', 'b'], ['b', 'a', 'c'], ['b', 'c', 'a'], ['c', 'a', 'b'], ['c', 'b', 'a']]\n"
     ]
    }
   ],
   "source": [
    "\"\"\" PY-I-03 WciÄcia \"\"\"\n",
    "def perm(l):\n",
    "        # Obliczenie listy wszystkich permutacji l\n",
    "    if len(l) <= 1:\n",
    "                  return [l]\n",
    "    r = []\n",
    "    for i in range(len(l)):\n",
    "             s = l[:i] + l[i+1:]\n",
    "             p = perm(s)\n",
    "             for x in p:\n",
    "              r.append(l[i:i+1] + x)\n",
    "    return r\n",
    "print(perm(['a','b','c']))"
   ]
  },
  {
   "cell_type": "code",
   "execution_count": 24,
   "metadata": {},
   "outputs": [
    {
     "ename": "IndentationError",
     "evalue": "unindent does not match any outer indentation level (<tokenize>, line 8)",
     "output_type": "error",
     "traceback": [
      "\u001b[1;36m  File \u001b[1;32m\"<tokenize>\"\u001b[1;36m, line \u001b[1;32m8\u001b[0m\n\u001b[1;33m    return r                # bĹÄd: niekonsekwentne wciÄcie\u001b[0m\n\u001b[1;37m    ^\u001b[0m\n\u001b[1;31mIndentationError\u001b[0m\u001b[1;31m:\u001b[0m unindent does not match any outer indentation level\n"
     ]
    }
   ],
   "source": [
    "\"\"\" PY-I-04 WciÄcia \"\"\"\n",
    " def perm(l):                       # bĹÄd: wciÄcie pierwszego wiersza\n",
    "for i in range(len(l)):             # bĹÄd: brak wciÄcia\n",
    "    s = l[:i] + l[i+1:]\n",
    "        p = perm(l[:i] + l[i+1:])   # bĹÄd: nieoczekiwane wciÄcie\n",
    "        for x in p:\n",
    "                r.append(l[i:i+1] + x)\n",
    "            return r                # bĹÄd: niekonsekwentne wciÄcie"
   ]
  },
  {
   "cell_type": "markdown",
   "metadata": {},
   "source": [
    "## <a name=\"et7\"></a> 2 cecha charakterystyczna - Brak deklaracji"
   ]
  },
  {
   "cell_type": "code",
   "execution_count": 25,
   "metadata": {},
   "outputs": [
    {
     "name": "stdout",
     "output_type": "stream",
     "text": [
      "38\n",
      "---------------------------\n",
      "3\n",
      "5\n",
      "7\n"
     ]
    }
   ],
   "source": [
    "\"\"\" PY-I-05 Brak deklaracji \"\"\"\n",
    "x = \"the answer is\"   # decyzja - x to ĹaĹcuchem\n",
    "y = 23                # decyzja - y to integer.\n",
    "x = 15                # x przestaĹ byÄ ĹaĹcuchem\n",
    "print(x + y)          # Python nie wyĹwietli bĹÄdu\n",
    "print(\"---------------------------\")\n",
    "class a:\n",
    "    def __init__(self,x):\n",
    "        self.x=x    \n",
    "    def pr(self):\n",
    "        print(self.x)\n",
    "\n",
    "b=a(3)\n",
    "b.pr()\n",
    "b.y=5\n",
    "a.y=7\n",
    "print(b.y)\n",
    "c=a(5)\n",
    "print(c.y)\n"
   ]
  },
  {
   "cell_type": "markdown",
   "metadata": {},
   "source": [
    "**SĹawetny** przykĹad:\n",
    "\n",
    "\\>>> x=1/3\n",
    "\n",
    "\\>>> x \n",
    "\n",
    "0\n",
    "\n",
    "\\>>> x=1.0/3\n",
    "\n",
    "\\>>> x\n",
    "\n",
    "0.333333333333333\n",
    "\n",
    "\n",
    "## <a name=\"et8\"></a> 3 cecha charakterystyczna - Dynamiczne gospodarowanie pamiÄciÄ"
   ]
  },
  {
   "cell_type": "code",
   "execution_count": 26,
   "metadata": {},
   "outputs": [
    {
     "name": "stdout",
     "output_type": "stream",
     "text": [
      "[1, 0, 3]\n",
      "[1, 0, 3, [2, 4, 5, [...]]]\n",
      "[2, 4, 5, [1, 0, 3, [...]]]\n"
     ]
    }
   ],
   "source": [
    "\"\"\" PY-I-06 Garbage collection \"\"\"\n",
    "a,b,c=2,\"As\",[1,2,3]\n",
    "b,a=a,b        # a=âAsâ    b=2\n",
    "d=c            # deepcopy\n",
    "c[1]=0\n",
    "print(d)        # [1, 0 , 3]\n",
    "d=[2,4,5]\n",
    "c.append(d)    # c=[1,0,3,[2,4,5], [âŚ]]] \n",
    "d.append(c)    # d=[2,4,5,[1,0,3], [âŚ]]]\n",
    "d[3][3]        # [2,4,5,[1,0,3], [âŚ]]]\n",
    "print(c)\n",
    "print(d)\n",
    "del c"
   ]
  },
  {
   "cell_type": "code",
   "execution_count": 27,
   "metadata": {},
   "outputs": [
    {
     "name": "stdout",
     "output_type": "stream",
     "text": [
      "a (1929958464) i b (1929958464) sÄ tymi samymi obiektami\n",
      "a (1929958464) i b (1929958464) majÄ te same wartoĹci\n",
      "a (1929958464) i b (1929958464) majÄ ten sam typ\n",
      "a (40184368) i b (121404952) majÄ te same wartoĹci\n",
      "a (40184368) i b (121404952) majÄ ten sam typ\n",
      "a (121402632) i b (40184408) majÄ te same wartoĹci\n",
      "a (121402632) i b (40184408) majÄ ten sam typ\n",
      "a (121402632) i b (121402632) sÄ tymi samymi obiektami\n",
      "a (121402632) i b (121402632) majÄ te same wartoĹci\n",
      "a (121402632) i b (121402632) majÄ ten sam typ\n",
      "a (121273920) i b (121273880) majÄ te same wartoĹci\n",
      "a (121273920) i b (121273880) majÄ ten sam typ\n",
      "a (1929958512) i b (1929958448) majÄ ten sam typ\n",
      "[1, 0, 3]\n",
      "a (40184408) i b (40184408) sÄ tymi samymi obiektami\n",
      "a (40184408) i b (40184408) majÄ te same wartoĹci\n",
      "a (40184408) i b (40184408) majÄ ten sam typ\n",
      "a (121308032) i b (1929958480) majÄ te same wartoĹci\n"
     ]
    }
   ],
   "source": [
    "\"\"\" PY-I-07 Garbage collection \"\"\"\n",
    "import copy\n",
    "def compare(a,b):\n",
    "   if a is b:\n",
    "      print(\"a (%8d) i b (%8d) sÄ tymi samymi obiektami\" % (id(a),id(b)))\n",
    "   if a==b:\n",
    "      print(\"a (%8d) i b (%8d) majÄ te same wartoĹci\" % (id(a), id(b)))\n",
    "   if type(a) is type(b):\n",
    "      print(\"a (%8d) i b (%8d) majÄ ten sam typ\"  % (id(a), id(b)))\n",
    "a=2\n",
    "b=3\n",
    "b=2\n",
    "compare(a,b)       \n",
    "a=[1,2,3]\n",
    "b=[1,2,3]\n",
    "compare(a,b)       \n",
    "b=[1,2,3]\n",
    "a=copy.deepcopy(b)\n",
    "compare(a,b)       \n",
    "b=a\n",
    "compare(a,b)       \n",
    "a=(1,2,3)\n",
    "b=(1,2,3)\n",
    "compare(a,b)   \n",
    "a=5\n",
    "b=1\n",
    "compare(a,b)      \n",
    "a=[1,2,3]\n",
    "b=a\n",
    "b[1]=0\n",
    "print(a)                  \n",
    "compare(a,b)       \n",
    "a=3+0J\n",
    "b=3\n",
    "compare(a,b)       "
   ]
  },
  {
   "cell_type": "markdown",
   "metadata": {},
   "source": [
    "\"Garbage collection\" w PYTHONie\n",
    "\n",
    "![title](Data/PYTHONI/PY-3.png)"
   ]
  },
  {
   "cell_type": "markdown",
   "metadata": {},
   "source": [
    "## <a name=\"et9\"></a> 4. Cecha charakterystyczna - Elegancja i przyjazny kod\n",
    "\n",
    "* Komentarze - Komentarz zaczyna siÄ od \"hasha\" pozostaĹe znaki do koĹca linii sa ignorowane.\n",
    "\n",
    "* Docstringi - JeĹźeli pierwsza linijka w procedurze, metodzie, module jest ĹaĹcuchem (ujÄtym w \"..\" lub '..') lub ĹaĹcuchem wielolinikowym (\"\"\"..\"\"\" lub '''...''') to jest traktowany jak docstring\n",
    "\n",
    "* Nazewnictwo - WielkoĹÄ liter w nazwach jest istotna. Nazwy nie mogÄ siÄ zaczynaÄ od cyfry. MogÄ zawieraÄ litery, cyfry i znak podkreĹlenia np. **Tomek  tomek  \\_tomek  \\_2\\_tomek\\_  tomek\\_2  TomeK\\_** (nie UĹťYWAJ NAZW z podwĂłjnym podkreĹleniem na poczÄtku i na koĹcu). To sÄ zarezerwowane sĹowa Pythona:\n",
    "\t**and, assert, break, class, continue, def, del, elif, else, except, exec, finally, for, from, global, if, import, in, is, lambda, not, or, pass, print, raise, return, try, while **\n",
    "\n",
    "* Kodowanie:\n",
    "    * Podstawienie =           porĂłwnanie ==.\n",
    "    * WĹrĂłd liczb uĹźywamy   +-*/% .\n",
    "    * SzczegĂłlne uĹźycie + dla ĹÄczenia ĹaĹcuchĂłw.\n",
    "    * SzczegĂłlne uĹźycie % dla formatowania ĹaĹcuchĂłw.\n",
    "    * Logiczne operatory sÄ sĹowami (and, or, not)  nie symbolami (&&, ||, !).\n",
    "    * PodstawowÄ instrukcjÄ drukowania jest \"print\"\n",
    "    * Pierwsze podstawienie pod zmiennÄ tworzy jÄ.\n",
    "    * Zmienne nie muszÄ byÄ deklarowane.\n",
    "    * Python dowiaduje siÄ o typach zmiennych od nich samych.   \n",
    "    \n",
    "* Instrukcja wielokrotnego przypoorzÄdkowania\n",
    "    * MoĹźna uĹźywaÄ wielokrotnych podstawieĹ.  \n",
    "    * Inne konstrukcje\n",
    "          >>> x++       (niedopuszczalne)\n",
    "          >>> x+=1\n",
    "          >>> y*=3+y "
   ]
  },
  {
   "cell_type": "code",
   "execution_count": 28,
   "metadata": {},
   "outputs": [
    {
     "name": "stdout",
     "output_type": "stream",
     "text": [
      "2 3\n",
      "3 2\n",
      "4 3\n"
     ]
    }
   ],
   "source": [
    "\"\"\" PY-I-08 Przyjazny kod \"\"\"\n",
    "x,y = 2,3\n",
    "print(x,y)\n",
    "x,y = y,x\n",
    "print(x,y)\n",
    "x,y,x = y,x,x+1\n",
    "print(x,y)"
   ]
  },
  {
   "cell_type": "markdown",
   "metadata": {},
   "source": [
    "#### Äwicz. \n",
    "Co bÄdzie efektem podstawienia:\n",
    "\n",
    "\\>>> x,x,x,x=1,x-1,2\\*x,2\n",
    "\n",
    "a co \n",
    "\n",
    "\\>>> x,x=1,2\n",
    "\n",
    "\\>>> x,x=x-1,2\\*x\n",
    "\n",
    "### $$\n",
    "n=100 \\\\[2mm]\n",
    "a=\\{i^2-3: 1\\leq i \\leq n, i\\bmod 5=0\\} \\\\[2mm]\n",
    "x=\\sum _{i\\in \\{1\\leq i\\leq n \\atop 3*i>2*i^2-5\\}} a_i$$"
   ]
  },
  {
   "cell_type": "code",
   "execution_count": 29,
   "metadata": {},
   "outputs": [
    {
     "name": "stdout",
     "output_type": "stream",
     "text": [
      "[22, 97, 222, 397, 622, 897, 1222, 1597, 2022, 2497, 3022, 3597, 4222, 4897, 5622, 6397, 7222, 8097, 9022, 9997]\n",
      "319\n"
     ]
    }
   ],
   "source": [
    "\"\"\" PY-I-09 Przyjazny kod - listy comprehensive \"\"\"\n",
    "n=100\n",
    "a=[i*i-3 for i in range(1,n+1) if i % 5==0]\n",
    "x=sum([a[i] for i in range(1,n+1) if 3*i>2*i*i-5])\n",
    "print(a)\n",
    "print(x)\n"
   ]
  },
  {
   "cell_type": "code",
   "execution_count": 30,
   "metadata": {},
   "outputs": [
    {
     "name": "stdout",
     "output_type": "stream",
     "text": [
      "[(3, 4, 5), (5, 12, 13), (6, 8, 10), (7, 24, 25), (8, 15, 17), (9, 12, 15), (9, 40, 41), (10, 24, 26), (11, 60, 61), (12, 16, 20), (12, 35, 37), (13, 84, 85), (14, 48, 50), (15, 20, 25), (15, 36, 39), (16, 30, 34), (16, 63, 65), (18, 24, 30), (18, 80, 82), (20, 21, 29), (20, 48, 52), (21, 28, 35), (21, 72, 75), (24, 32, 40), (24, 45, 51), (24, 70, 74), (25, 60, 65), (27, 36, 45), (28, 45, 53), (28, 96, 100), (30, 40, 50), (30, 72, 78), (32, 60, 68), (33, 44, 55), (33, 56, 65), (35, 84, 91), (36, 48, 60), (36, 77, 85), (39, 52, 65), (39, 80, 89), (40, 42, 58), (40, 75, 85), (42, 56, 70), (45, 60, 75), (48, 55, 73), (48, 64, 80), (51, 68, 85), (54, 72, 90), (57, 76, 95), (60, 63, 87), (60, 80, 100), (65, 72, 97)]\n"
     ]
    }
   ],
   "source": [
    "\"\"\" PY-I-10 Przyjazny kod - listy comprehensive\"\"\"\n",
    "n=100\n",
    "t=[(e1,e2,e3) for e1 in range (1,n) for e2 in range(e1+1,n) for e3 in range (e2+1,n+1) if e1*e1+e2*e2==e3*e3 ]\n",
    "print(t)"
   ]
  },
  {
   "cell_type": "code",
   "execution_count": 7,
   "metadata": {},
   "outputs": [
    {
     "name": "stdout",
     "output_type": "stream",
     "text": [
      "0 x 0 = 0\n",
      "0 x 1 = 0\n",
      "0 x 2 = 0\n",
      "0 x 3 = 0\n",
      "0 x 4 = 0\n",
      "0 x 5 = 0\n",
      "0 x 6 = 0\n",
      "0 x 7 = 0\n",
      "0 x 8 = 0\n",
      "0 x 9 = 0\n",
      "1 x 0 = 0\n",
      "1 x 1 = 1\n",
      "1 x 2 = 2\n",
      "1 x 3 = 3\n",
      "1 x 4 = 4\n",
      "1 x 5 = 5\n",
      "1 x 6 = 6\n",
      "1 x 7 = 7\n",
      "1 x 8 = 8\n",
      "1 x 9 = 9\n",
      "2 x 0 = 0\n",
      "2 x 1 = 2\n",
      "2 x 2 = 4\n",
      "2 x 3 = 6\n",
      "2 x 4 = 8\n",
      "2 x 5 = 10\n",
      "2 x 6 = 12\n",
      "2 x 7 = 14\n",
      "2 x 8 = 16\n",
      "2 x 9 = 18\n",
      "3 x 0 = 0\n",
      "3 x 1 = 3\n",
      "3 x 2 = 6\n",
      "3 x 3 = 9\n",
      "3 x 4 = 12\n",
      "3 x 5 = 15\n",
      "3 x 6 = 18\n",
      "3 x 7 = 21\n",
      "3 x 8 = 24\n",
      "3 x 9 = 27\n",
      "4 x 0 = 0\n",
      "4 x 1 = 4\n",
      "4 x 2 = 8\n",
      "4 x 3 = 12\n",
      "4 x 4 = 16\n",
      "4 x 5 = 20\n",
      "4 x 6 = 24\n",
      "4 x 7 = 28\n",
      "4 x 8 = 32\n",
      "4 x 9 = 36\n",
      "5 x 0 = 0\n",
      "5 x 1 = 5\n",
      "5 x 2 = 10\n",
      "5 x 3 = 15\n",
      "5 x 4 = 20\n",
      "5 x 5 = 25\n",
      "5 x 6 = 30\n",
      "5 x 7 = 35\n",
      "5 x 8 = 40\n",
      "5 x 9 = 45\n",
      "6 x 0 = 0\n",
      "6 x 1 = 6\n",
      "6 x 2 = 12\n",
      "6 x 3 = 18\n",
      "6 x 4 = 24\n",
      "6 x 5 = 30\n",
      "6 x 6 = 36\n",
      "6 x 7 = 42\n",
      "6 x 8 = 48\n",
      "6 x 9 = 54\n",
      "7 x 0 = 0\n",
      "7 x 1 = 7\n",
      "7 x 2 = 14\n",
      "7 x 3 = 21\n",
      "7 x 4 = 28\n",
      "7 x 5 = 35\n",
      "7 x 6 = 42\n",
      "7 x 7 = 49\n",
      "7 x 8 = 56\n",
      "7 x 9 = 63\n",
      "8 x 0 = 0\n",
      "8 x 1 = 8\n",
      "8 x 2 = 16\n",
      "8 x 3 = 24\n",
      "8 x 4 = 32\n",
      "8 x 5 = 40\n",
      "8 x 6 = 48\n",
      "8 x 7 = 56\n",
      "8 x 8 = 64\n",
      "8 x 9 = 72\n",
      "9 x 0 = 0\n",
      "9 x 1 = 9\n",
      "9 x 2 = 18\n",
      "9 x 3 = 27\n",
      "9 x 4 = 36\n",
      "9 x 5 = 45\n",
      "9 x 6 = 54\n",
      "9 x 7 = 63\n",
      "9 x 8 = 72\n",
      "9 x 9 = 81\n",
      "0 x 0 = 0\n",
      "0 x 1 = 0\n",
      "0 x 2 = 0\n",
      "0 x 3 = 0\n",
      "0 x 4 = 0\n",
      "0 x 5 = 0\n",
      "0 x 6 = 0\n",
      "0 x 7 = 0\n",
      "0 x 8 = 0\n",
      "0 x 9 = 0\n",
      "1 x 0 = 0\n",
      "1 x 1 = 1\n",
      "1 x 2 = 2\n",
      "1 x 3 = 3\n",
      "1 x 4 = 4\n",
      "1 x 5 = 5\n",
      "1 x 6 = 6\n",
      "1 x 7 = 7\n",
      "1 x 8 = 8\n",
      "1 x 9 = 9\n",
      "2 x 0 = 0\n",
      "2 x 1 = 2\n",
      "2 x 2 = 4\n",
      "2 x 3 = 6\n",
      "2 x 4 = 8\n",
      "2 x 5 = 10\n",
      "2 x 6 = 12\n",
      "2 x 7 = 14\n",
      "2 x 8 = 16\n",
      "2 x 9 = 18\n",
      "3 x 0 = 0\n",
      "3 x 1 = 3\n",
      "3 x 2 = 6\n",
      "3 x 3 = 9\n",
      "3 x 4 = 12\n",
      "3 x 5 = 15\n",
      "3 x 6 = 18\n",
      "3 x 7 = 21\n",
      "3 x 8 = 24\n",
      "3 x 9 = 27\n",
      "4 x 0 = 0\n",
      "4 x 1 = 4\n",
      "4 x 2 = 8\n",
      "4 x 3 = 12\n",
      "4 x 4 = 16\n",
      "4 x 5 = 20\n",
      "4 x 6 = 24\n",
      "4 x 7 = 28\n",
      "4 x 8 = 32\n",
      "4 x 9 = 36\n",
      "5 x 0 = 0\n",
      "5 x 1 = 5\n",
      "5 x 2 = 10\n",
      "5 x 3 = 15\n",
      "5 x 4 = 20\n",
      "5 x 5 = 25\n",
      "5 x 6 = 30\n",
      "5 x 7 = 35\n",
      "5 x 8 = 40\n",
      "5 x 9 = 45\n",
      "6 x 0 = 0\n",
      "6 x 1 = 6\n",
      "6 x 2 = 12\n",
      "6 x 3 = 18\n",
      "6 x 4 = 24\n",
      "6 x 5 = 30\n",
      "6 x 6 = 36\n",
      "6 x 7 = 42\n",
      "6 x 8 = 48\n",
      "6 x 9 = 54\n",
      "7 x 0 = 0\n",
      "7 x 1 = 7\n",
      "7 x 2 = 14\n",
      "7 x 3 = 21\n",
      "7 x 4 = 28\n",
      "7 x 5 = 35\n",
      "7 x 6 = 42\n",
      "7 x 7 = 49\n",
      "7 x 8 = 56\n",
      "7 x 9 = 63\n",
      "8 x 0 = 0\n",
      "8 x 1 = 8\n",
      "8 x 2 = 16\n",
      "8 x 3 = 24\n",
      "8 x 4 = 32\n",
      "8 x 5 = 40\n",
      "8 x 6 = 48\n",
      "8 x 7 = 56\n",
      "8 x 8 = 64\n",
      "8 x 9 = 72\n",
      "9 x 0 = 0\n",
      "9 x 1 = 9\n",
      "9 x 2 = 18\n",
      "9 x 3 = 27\n",
      "9 x 4 = 36\n",
      "9 x 5 = 45\n",
      "9 x 6 = 54\n",
      "9 x 7 = 63\n",
      "9 x 8 = 72\n",
      "9 x 9 = 81\n",
      "['0 x 0 = 0', '0 x 1 = 0', '0 x 2 = 0', '0 x 3 = 0', '0 x 4 = 0', '0 x 5 = 0', '0 x 6 = 0', '0 x 7 = 0', '0 x 8 = 0', '0 x 9 = 0', '1 x 0 = 0', '1 x 1 = 1', '1 x 2 = 2', '1 x 3 = 3', '1 x 4 = 4', '1 x 5 = 5', '1 x 6 = 6', '1 x 7 = 7', '1 x 8 = 8', '1 x 9 = 9', '2 x 0 = 0', '2 x 1 = 2', '2 x 2 = 4', '2 x 3 = 6', '2 x 4 = 8', '2 x 5 = 10', '2 x 6 = 12', '2 x 7 = 14', '2 x 8 = 16', '2 x 9 = 18', '3 x 0 = 0', '3 x 1 = 3', '3 x 2 = 6', '3 x 3 = 9', '3 x 4 = 12', '3 x 5 = 15', '3 x 6 = 18', '3 x 7 = 21', '3 x 8 = 24', '3 x 9 = 27', '4 x 0 = 0', '4 x 1 = 4', '4 x 2 = 8', '4 x 3 = 12', '4 x 4 = 16', '4 x 5 = 20', '4 x 6 = 24', '4 x 7 = 28', '4 x 8 = 32', '4 x 9 = 36', '5 x 0 = 0', '5 x 1 = 5', '5 x 2 = 10', '5 x 3 = 15', '5 x 4 = 20', '5 x 5 = 25', '5 x 6 = 30', '5 x 7 = 35', '5 x 8 = 40', '5 x 9 = 45', '6 x 0 = 0', '6 x 1 = 6', '6 x 2 = 12', '6 x 3 = 18', '6 x 4 = 24', '6 x 5 = 30', '6 x 6 = 36', '6 x 7 = 42', '6 x 8 = 48', '6 x 9 = 54', '7 x 0 = 0', '7 x 1 = 7', '7 x 2 = 14', '7 x 3 = 21', '7 x 4 = 28', '7 x 5 = 35', '7 x 6 = 42', '7 x 7 = 49', '7 x 8 = 56', '7 x 9 = 63', '8 x 0 = 0', '8 x 1 = 8', '8 x 2 = 16', '8 x 3 = 24', '8 x 4 = 32', '8 x 5 = 40', '8 x 6 = 48', '8 x 7 = 56', '8 x 8 = 64', '8 x 9 = 72', '9 x 0 = 0', '9 x 1 = 9', '9 x 2 = 18', '9 x 3 = 27', '9 x 4 = 36', '9 x 5 = 45', '9 x 6 = 54', '9 x 7 = 63', '9 x 8 = 72', '9 x 9 = 81']\n",
      "0 x 0 = 0 0 x 1 = 0 0 x 2 = 0 0 x 3 = 0 0 x 4 = 0 0 x 5 = 0 0 x 6 = 0 0 x 7 = 0 0 x 8 = 0 0 x 9 = 0 1 x 0 = 0 1 x 1 = 1 1 x 2 = 2 1 x 3 = 3 1 x 4 = 4 1 x 5 = 5 1 x 6 = 6 1 x 7 = 7 1 x 8 = 8 1 x 9 = 9 2 x 0 = 0 2 x 1 = 2 2 x 2 = 4 2 x 3 = 6 2 x 4 = 8 2 x 5 = 10 2 x 6 = 12 2 x 7 = 14 2 x 8 = 16 2 x 9 = 18 3 x 0 = 0 3 x 1 = 3 3 x 2 = 6 3 x 3 = 9 3 x 4 = 12 3 x 5 = 15 3 x 6 = 18 3 x 7 = 21 3 x 8 = 24 3 x 9 = 27 4 x 0 = 0 4 x 1 = 4 4 x 2 = 8 4 x 3 = 12 4 x 4 = 16 4 x 5 = 20 4 x 6 = 24 4 x 7 = 28 4 x 8 = 32 4 x 9 = 36 5 x 0 = 0 5 x 1 = 5 5 x 2 = 10 5 x 3 = 15 5 x 4 = 20 5 x 5 = 25 5 x 6 = 30 5 x 7 = 35 5 x 8 = 40 5 x 9 = 45 6 x 0 = 0 6 x 1 = 6 6 x 2 = 12 6 x 3 = 18 6 x 4 = 24 6 x 5 = 30 6 x 6 = 36 6 x 7 = 42 6 x 8 = 48 6 x 9 = 54 7 x 0 = 0 7 x 1 = 7 7 x 2 = 14 7 x 3 = 21 7 x 4 = 28 7 x 5 = 35 7 x 6 = 42 7 x 7 = 49 7 x 8 = 56 7 x 9 = 63 8 x 0 = 0 8 x 1 = 8 8 x 2 = 16 8 x 3 = 24 8 x 4 = 32 8 x 5 = 40 8 x 6 = 48 8 x 7 = 56 8 x 8 = 64 8 x 9 = 72 9 x 0 = 0 9 x 1 = 9 9 x 2 = 18 9 x 3 = 27 9 x 4 = 36 9 x 5 = 45 9 x 6 = 54 9 x 7 = 63 9 x 8 = 72 9 x 9 = 81\n"
     ]
    }
   ],
   "source": [
    "# -*- coding: utf-8 -*-\n",
    "\"\"\" PY-I-11 Tabliczka mnoĹźenia\"\"\"\n",
    "# tabliczka mnoĹźenia\n",
    "cyfry=(0,1,2,3,4,5,6,7,8,9)\n",
    "for a in cyfry:\n",
    "    for b in cyfry:\n",
    "        print('%s x %s = %s' % (a,b,a*b))\n",
    "        \n",
    "[print('%s x %s = %s' % (a,b,a*b)) for a in (0,1,2,3,4,5,6,7,8,9) for b in (0,1,2,3,4,5,6,7,8,9)]\n",
    "        \n",
    "print(['%s x %s = %s' % (a,b,a*b) for a in (0,1,2,3,4,5,6,7,8,9) for b in (0,1,2,3,4,5,6,7,8,9)])\n",
    "\n",
    "print(*['%s x %s = %s' % (a,b,a*b) for a in (0,1,2,3,4,5,6,7,8,9) for b in (0,1,2,3,4,5,6,7,8,9)])\n"
   ]
  },
  {
   "cell_type": "code",
   "execution_count": 6,
   "metadata": {},
   "outputs": [
    {
     "name": "stdout",
     "output_type": "stream",
     "text": [
      "Ile to jest 72 x 0 = ?0\n",
      "Ile to jest 38 x 6 = ?228\n",
      "Ile to jest 86 x 3 = ?258\n",
      "Ile to jest 5 x 3 = ?15\n",
      "Ile to jest 56 x 5 = ?280\n",
      "Ile to jest 32 x 9 = ?288\n",
      "Ile to jest 11 x 8 = ?88\n",
      "Ile to jest 8 x 5 = ?40\n",
      "Ile to jest 40 x 9 = ?360\n",
      "Ile to jest 15 x 8 = ?120\n",
      "47.94573712348938\n"
     ]
    }
   ],
   "source": [
    "\"\"\" PY-I-12 Komputer Ci prawdÄ powie \"\"\"\n",
    "from random import randint\n",
    "import time as tm \n",
    "t=0\n",
    "for i in range(10):\n",
    "    a,b=randint(0,99), randint(0,9)\n",
    "    wyn, wynt=a*b,-1\n",
    "    dt=tm.time()\n",
    "    while wyn!=wynt:\n",
    "        wynt=int(input(\"Ile to jest %s x %s = ?\" % (a,b)))        \n",
    "    t+=tm.time()-dt\n",
    "\n",
    "# ######### DIAGNOZA\n",
    "print(t)    \n",
    "if t>200: \n",
    "    print(\"BaĹwan\")    \n",
    "elif t>150:\n",
    "    print(\"Matematyczne zero\")\n",
    "elif t>100:\n",
    "    print(\"NieĹşle\")\n",
    "elif t>50:\n",
    "    print(\"Doskonale\")\n",
    "else:\n",
    "    print(\"Geniusz albo profesor\")\n",
    "    "
   ]
  },
  {
   "cell_type": "markdown",
   "metadata": {},
   "source": [
    "### $$ F_n=\\left\\{\\begin{array}{ll} 0, & n=0, \\\\\n",
    "                     1, & n=1, \\\\\n",
    "                     F_{n-1}+F_{n-2}, & n\\geq 2, \\end{array}\\right. $$"
   ]
  },
  {
   "cell_type": "code",
   "execution_count": 31,
   "metadata": {},
   "outputs": [
    {
     "name": "stdout",
     "output_type": "stream",
     "text": [
      "[0, 1, 1, 2, 3, 5, 8, 13, 21, 34, 55]\n"
     ]
    }
   ],
   "source": [
    "\"\"\" PY-I-13 Przyjazny kod \"\"\"\n",
    "def Fib(n):\n",
    "    tab=[0,1]\n",
    "    for i in range(1,n):\n",
    "        tab.append(tab[-1]+tab[-2])        \n",
    "    return tab\n",
    "print(Fib(10))"
   ]
  },
  {
   "cell_type": "code",
   "execution_count": 32,
   "metadata": {},
   "outputs": [
    {
     "name": "stdout",
     "output_type": "stream",
     "text": [
      "[0, 1, 1, 2, 3, 5, 8, 13, 21, 34, 55]\n"
     ]
    }
   ],
   "source": [
    "\"\"\" PY-I-14 Przyjazny kod \"\"\"\n",
    "fib = [0,1]\n",
    "[fib.append(fib[-1] +fib[-2]) for i in range(9)]\n",
    "print(fib)"
   ]
  },
  {
   "cell_type": "markdown",
   "metadata": {},
   "source": [
    "#### Cwicz. \n",
    "Co by byĹo gdyby w powyĹźszym przykĹadzie zamiast _fib_ wydrukowaÄ listÄ _\\[fib.append(fib[-1] +fib[-2]) for i in range(9)\\]_?\n",
    "\n",
    "#### Cwicz. \n",
    "Napisz funkcjÄ (program) ktĂłry liczy uogĂłlnony ciÄg Fibonacciego zdefiniowany przez\n",
    "\n",
    "$$ F_n(p)=\\left\\{\\begin{array}{ll} 0, & n=0,1,\\ldots p-1, \\\\\n",
    "                     1, & n=p, \\\\\n",
    "                     F_{n-1}+F_{n-2}+\\ldots +F_{n-p}, & n\\geq p, \\end{array}\\right. $$\n",
    "                     \n",
    "#### Äwicz. \n",
    "Co bÄdzie efektem tej instrukcji w wyn:\n",
    "\n",
    "#### $$>>> wyn=[f\\, for\\, f\\, in\\, (lambda\\, x:\\, x,\\, lambda\\, x:\\, x**2-1,\\, lambda\\, x:\\, x**2-2*x+2)\\, if\\, f(1)\\, ==\\, 1][1](0)$$\n",
    "\n",
    "\n",
    "## <a name=\"et10\"></a> 5 cecha charakterystyczna - Bogactwo typĂłw danych"
   ]
  },
  {
   "cell_type": "code",
   "execution_count": 33,
   "metadata": {},
   "outputs": [
    {
     "name": "stdout",
     "output_type": "stream",
     "text": [
      "<class 'int'>\n",
      "<class 'int'>\n",
      "<class 'str'>\n",
      "123 <class 'int'> {(1, 2), 1.25, 1, 3, 2, 'u'} 123.10000000000349 as'd'fa\n",
      "<class 'int'> <class 'type'> <class 'set'> <class 'float'> <class 'str'>\n",
      "<class 'type'>\n",
      "False True\n",
      "<class 'str'>\n",
      "<class 'str'>\n",
      "<class 'int'>\n",
      "<class 'complex'>\n",
      "<class 'float'>\n",
      "<class 'list'>\n",
      "<class 'tuple'>\n",
      "<class 'dict'>\n",
      "<class 'type'>\n"
     ]
    }
   ],
   "source": [
    "\"\"\" PY-I-15 Bogactwo typĂłw \"\"\"\n",
    "import types\n",
    "print(type(12345))\n",
    "print(type(44559999999))\n",
    "print(type(\"Ala i As\"))\n",
    "a,b,c,d,e=123,int,set([3,'u',(1,2),1.25,1,2]), 123.1+3.5e-12, \"as'd'fa\"\n",
    "print(a,b,c,d,e)\n",
    "print(type(a),type(b),type(c),type(d),type(e))\n",
    "class a:\n",
    "    def __init__(self):\n",
    "        self=(\"To\",3)\n",
    "print(type(a))\n",
    "a=123.55\n",
    "print(isinstance(a,str), isinstance(a,float))\n",
    "print(type(''))\n",
    "s = 'xyz'\n",
    "print(type(s))\n",
    "print(type(100))\n",
    "# print(type(32L))\n",
    "print(type(0+0j))\n",
    "print(type(0.0))\n",
    "print(type([]))\n",
    "print(type(()))\n",
    "print(type({}))\n",
    "print(type(type))"
   ]
  },
  {
   "cell_type": "markdown",
   "metadata": {},
   "source": [
    "TYPY \"JÄDRA\" PYTHONA:\n",
    "\n",
    "1. mutowalne:\n",
    "* NONE\n",
    "* liczby:\n",
    "    * int - caĹkowite (dawniej byĹ teĹź typ long)\n",
    "    * float - zmiennoprzecinkowe\n",
    "    * complex - zespolone\n",
    "    * bool - logiczne {True, False}\n",
    "    * frozenset - zbiory\n",
    "* tuple - listy\n",
    "2. niemutowalne\n",
    "* str - ĹaĹcuchy \n",
    "* tuple - krotki\n",
    "* xrange (range)\n",
    "* set - zbiory\n",
    "3. dict - SĹowniki\n",
    "4. file - pliki\n",
    "5. WywoĹywalne: object, types.Bultin-FunctionType, types.Bultin-MethodType, types.FunctionType, types.InstanceType, types.MethodType, types.UnboundedMethodType, types.Iterator \n",
    "6. types.ModuleType - moduĹy\n",
    "7. type - typy\n",
    "\n",
    "\n"
   ]
  },
  {
   "cell_type": "code",
   "execution_count": 34,
   "metadata": {},
   "outputs": [
    {
     "name": "stdout",
     "output_type": "stream",
     "text": [
      "35501234.0\n",
      "(<class 'ValueError'>, ValueError('complex() arg is a malformed string',), <traceback object at 0x073C7B70>)\n",
      "(<class 'TypeError'>, TypeError('an integer is required (got type str)',), <traceback object at 0x073C7B70>)\n",
      "1234+3.55E11/pow(10,4)\n",
      "(<class 'TypeError'>, TypeError('ord() expected a character, but string of length 22 found',), <traceback object at 0x073C7B70>)\n",
      "49\n",
      "('1', '2', '3', '4', '+', '3', '.', '5', '5', 'E', '1', '1', '/', 'p', 'o', 'w', '(', '1', '0', ',', '4', ')')\n",
      "123\n",
      "('1', '2', '3')\n",
      "3.5\n",
      "3\n",
      "(3+0j)\n",
      "149\n",
      "10996\n"
     ]
    }
   ],
   "source": [
    "\"\"\" PY-I-16 Bogactwo typĂłw \"\"\"\n",
    "import sys\n",
    "a=\"1234+3.55E11/pow(10,4)\"\n",
    "print(eval(a))\n",
    "try:\n",
    "    print(complex(a))\n",
    "except:\n",
    "    print(sys.exc_info())\n",
    "try:\n",
    "    print(chr(a))\n",
    "except:\n",
    "    print(sys.exc_info())\n",
    "print(a)\n",
    "try:\n",
    "    print(ord(a))\n",
    "except:\n",
    "    print(sys.exc_info())    \n",
    "#  print(32L)\n",
    "print(ord(a[0]))\n",
    "print(tuple(a))\n",
    "a=\"123\"\n",
    "print(str(int(a)))\n",
    "print(str(tuple(a)))\n",
    "a=3.5-2.32E-3J\n",
    "print(a.real)\n",
    "print(int(a.real))\n",
    "print(complex(int(a.real)))\n",
    "a=\"10010101\"\n",
    "l=int(a,2)\n",
    "print(l)\n",
    "a=\"2af4\"\n",
    "l=int(a,16)\n",
    "print(l)"
   ]
  }
 ],
 "metadata": {
  "kernelspec": {
   "display_name": "Python 3",
   "language": "python",
   "name": "python3"
  },
  "language_info": {
   "codemirror_mode": {
    "name": "ipython",
    "version": 3
   },
   "file_extension": ".py",
   "mimetype": "text/x-python",
   "name": "python",
   "nbconvert_exporter": "python",
   "pygments_lexer": "ipython3",
   "version": "3.6.4"
  }
 },
 "nbformat": 4,
 "nbformat_minor": 2
}
