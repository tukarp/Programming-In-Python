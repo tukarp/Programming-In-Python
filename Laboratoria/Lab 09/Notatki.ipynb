{
  "cells": [
    {
      "cell_type": "markdown",
      "metadata": {},
      "source": [
        "# Laboratorium 09"
      ]
    },
    {
      "cell_type": "markdown",
      "metadata": {},
      "source": [
        "## Notatki"
      ]
    },
    {
      "cell_type": "markdown",
      "metadata": {},
      "source": [
        "### Klasy"
      ]
    },
    {
      "cell_type": "code",
      "execution_count": 14,
      "metadata": {
        "trusted": true
      },
      "outputs": [
        {
          "name": "stdout",
          "output_type": "stream",
          "text": [
            "Metoda instancji od argumentów (Hello, 1, [2, 3]):\n",
            "<__main__.Class object at 0x8ff950> Hello 1 [2, 3]\n",
            "None\n"
          ]
        }
      ],
      "source": [
        "# Definicja klasy\n",
        "class Class:\n",
        "    # Definicja metod klasy\n",
        "    def method(*args):\n",
        "        print(*args)\n",
        "\n",
        "# Utowrzenie obiektu klasy\n",
        "instance = Class()\n",
        "\n",
        "# Wyświetlenie instancji od argumentów (Hello, 1, [2, 3])\n",
        "print(\"Metoda instancji od argumentów (Hello, 1, [2, 3]):\")\n",
        "print(instance.method(\"Hello\", 1, [2, 3]))"
      ]
    },
    {
      "cell_type": "code",
      "execution_count": 18,
      "metadata": {
        "trusted": true
      },
      "outputs": [
        {
          "name": "stdout",
          "output_type": "stream",
          "text": [
            "Wartość x instancji: 20\n"
          ]
        }
      ],
      "source": [
        "# Definicja klasy\n",
        "class Class:\n",
        "    # Definicja argumentów klasy\n",
        "    x = 10\n",
        "    \n",
        "    # Definicja metod klasy\n",
        "    def method(self):\n",
        "        return self.x\n",
        "\n",
        "# Utowrzenie obiektu klasy\n",
        "instance = Class()\n",
        "\n",
        "# Zmienienie wartości argumentu\n",
        "instance.x = 20\n",
        "\n",
        "# Wyświetlenie wartości argumentu\n",
        "print(f\"Wartość x instancji: {instance.method()}\")"
      ]
    },
    {
      "cell_type": "code",
      "execution_count": 24,
      "metadata": {
        "trusted": true
      },
      "outputs": [
        {
          "name": "stdout",
          "output_type": "stream",
          "text": [
            "Wszystkie właściwości i metody klasy Class:\n"
          ]
        },
        {
          "data": {
            "text/plain": [
              "['__class__',\n",
              " '__delattr__',\n",
              " '__dict__',\n",
              " '__dir__',\n",
              " '__doc__',\n",
              " '__eq__',\n",
              " '__format__',\n",
              " '__ge__',\n",
              " '__getattribute__',\n",
              " '__getstate__',\n",
              " '__gt__',\n",
              " '__hash__',\n",
              " '__init__',\n",
              " '__init_subclass__',\n",
              " '__le__',\n",
              " '__lt__',\n",
              " '__module__',\n",
              " '__ne__',\n",
              " '__new__',\n",
              " '__reduce__',\n",
              " '__reduce_ex__',\n",
              " '__repr__',\n",
              " '__setattr__',\n",
              " '__sizeof__',\n",
              " '__str__',\n",
              " '__subclasshook__',\n",
              " '__weakref__',\n",
              " 'method',\n",
              " 'x']"
            ]
          },
          "execution_count": 24,
          "metadata": {},
          "output_type": "execute_result"
        }
      ],
      "source": [
        "print(\"Wszystkie właściwości i metody klasy Class:\")\n",
        "dir(Class)"
      ]
    },
    {
      "cell_type": "code",
      "execution_count": 25,
      "metadata": {
        "trusted": true
      },
      "outputs": [
        {
          "name": "stdout",
          "output_type": "stream",
          "text": [
            "Wartość number instancji: <__main__.Class object at 0x2584dc0>\n"
          ]
        }
      ],
      "source": [
        "# Definicja klasy\n",
        "class Class:\n",
        "    # Definicja konstruktora i argumentów klasy\n",
        "    def __init__(self, char, number):\n",
        "        self.number = number\n",
        "        self.char = char\n",
        "\n",
        "# Utowrzenie obiektu klasy z konstruktorem\n",
        "instance = Class(\"a\", 100)\n",
        "\n",
        "# Zmienienie wartości argumentu\n",
        "instance.x = 20\n",
        "\n",
        "# Wyświetlenie wartości argumentów klasy\n",
        "print(f\"Wartość number instancji: {instance}\")"
      ]
    },
    {
      "cell_type": "code",
      "execution_count": 31,
      "metadata": {
        "trusted": true
      },
      "outputs": [
        {
          "name": "stdout",
          "output_type": "stream",
          "text": [
            "4 5\n",
            "Wartość pola prostokąta: 20\n",
            "Wartość obwodu prostokąta: 18\n"
          ]
        }
      ],
      "source": [
        "# Definicja klasy\n",
        "class Rectangle:\n",
        "    # Definicja konstruktora i argumentów klasy\n",
        "    def __init__(self, a, b):\n",
        "        self.length = a\n",
        "        self.width = b\n",
        "        \n",
        "        print(self.length, self.width)\n",
        "            \n",
        "    def pole(self):\n",
        "        return self.length * self.width\n",
        "    \n",
        "    def circumference(self):\n",
        "        return self.length + self.width + self.length + self.width\n",
        "    \n",
        "\n",
        "# Utowrzenie obiektu klasy z konstruktorem\n",
        "rectangle = Rectangle(4, 5)\n",
        "\n",
        "# Zmienienie wartości argumentu\n",
        "\n",
        "\n",
        "# Wyświetlenie wartości argumentów klasy\n",
        "print(f\"Wartość pola prostokąta: {rectangle.pole()}\")\n",
        "print(f\"Wartość obwodu prostokąta: {rectangle.circumference()}\")"
      ]
    },
    {
      "cell_type": "code",
      "execution_count": 41,
      "metadata": {
        "trusted": true
      },
      "outputs": [
        {
          "name": "stdout",
          "output_type": "stream",
          "text": [
            "\n",
            "Marka: Audi,\n",
            "Model: A3,\n",
            "Rok produkcji: 2012,\n",
            "Przebieg: 100000km.\n",
            "        \n"
          ]
        }
      ],
      "source": [
        "# Definicja klasy car\n",
        "class Car:\n",
        "    # Definicja argumentów klasy i konstruktora\n",
        "    def __init__(self, brand, model, year):\n",
        "        self.brand = brand\n",
        "        self.model = model\n",
        "        self.year = year\n",
        "        self.mileage = 0\n",
        "\n",
        "    def info(self):\n",
        "        print(f\"\"\"\n",
        "Marka: {self.brand},\n",
        "Model: {self.model},\n",
        "Rok produkcji: {self.year},\n",
        "Przebieg: {self.mileage}km.\n",
        "        \"\"\")\n",
        "        \n",
        "    def drive(self, distance):\n",
        "        self.mileage += distance\n",
        "\n",
        "# Utowrzenie obiektu klasy Car przez konstruktorem\n",
        "car = Car(\"Audi\", \"A3\", 2012)\n",
        "\n",
        "# Przejechanie konkretnego dystansu przez samochód\n",
        "car.drive(100000)\n",
        "\n",
        "# Wyświetlenie wartości obiektu car\n",
        "car.info()"
      ]
    },
    {
      "cell_type": "code",
      "execution_count": 53,
      "metadata": {
        "trusted": true
      },
      "outputs": [
        {
          "name": "stdout",
          "output_type": "stream",
          "text": [
            "[3;5]\n",
            "[9;15]\n"
          ]
        }
      ],
      "source": [
        "# Definicja klasy \n",
        "class Vector:\n",
        "    def __init__(self,x, y):\n",
        "        self.x = x\n",
        "        self.y = y\n",
        "    \n",
        "    def __str__(self):\n",
        "        return \"[{0.x};{0.y}]\".format(self)\n",
        "    \n",
        "    def __mul__(self, number):\n",
        "        return Vector(self.x * number, self.y * number)\n",
        "\n",
        "vector = Vector(3, 5)\n",
        "print(vector)\n",
        "print(vector * 3)"
      ]
    },
    {
      "cell_type": "markdown",
      "metadata": {},
      "source": [
        "### Funkcje"
      ]
    },
    {
      "cell_type": "code",
      "execution_count": 57,
      "metadata": {
        "trusted": true
      },
      "outputs": [
        {
          "name": "stdout",
          "output_type": "stream",
          "text": [
            "\n",
            "            Funkcje\n",
            "• __add__(y)      <=> x + y\n",
            "• __sub__(y)      <=> x - y\n",
            "• __mul__(y)      <=> x * y\n",
            "• __pow__(y)      <=> x**y\n",
            "• __truediv__(y)  <=> x / y\n",
            "• __mod__(y)      <=> x % y\n",
            "• __floordiv__(y) <=> x // y\n",
            "# ------------------------\n",
            "• __add__ (+)       --> __radd__\n",
            "• __sub__ (-)       --> __rsub__\n",
            "• __mul__ (*)       --> __rmul__\n",
            "• __pow__ (**)      --> __rpow__\n",
            "• __mod__ (%)       --> __rmod__\n",
            "• __truediv__ (/)   --> __rtruediv__\n",
            "• __floordiv__ (//) --> __rfloordiv__\n",
            "\n"
          ]
        }
      ],
      "source": [
        "print(\"\"\"\n",
        "            Funkcje\n",
        "• __add__(y)      <=> x + y\n",
        "• __sub__(y)      <=> x - y\n",
        "• __mul__(y)      <=> x * y\n",
        "• __pow__(y)      <=> x**y\n",
        "• __truediv__(y)  <=> x / y\n",
        "• __mod__(y)      <=> x % y\n",
        "• __floordiv__(y) <=> x // y\n",
        "# ------------------------\n",
        "• __add__ (+)       --> __radd__\n",
        "• __sub__ (-)       --> __rsub__\n",
        "• __mul__ (*)       --> __rmul__\n",
        "• __pow__ (**)      --> __rpow__\n",
        "• __mod__ (%)       --> __rmod__\n",
        "• __truediv__ (/)   --> __rtruediv__\n",
        "• __floordiv__ (//) --> __rfloordiv__\n",
        "\"\"\")"
      ]
    },
    {
      "cell_type": "code",
      "execution_count": 50,
      "metadata": {
        "trusted": true
      },
      "outputs": [
        {
          "name": "stdout",
          "output_type": "stream",
          "text": [
            "2 + 3 = 5\n",
            "(2).__add__(3) = 5\n",
            "int.__add__(2, 3) = 5\n"
          ]
        }
      ],
      "source": [
        "print(f\"2 + 3 = {2 + 3}\")\n",
        "print(f\"(2).__add__(3) = {(2).__add__(3)}\")\n",
        "print(f\"int.__add__(2, 3) = {int.__add__(2, 3)}\")"
      ]
    },
    {
      "cell_type": "code",
      "execution_count": 54,
      "metadata": {
        "trusted": true
      },
      "outputs": [
        {
          "name": "stdout",
          "output_type": "stream",
          "text": [
            "2 * 3 = 6\n",
            "(2).__mul__(3) = 6\n",
            "int.__mul__(2, 3) = 6\n"
          ]
        }
      ],
      "source": [
        "print(f\"2 * 3 = {2 * 3}\")\n",
        "print(f\"(2).__mul__(3) = {(2).__mul__(3)}\")\n",
        "print(f\"int.__mul__(2, 3) = {int.__mul__(2, 3)}\")"
      ]
    },
    {
      "cell_type": "markdown",
      "metadata": {},
      "source": [
        "### Porównanie czasów wykonywania"
      ]
    },
    {
      "cell_type": "code",
      "execution_count": 72,
      "metadata": {
        "trusted": true
      },
      "outputs": [
        {
          "ename": "<class 'TypeError'>",
          "evalue": "'float' object is not callable",
          "output_type": "error",
          "traceback": [
            "\u001b[0;31m---------------------------------------------------------------------------\u001b[0m",
            "\u001b[0;31mTypeError\u001b[0m                                 Traceback (most recent call last)",
            "Cell \u001b[0;32mIn[72], line 12\u001b[0m\n\u001b[1;32m     10\u001b[0m \u001b[38;5;28;01mfor\u001b[39;00m i \u001b[38;5;129;01min\u001b[39;00m \u001b[38;5;28mlist\u001b[39m:\n\u001b[1;32m     11\u001b[0m     squares\u001b[38;5;241m.\u001b[39mappend(i\u001b[38;5;241m*\u001b[39m\u001b[38;5;241m*\u001b[39m\u001b[38;5;241m2\u001b[39m)\n\u001b[0;32m---> 12\u001b[0m \u001b[38;5;28mprint\u001b[39m(\u001b[43mtime\u001b[49m\u001b[43m(\u001b[49m\u001b[43m)\u001b[49m \u001b[38;5;241m-\u001b[39m time)\n\u001b[1;32m     14\u001b[0m time \u001b[38;5;241m=\u001b[39m time()\n\u001b[1;32m     15\u001b[0m [i\u001b[38;5;241m*\u001b[39m\u001b[38;5;241m*\u001b[39m\u001b[38;5;241m2\u001b[39m \u001b[38;5;28;01mfor\u001b[39;00m i \u001b[38;5;129;01min\u001b[39;00m \u001b[38;5;28mlist\u001b[39m]\n",
            "\u001b[0;31mTypeError\u001b[0m: 'float' object is not callable"
          ]
        }
      ],
      "source": [
        "from time import time\n",
        "\n",
        "list1 = []\n",
        "for i in range (1, 10001):\n",
        "    list1.append(i)\n",
        "\n",
        "# 1\n",
        "time = time()\n",
        "squares = []\n",
        "for i in list:\n",
        "    squares.append(i**2)\n",
        "print(time() - time)\n",
        "\n",
        "time = time()\n",
        "[i**2 for i in list]\n",
        "print(time() - time)\n",
        "\n",
        "time = time()\n",
        "list(map(lambda i:i**2, list))\n",
        "print(time() - time)\n",
        "\n",
        "time = time()\n",
        "list(map(().__rpow__, list))\n",
        "print(time() - time)"
      ]
    },
    {
      "cell_type": "code",
      "execution_count": 77,
      "metadata": {
        "trusted": true
      },
      "outputs": [
        {
          "data": {
            "text/plain": [
              "6"
            ]
          },
          "execution_count": 77,
          "metadata": {},
          "output_type": "execute_result"
        }
      ],
      "source": [
        "class Master:\n",
        "    x = 2\n",
        "    \n",
        "    def method1(self):\n",
        "        return self.x ** 2\n",
        "    \n",
        "    def method2(self):\n",
        "        return self.x * 4\n",
        "    \n",
        "class Subordinate(Master):\n",
        "    def method1(self):\n",
        "        return self.x * 3\n",
        "    \n",
        "x = Subordinate()\n",
        "x.method1()"
      ]
    },
    {
      "cell_type": "code",
      "execution_count": 79,
      "metadata": {
        "trusted": true
      },
      "outputs": [
        {
          "data": {
            "text/plain": [
              "True"
            ]
          },
          "execution_count": 79,
          "metadata": {},
          "output_type": "execute_result"
        }
      ],
      "source": [
        "isinstance(x, Master)"
      ]
    },
    {
      "cell_type": "code",
      "execution_count": 89,
      "metadata": {
        "trusted": true
      },
      "outputs": [
        {
          "name": "stdout",
          "output_type": "stream",
          "text": [
            "[3;-1]\n",
            "[-1;7]\n",
            "[2;-12]\n",
            "[15;25]\n"
          ]
        }
      ],
      "source": [
        "\n",
        "class Vector:\n",
        "    def __init__(self,x, y):\n",
        "        self.x = x\n",
        "        self.y = y\n",
        "    \n",
        "    def __str__(self):\n",
        "        return \"[{0.x};{0.y}]\".format(self)\n",
        "    \n",
        "    def __add__(self, vector):\n",
        "        return Vector(self.x + vector.x, self.y + vector.y)\n",
        "        \n",
        "    def __sub__(self, vector):\n",
        "        return Vector(self.x - vector.x, self.y - vector.y)\n",
        "\n",
        "    def __mul__(self, number):\n",
        "        if isinstance(number, Vector):\n",
        "            return Vector(self.x * number.x, self.y * number.y)\n",
        "        else:\n",
        "            return Vector(self.x * number, self.y * number)\n",
        "    \n",
        "    def __rmul__(self, number):\n",
        "        return Vector(self.x * number, self.y * number)\n",
        "    \n",
        "vector1 = Vector(1, 3)\n",
        "vector2 = Vector(2, -4)\n",
        "print(vector1 + vector2)\n",
        "print(vector1 - vector2)\n",
        "print(vector1 * vector2)\n",
        "print(vector * 5)\n",
        "# PD\n",
        "# iloczyn wektorowy\n",
        "# [x1;y1] . [x2; y2] = x1 * y2 - x2 * y1\n",
        "# A = |x1 y1|\n",
        "#     |x2 y2|\n",
        "# det(A) = x1 * y2 - x2 * y1"
      ]
    },
    {
      "cell_type": "code",
      "execution_count": 91,
      "metadata": {
        "trusted": true
      },
      "outputs": [
        {
          "name": "stdout",
          "output_type": "stream",
          "text": [
            "-13\n"
          ]
        }
      ],
      "source": [
        "class Vector_v(Vector):\n",
        "    def __mul__(self, number):\n",
        "        if isinstance(number, Vector):\n",
        "            return self.x * number.y - self.y * number.x\n",
        "        else:\n",
        "            return Vector(self.x * number, self.y * number)\n",
        "\n",
        "vector_v1 = Vector_v(3, 5)\n",
        "vector_v2 = Vector_v(5, 4)\n",
        "print(vector_v1 * vector_v2)"
      ]
    }
  ],
  "metadata": {
    "kernelspec": {
      "display_name": "Python (Pyodide)",
      "language": "python",
      "name": "python"
    },
    "language_info": {
      "codemirror_mode": {
        "name": "python",
        "version": 3
      },
      "file_extension": ".py",
      "mimetype": "text/x-python",
      "name": "python",
      "nbconvert_exporter": "python",
      "pygments_lexer": "ipython3",
      "version": "3.8"
    }
  },
  "nbformat": 4,
  "nbformat_minor": 4
}
