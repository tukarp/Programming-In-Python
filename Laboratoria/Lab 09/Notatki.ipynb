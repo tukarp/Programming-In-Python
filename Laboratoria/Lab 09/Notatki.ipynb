{
  "cells": [
    {
      "cell_type": "markdown",
      "metadata": {},
      "source": [
        "# Laboratorium 09"
      ]
    },
    {
      "cell_type": "markdown",
      "metadata": {},
      "source": [
        "## Notatki"
      ]
    },
    {
      "cell_type": "markdown",
      "metadata": {},
      "source": [
        "### Klasy"
      ]
    },
    {
      "cell_type": "code",
      "execution_count": 1,
      "metadata": {
        "trusted": true
      },
      "outputs": [
        {
          "name": "stdout",
          "output_type": "stream",
          "text": [
            "Metoda instancji od argumentów (Hello, 1, [2, 3]):\n",
            "<__main__.Class object at 0x7fd004ab9c00> Hello 1 [2, 3]\n",
            "None\n"
          ]
        }
      ],
      "source": [
        "# Definicja klasy Class\n",
        "class Class:\n",
        "    # Definicja metod klasy\n",
        "    def method(*args):\n",
        "        print(*args)\n",
        "\n",
        "# Utowrzenie obiektu klasy Class\n",
        "instance = Class()\n",
        "\n",
        "# Wyświetlenie instancji od argumentów (Hello, 1, [2, 3])\n",
        "print(\"Metoda instancji od argumentów (Hello, 1, [2, 3]):\")\n",
        "print(instance.method(\"Hello\", 1, [2, 3]))"
      ]
    },
    {
      "cell_type": "code",
      "execution_count": 2,
      "metadata": {
        "trusted": true
      },
      "outputs": [
        {
          "name": "stdout",
          "output_type": "stream",
          "text": [
            "Wartość x instancji: 20\n"
          ]
        }
      ],
      "source": [
        "# Definicja klasy Class\n",
        "class Class:\n",
        "    # Definicja argumentów klasy\n",
        "    x = 10\n",
        "    \n",
        "    # Definicja metod klasy\n",
        "    def method(self):\n",
        "        return self.x\n",
        "\n",
        "# Utowrzenie obiektu klasy Class\n",
        "instance = Class()\n",
        "\n",
        "# Zmienienie wartości argumentu\n",
        "instance.x = 20\n",
        "\n",
        "# Wyświetlenie wartości argumentu\n",
        "print(f\"Wartość x instancji: {instance.method()}\")"
      ]
    },
    {
      "cell_type": "code",
      "execution_count": 3,
      "metadata": {
        "trusted": true
      },
      "outputs": [
        {
          "name": "stdout",
          "output_type": "stream",
          "text": [
            "Wszystkie właściwości i metody klasy Class:\n"
          ]
        },
        {
          "data": {
            "text/plain": [
              "['__class__',\n",
              " '__delattr__',\n",
              " '__dict__',\n",
              " '__dir__',\n",
              " '__doc__',\n",
              " '__eq__',\n",
              " '__format__',\n",
              " '__ge__',\n",
              " '__getattribute__',\n",
              " '__gt__',\n",
              " '__hash__',\n",
              " '__init__',\n",
              " '__init_subclass__',\n",
              " '__le__',\n",
              " '__lt__',\n",
              " '__module__',\n",
              " '__ne__',\n",
              " '__new__',\n",
              " '__reduce__',\n",
              " '__reduce_ex__',\n",
              " '__repr__',\n",
              " '__setattr__',\n",
              " '__sizeof__',\n",
              " '__str__',\n",
              " '__subclasshook__',\n",
              " '__weakref__',\n",
              " 'method',\n",
              " 'x']"
            ]
          },
          "execution_count": 3,
          "metadata": {},
          "output_type": "execute_result"
        }
      ],
      "source": [
        "print(\"Wszystkie właściwości i metody klasy Class:\")\n",
        "dir(Class)"
      ]
    },
    {
      "cell_type": "code",
      "execution_count": 4,
      "metadata": {
        "trusted": true
      },
      "outputs": [
        {
          "name": "stdout",
          "output_type": "stream",
          "text": [
            "Wartość number instancji: <__main__.Class object at 0x7fd004ab9ea0>\n"
          ]
        }
      ],
      "source": [
        "# Definicja klasy Class\n",
        "class Class:\n",
        "    # Definicja konstruktora i argumentów klasy\n",
        "    def __init__(self, char, number):\n",
        "        self.number = number\n",
        "        self.char = char\n",
        "\n",
        "# Utowrzenie obiektu klasy Class z konstruktorem\n",
        "instance = Class(\"a\", 100)\n",
        "\n",
        "# Zmienienie wartości argumentu\n",
        "instance.x = 20\n",
        "\n",
        "# Wyświetlenie wartości argumentów klasy\n",
        "print(f\"Wartość number instancji: {instance}\")"
      ]
    },
    {
      "cell_type": "markdown",
      "metadata": {},
      "source": [
        "### Klasa Rectangle"
      ]
    },
    {
      "cell_type": "code",
      "execution_count": 5,
      "metadata": {
        "trusted": true
      },
      "outputs": [
        {
          "name": "stdout",
          "output_type": "stream",
          "text": [
            "Długość: 4, Szerokość: 5\n",
            "Wartość pola prostokąta: 20\n",
            "Wartość obwodu prostokąta: 18\n"
          ]
        }
      ],
      "source": [
        "# Definicja klasy Rectangle\n",
        "class Rectangle:\n",
        "    # Definicja konstruktora i argumentów klasy\n",
        "    def __init__(self, a, b):\n",
        "        self.length = a\n",
        "        self.width = b\n",
        "        \n",
        "        # Metoda wyświetlająca długość i szerokość prostokąta\n",
        "        print(f\"Długość: {self.length}, Szerokość: {self.width}\")\n",
        "            \n",
        "    # Metoda zwracająca pole danego prostokąta\n",
        "    def get_area(self):\n",
        "        return self.length * self.width\n",
        "    \n",
        "    # Metoda zwracająca obwód danego prostokąta\n",
        "    def get_circumference(self):\n",
        "        return self.length + self.width + self.length + self.width\n",
        "    \n",
        "\n",
        "# Utowrzenie obiektu klasy z konstruktorem\n",
        "rectangle = Rectangle(4, 5)\n",
        "\n",
        "# Wyświetlenie wartości argumentów klasy\n",
        "print(f\"Wartość pola prostokąta: {rectangle.get_area()}\")\n",
        "print(f\"Wartość obwodu prostokąta: {rectangle.get_circumference()}\")"
      ]
    },
    {
      "cell_type": "markdown",
      "metadata": {},
      "source": [
        "### Klasa Car"
      ]
    },
    {
      "cell_type": "code",
      "execution_count": 6,
      "metadata": {
        "trusted": true
      },
      "outputs": [
        {
          "name": "stdout",
          "output_type": "stream",
          "text": [
            "\n",
            "Marka: Audi,\n",
            "Model: A3,\n",
            "Rok produkcji: 2012,\n",
            "Przebieg: 100000km.\n",
            "        \n"
          ]
        }
      ],
      "source": [
        "# Definicja klasy Car\n",
        "class Car:\n",
        "    # Definicja argumentów klasy i konstruktora\n",
        "    def __init__(self, brand, model, year):\n",
        "        self.brand = brand\n",
        "        self.model = model\n",
        "        self.year = year\n",
        "        self.mileage = 0\n",
        "\n",
        "    # Metoda wyswietlająca argumenty klasy\n",
        "    def info(self):\n",
        "        print(f\"\"\"\n",
        "Marka: {self.brand},\n",
        "Model: {self.model},\n",
        "Rok produkcji: {self.year},\n",
        "Przebieg: {self.mileage}km.\n",
        "        \"\"\")\n",
        "    \n",
        "    # Metoda dodająca przebieg do danego samochodu\n",
        "    def drive(self, distance):\n",
        "        self.mileage += distance\n",
        "\n",
        "# Utowrzenie obiektu klasy Car przez konstruktor\n",
        "car = Car(\"Audi\", \"A3\", 2012)\n",
        "\n",
        "# Przejechanie konkretnego dystansu przez samochód\n",
        "car.drive(100000)\n",
        "\n",
        "# Wyświetlenie wartości argumentów obiektu car\n",
        "car.info()"
      ]
    },
    {
      "cell_type": "markdown",
      "metadata": {},
      "source": [
        "### Klasa Vector"
      ]
    },
    {
      "cell_type": "code",
      "execution_count": 7,
      "metadata": {
        "trusted": true
      },
      "outputs": [
        {
          "name": "stdout",
          "output_type": "stream",
          "text": [
            "[3;5]\n",
            "[9;15]\n"
          ]
        }
      ],
      "source": [
        "# Definicja klasy Vector\n",
        "class Vector:\n",
        "    # Definicja argumentów klasy i konstruktora\n",
        "    def __init__(self,x, y):\n",
        "        self.x = x\n",
        "        self.y = y\n",
        "    \n",
        "    # Definicja metody zwracającej zformatowany string wektora\n",
        "    def __str__(self):\n",
        "        return \"[{0.x};{0.y}]\".format(self)\n",
        "    \n",
        "    # Definicja metody zwracającej iloczyn wektora z wektorem podanym w argumencie\n",
        "    def __mul__(self, number):\n",
        "        return Vector(self.x * number, self.y * number)\n",
        "\n",
        "# Utworzenie obiektu Vector\n",
        "vector = Vector(3, 5)\n",
        "\n",
        "# Wyświetlenie obiektu vector\n",
        "print(vector)\n",
        "\n",
        "# Wyświetlenie pomnożonego obiektu vector\n",
        "print(vector * 3)"
      ]
    },
    {
      "cell_type": "markdown",
      "metadata": {},
      "source": [
        "### Funkcje"
      ]
    },
    {
      "cell_type": "code",
      "execution_count": 8,
      "metadata": {
        "trusted": true
      },
      "outputs": [
        {
          "name": "stdout",
          "output_type": "stream",
          "text": [
            "\n",
            "            Funkcje\n",
            "• __add__(y)      <=> x + y\n",
            "• __sub__(y)      <=> x - y\n",
            "• __mul__(y)      <=> x * y\n",
            "• __pow__(y)      <=> x**y\n",
            "• __truediv__(y)  <=> x / y\n",
            "• __mod__(y)      <=> x % y\n",
            "• __floordiv__(y) <=> x // y\n",
            "# ------------------------\n",
            "• __add__ (+)       --> __radd__\n",
            "• __sub__ (-)       --> __rsub__\n",
            "• __mul__ (*)       --> __rmul__\n",
            "• __pow__ (**)      --> __rpow__\n",
            "• __mod__ (%)       --> __rmod__\n",
            "• __truediv__ (/)   --> __rtruediv__\n",
            "• __floordiv__ (//) --> __rfloordiv__\n",
            "\n"
          ]
        }
      ],
      "source": [
        "print(\"\"\"\n",
        "            Funkcje\n",
        "• __add__(y)      <=> x + y\n",
        "• __sub__(y)      <=> x - y\n",
        "• __mul__(y)      <=> x * y\n",
        "• __pow__(y)      <=> x**y\n",
        "• __truediv__(y)  <=> x / y\n",
        "• __mod__(y)      <=> x % y\n",
        "• __floordiv__(y) <=> x // y\n",
        "# ------------------------\n",
        "• __add__ (+)       --> __radd__\n",
        "• __sub__ (-)       --> __rsub__\n",
        "• __mul__ (*)       --> __rmul__\n",
        "• __pow__ (**)      --> __rpow__\n",
        "• __mod__ (%)       --> __rmod__\n",
        "• __truediv__ (/)   --> __rtruediv__\n",
        "• __floordiv__ (//) --> __rfloordiv__\n",
        "\"\"\")"
      ]
    },
    {
      "cell_type": "markdown",
      "metadata": {},
      "source": [
        "### Funkcje dodawania"
      ]
    },
    {
      "cell_type": "code",
      "execution_count": 9,
      "metadata": {
        "trusted": true
      },
      "outputs": [
        {
          "name": "stdout",
          "output_type": "stream",
          "text": [
            "2 + 3 = 5\n",
            "(2).__add__(3) = 5\n",
            "int.__add__(2, 3) = 5\n"
          ]
        }
      ],
      "source": [
        "print(f\"2 + 3 = {2 + 3}\")\n",
        "print(f\"(2).__add__(3) = {(2).__add__(3)}\")\n",
        "print(f\"int.__add__(2, 3) = {int.__add__(2, 3)}\")"
      ]
    },
    {
      "cell_type": "markdown",
      "metadata": {},
      "source": [
        "### Funkcje odejmowania"
      ]
    },
    {
      "cell_type": "code",
      "execution_count": 10,
      "metadata": {
        "trusted": true
      },
      "outputs": [
        {
          "name": "stdout",
          "output_type": "stream",
          "text": [
            "2 - 3 = -1\n",
            "(2).__sub__(3) = -1\n",
            "int.__sub__(2, 3) = -1\n"
          ]
        }
      ],
      "source": [
        "print(f\"2 - 3 = {2 - 3}\")\n",
        "print(f\"(2).__sub__(3) = {(2).__sub__(3)}\")\n",
        "print(f\"int.__sub__(2, 3) = {int.__sub__(2, 3)}\")"
      ]
    },
    {
      "cell_type": "markdown",
      "metadata": {},
      "source": [
        "### Funkcje mnożenia"
      ]
    },
    {
      "cell_type": "code",
      "execution_count": 11,
      "metadata": {
        "trusted": true
      },
      "outputs": [
        {
          "name": "stdout",
          "output_type": "stream",
          "text": [
            "2 * 3 = 6\n",
            "(2).__mul__(3) = 6\n",
            "int.__mul__(2, 3) = 6\n"
          ]
        }
      ],
      "source": [
        "print(f\"2 * 3 = {2 * 3}\")\n",
        "print(f\"(2).__mul__(3) = {(2).__mul__(3)}\")\n",
        "print(f\"int.__mul__(2, 3) = {int.__mul__(2, 3)}\")"
      ]
    },
    {
      "cell_type": "markdown",
      "metadata": {},
      "source": [
        "### Funkcje dzielenia"
      ]
    },
    {
      "cell_type": "code",
      "execution_count": 12,
      "metadata": {
        "trusted": true
      },
      "outputs": [
        {
          "name": "stdout",
          "output_type": "stream",
          "text": [
            "2 / 3 = 0.6666666666666666\n",
            "(2).__truediv__(3) = 0.6666666666666666\n",
            "int.__truediv__(2, 3) = 0.6666666666666666\n"
          ]
        }
      ],
      "source": [
        "print(f\"2 / 3 = {2 / 3}\")\n",
        "print(f\"(2).__truediv__(3) = {(2).__truediv__(3)}\")\n",
        "print(f\"int.__truediv__(2, 3) = {int.__truediv__(2, 3)}\")"
      ]
    },
    {
      "cell_type": "markdown",
      "metadata": {},
      "source": [
        "### Porównanie czasów wykonywania"
      ]
    },
    {
      "cell_type": "code",
      "execution_count": 15,
      "metadata": {
        "trusted": true
      },
      "outputs": [
        {
          "ename": "TypeError",
          "evalue": "'float' object is not callable",
          "output_type": "error",
          "traceback": [
            "\u001b[0;31m---------------------------------------------------------------------------\u001b[0m",
            "\u001b[0;31mTypeError\u001b[0m                                 Traceback (most recent call last)",
            "Cell \u001b[0;32mIn[15], line 14\u001b[0m\n\u001b[1;32m     12\u001b[0m \u001b[39mfor\u001b[39;00m i \u001b[39min\u001b[39;00m \u001b[39mlist\u001b[39m:\n\u001b[1;32m     13\u001b[0m     squares\u001b[39m.\u001b[39mappend(i\u001b[39m*\u001b[39m\u001b[39m*\u001b[39m\u001b[39m2\u001b[39m)\n\u001b[0;32m---> 14\u001b[0m \u001b[39mprint\u001b[39m(\u001b[39mf\u001b[39m\u001b[39m\"\u001b[39m\u001b[39mRóżnica czasu w przypadku \u001b[39m\u001b[39m'\u001b[39m\u001b[39msquares.append(i**2)\u001b[39m\u001b[39m'\u001b[39m\u001b[39m: \u001b[39m\u001b[39m{\u001b[39;00mtime()\u001b[39m \u001b[39m\u001b[39m-\u001b[39m\u001b[39m \u001b[39mtime\u001b[39m}\u001b[39;00m\u001b[39m\"\u001b[39m)\n\u001b[1;32m     16\u001b[0m \u001b[39m# Przypadek 2 - [i**2 for i in list]\u001b[39;00m\n\u001b[1;32m     17\u001b[0m time \u001b[39m=\u001b[39m time()\n",
            "\u001b[0;31mTypeError\u001b[0m: 'float' object is not callable"
          ]
        }
      ],
      "source": [
        "# Importowanie biblioteki time\n",
        "from time import time\n",
        "\n",
        "# Zaalokowanie zmiennych w liście\n",
        "list = []\n",
        "for i in range (1, 10001):\n",
        "    list.append(i)\n",
        "\n",
        "# Przypadek 1 - squares.append(i**2)\n",
        "time = time()\n",
        "squares = []\n",
        "for i in list:\n",
        "    squares.append(i**2)\n",
        "print(f\"Różnica czasu w przypadku 'squares.append(i**2)': {time() - time}\")\n",
        "\n",
        "# Przypadek 2 - [i**2 for i in list]\n",
        "time = time()\n",
        "[i**2 for i in list]\n",
        "print(f\"Różnica czasu w przypadku '[i**2 for i in list]': {time() - time}\")\n",
        "\n",
        "# Przypadek 3 - lambda i:i**2\n",
        "time = time()\n",
        "list(map(lambda i:i**2, list))\n",
        "print(f\"Różnica czasu w przypadku 'lambda i:i**2': {time() - time}\")\n",
        "\n",
        "# Przypadek 4 - ().__rpow__\n",
        "time = time()\n",
        "list(map(().__rpow__, list))\n",
        "print(f\"Różnica czasu w przypadku '().__rpow__': {time() - time}\")"
      ]
    },
    {
      "cell_type": "markdown",
      "metadata": {},
      "source": [
        "### Klasa master"
      ]
    },
    {
      "cell_type": "code",
      "execution_count": 16,
      "metadata": {
        "trusted": true
      },
      "outputs": [
        {
          "name": "stdout",
          "output_type": "stream",
          "text": [
            "subordinate.method1(): 6\n"
          ]
        }
      ],
      "source": [
        "# Definicja klasy Master\n",
        "class Master:\n",
        "    # Zaalokowanie zmiennej\n",
        "    x = 2\n",
        "    \n",
        "    # Definicja metody zwracającej argumentu x podniesiony do kwadratu\n",
        "    def method1(self):\n",
        "        return self.x ** 2\n",
        "    \n",
        "    # Definicja metody zwracającej argument x pomnożony przez 4\n",
        "    def method2(self):\n",
        "        return self.x * 4\n",
        "\n",
        "# Definicja klasy Subordinate\n",
        "class Subordinate(Master):\n",
        "    # Override metody1 - teraz zwraca argument x pomnozony przez 3\n",
        "    def method1(self):\n",
        "        return self.x * 3\n",
        "\n",
        "# Utworzenie obiektu klasy Subordinate\n",
        "subordinate = Subordinate()\n",
        "\n",
        "# Wywołanie metody1 na rzecz klasy obiektu klasy Subordinate\n",
        "print(f\"subordinate.method1(): {subordinate.method1()}\")"
      ]
    },
    {
      "cell_type": "code",
      "execution_count": 17,
      "metadata": {
        "trusted": true
      },
      "outputs": [
        {
          "name": "stdout",
          "output_type": "stream",
          "text": [
            "isinstance(subordinate, Master): True\n"
          ]
        }
      ],
      "source": [
        "# Sprawdzenie czy obiekt subordinate jest podklasą klasy Master\n",
        "print(f\"isinstance(subordinate, Master): {isinstance(subordinate, Master)}\")"
      ]
    },
    {
      "cell_type": "markdown",
      "metadata": {},
      "source": [
        "### Klasa vector"
      ]
    },
    {
      "cell_type": "code",
      "execution_count": 18,
      "metadata": {
        "trusted": true
      },
      "outputs": [
        {
          "name": "stdout",
          "output_type": "stream",
          "text": [
            "vector1 + vector2 = [3;-1]\n",
            "vector1 - vector2 = [-1;7]\n",
            "vector1 * vector2 = [2;-12]\n",
            "vector * 5 = [15;25]\n"
          ]
        }
      ],
      "source": [
        "# Definicja klasy Vector\n",
        "class Vector:\n",
        "    # Definicja argumentów klasy i konstruktora\n",
        "    def __init__(self,x, y):\n",
        "        self.x = x\n",
        "        self.y = y\n",
        "    \n",
        "    # Definicja metody zwracającej zformatowany string wektora\n",
        "    def __str__(self):\n",
        "        return \"[{0.x};{0.y}]\".format(self)\n",
        "    \n",
        "    # Definicja metody zwracającej sume wektora z wektorem podanym w argumencie\n",
        "    def __add__(self, vector):\n",
        "        return Vector(self.x + vector.x, self.y + vector.y)\n",
        "    \n",
        "    # Definicja metody zwracającej różnice wektora z wektorem podanym w argumencie\n",
        "    def __sub__(self, vector):\n",
        "        return Vector(self.x - vector.x, self.y - vector.y)\n",
        "\n",
        "    # Definicja metody zwracającej iloczyn wektora z wektorem lub z liczbą w zależności od argumentu\n",
        "    def __mul__(self, argument):\n",
        "        # Jeśli w argumencie podany został wektor\n",
        "        if isinstance(argument, Vector):\n",
        "            return Vector(self.x * argument.x, self.y * argument.y)\n",
        "        # Jeśli w argumencie podana została liczba\n",
        "        else:\n",
        "            return Vector(self.x * argument, self.y * argument)\n",
        "    \n",
        "    # Definicja metody zwracającej iloczyn wektora z liczbą podaną w argumencie \n",
        "    def __rmul__(self, number):\n",
        "        return Vector(self.x * number, self.y * number)\n",
        "\n",
        "# Utworzenie obiektów klasy vector\n",
        "vector1 = Vector(1, 3)\n",
        "vector2 = Vector(2, -4)\n",
        "\n",
        "# Wykonywanie działań na wektorach\n",
        "print(f\"vector1 + vector2 = {vector1 + vector2}\")\n",
        "print(f\"vector1 - vector2 = {vector1 - vector2}\")\n",
        "print(f\"vector1 * vector2 = {vector1 * vector2}\")\n",
        "print(f\"vector * 5 = {vector * 5}\")"
      ]
    },
    {
      "cell_type": "markdown",
      "metadata": {},
      "source": [
        "### Klasa vector_v"
      ]
    },
    {
      "cell_type": "code",
      "execution_count": 19,
      "metadata": {
        "trusted": true
      },
      "outputs": [
        {
          "name": "stdout",
          "output_type": "stream",
          "text": [
            "vector_v1 * vector_v2 = -13\n"
          ]
        }
      ],
      "source": [
        "# Definicja klasy Vector_v\n",
        "class Vector_v(Vector):\n",
        "    # Definicja metody zwracającej wyznacznik z wektora klasy oraz wektora podanego w argumencie\n",
        "    # Lub mnożenia wektora przez liczbę podaną w argumencie metody\n",
        "    def __mul__(self, argument):\n",
        "        # Jeśli podany argument jest wektorem\n",
        "        if isinstance(argument, Vector):\n",
        "            return self.x * argument.y - self.y * argument.x\n",
        "        # Jeśli podany argument jest liczbą\n",
        "        else:\n",
        "            return Vector(self.x * argument, self.y * argument)\n",
        "\n",
        "# Utworzenie obiektów klasy Vector_v\n",
        "vector_v1 = Vector_v(3, 5)\n",
        "vector_v2 = Vector_v(5, 4)\n",
        "\n",
        "# Mnożenie obiektów klasy Vector_v\n",
        "print(f\"vector_v1 * vector_v2 = {vector_v1 * vector_v2}\")"
      ]
    }
  ],
  "metadata": {
    "kernelspec": {
      "display_name": "Python 3",
      "language": "python",
      "name": "python3"
    },
    "language_info": {
      "codemirror_mode": {
        "name": "ipython",
        "version": 3
      },
      "file_extension": ".py",
      "mimetype": "text/x-python",
      "name": "python",
      "nbconvert_exporter": "python",
      "pygments_lexer": "ipython3",
      "version": "3.10.4"
    }
  },
  "nbformat": 4,
  "nbformat_minor": 4
}
