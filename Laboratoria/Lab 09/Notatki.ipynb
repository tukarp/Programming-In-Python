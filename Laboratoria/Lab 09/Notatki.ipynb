{
  "metadata": {
    "kernelspec": {
      "display_name": "Python (Pyodide)",
      "language": "python",
      "name": "python"
    },
    "language_info": {
      "codemirror_mode": {
        "name": "python",
        "version": 3
      },
      "file_extension": ".py",
      "mimetype": "text/x-python",
      "name": "python",
      "nbconvert_exporter": "python",
      "pygments_lexer": "ipython3",
      "version": "3.8"
    }
  },
  "nbformat_minor": 4,
  "nbformat": 4,
  "cells": [
    {
      "cell_type": "markdown",
      "source": "# Laboratorium 09",
      "metadata": {}
    },
    {
      "cell_type": "markdown",
      "source": "## Notatki",
      "metadata": {}
    },
    {
      "cell_type": "markdown",
      "source": "### Klasy",
      "metadata": {}
    },
    {
      "cell_type": "code",
      "source": "# Definicja klasy Class\nclass Class:\n    # Definicja metod klasy\n    def method(*args):\n        print(*args)\n\n# Utowrzenie obiektu klasy Class\ninstance = Class()\n\n# Wyświetlenie instancji od argumentów (Hello, 1, [2, 3])\nprint(\"Metoda instancji od argumentów (Hello, 1, [2, 3]):\")\nprint(instance.method(\"Hello\", 1, [2, 3]))",
      "metadata": {
        "trusted": true
      },
      "execution_count": 3,
      "outputs": [
        {
          "name": "stdout",
          "text": "Metoda instancji od argumentów (Hello, 1, [2, 3]):\n<__main__.Class object at 0x16563e0> Hello 1 [2, 3]\nNone\n",
          "output_type": "stream"
        }
      ]
    },
    {
      "cell_type": "code",
      "source": "# Definicja klasy Class\nclass Class:\n    # Definicja argumentów klasy\n    x = 10\n    \n    # Definicja metod klasy\n    def method(self):\n        return self.x\n\n# Utowrzenie obiektu klasy Class\ninstance = Class()\n\n# Zmienienie wartości argumentu\ninstance.x = 20\n\n# Wyświetlenie wartości argumentu\nprint(f\"Wartość x instancji: {instance.method()}\")",
      "metadata": {
        "trusted": true
      },
      "execution_count": 4,
      "outputs": [
        {
          "name": "stdout",
          "text": "Wartość x instancji: 20\n",
          "output_type": "stream"
        }
      ]
    },
    {
      "cell_type": "code",
      "source": "print(\"Wszystkie właściwości i metody klasy Class:\")\ndir(Class)",
      "metadata": {
        "trusted": true
      },
      "execution_count": 5,
      "outputs": [
        {
          "name": "stdout",
          "text": "Wszystkie właściwości i metody klasy Class:\n",
          "output_type": "stream"
        },
        {
          "execution_count": 5,
          "output_type": "execute_result",
          "data": {
            "text/plain": "['__class__',\n '__delattr__',\n '__dict__',\n '__dir__',\n '__doc__',\n '__eq__',\n '__format__',\n '__ge__',\n '__getattribute__',\n '__getstate__',\n '__gt__',\n '__hash__',\n '__init__',\n '__init_subclass__',\n '__le__',\n '__lt__',\n '__module__',\n '__ne__',\n '__new__',\n '__reduce__',\n '__reduce_ex__',\n '__repr__',\n '__setattr__',\n '__sizeof__',\n '__str__',\n '__subclasshook__',\n '__weakref__',\n 'method',\n 'x']"
          },
          "metadata": {}
        }
      ]
    },
    {
      "cell_type": "code",
      "source": "# Definicja klasy Class\nclass Class:\n    # Definicja konstruktora i argumentów klasy\n    def __init__(self, char, number):\n        self.number = number\n        self.char = char\n\n# Utowrzenie obiektu klasy Class z konstruktorem\ninstance = Class(\"a\", 100)\n\n# Zmienienie wartości argumentu\ninstance.x = 20\n\n# Wyświetlenie wartości argumentów klasy\nprint(f\"Wartość number instancji: {instance}\")",
      "metadata": {
        "trusted": true
      },
      "execution_count": 6,
      "outputs": [
        {
          "name": "stdout",
          "text": "Wartość number instancji: <__main__.Class object at 0x20e1450>\n",
          "output_type": "stream"
        }
      ]
    },
    {
      "cell_type": "markdown",
      "source": "### Klasa Rectangle",
      "metadata": {}
    },
    {
      "cell_type": "code",
      "source": "# Definicja klasy Rectangle\nclass Rectangle:\n    # Definicja konstruktora i argumentów klasy\n    def __init__(self, a, b):\n        self.length = a\n        self.width = b\n        \n        # Metoda wyświetlająca długość i szerokość prostokąta\n        print(f\"Długość: {self.length}, Szerokość: {self.width}\")\n            \n    # Metoda zwracająca pole danego prostokąta\n    def get_area(self):\n        return self.length * self.width\n    \n    # Metoda zwracająca obwód danego prostokąta\n    def get_circumference(self):\n        return self.length + self.width + self.length + self.width\n    \n\n# Utowrzenie obiektu klasy z konstruktorem\nrectangle = Rectangle(4, 5)\n\n# Wyświetlenie wartości argumentów klasy\nprint(f\"Wartość pola prostokąta: {rectangle.get_area()}\")\nprint(f\"Wartość obwodu prostokąta: {rectangle.get_circumference()}\")",
      "metadata": {
        "trusted": true
      },
      "execution_count": 8,
      "outputs": [
        {
          "name": "stdout",
          "text": "Długość: 4, Szerokość: 5\nWartość pola prostokąta: 20\nWartość obwodu prostokąta: 18\n",
          "output_type": "stream"
        }
      ]
    },
    {
      "cell_type": "markdown",
      "source": "### Klasa Car",
      "metadata": {}
    },
    {
      "cell_type": "code",
      "source": "# Definicja klasy Car\nclass Car:\n    # Definicja argumentów klasy i konstruktora\n    def __init__(self, brand, model, year):\n        self.brand = brand\n        self.model = model\n        self.year = year\n        self.mileage = 0\n\n    # Metoda wyswietlająca argumenty klasy\n    def info(self):\n        print(f\"\"\"\nMarka: {self.brand},\nModel: {self.model},\nRok produkcji: {self.year},\nPrzebieg: {self.mileage}km.\n        \"\"\")\n    \n    # Metoda dodająca przebieg do danego samochodu\n    def drive(self, distance):\n        self.mileage += distance\n\n# Utowrzenie obiektu klasy Car przez konstruktor\ncar = Car(\"Audi\", \"A3\", 2012)\n\n# Przejechanie konkretnego dystansu przez samochód\ncar.drive(100000)\n\n# Wyświetlenie wartości argumentów obiektu car\ncar.info()",
      "metadata": {
        "trusted": true
      },
      "execution_count": 9,
      "outputs": [
        {
          "name": "stdout",
          "text": "\nMarka: Audi,\nModel: A3,\nRok produkcji: 2012,\nPrzebieg: 100000km.\n        \n",
          "output_type": "stream"
        }
      ]
    },
    {
      "cell_type": "markdown",
      "source": "### Klasa Vector",
      "metadata": {}
    },
    {
      "cell_type": "code",
      "source": "# Definicja klasy Vector\nclass Vector:\n    # Definicja argumentów klasy i konstruktora\n    def __init__(self,x, y):\n        self.x = x\n        self.y = y\n    \n    def __str__(self):\n        return \"[{0.x};{0.y}]\".format(self)\n    \n    def __mul__(self, number):\n        return Vector(self.x * number, self.y * number)\n\nvector = Vector(3, 5)\nprint(vector)\nprint(vector * 3)",
      "metadata": {
        "trusted": true
      },
      "execution_count": 10,
      "outputs": [
        {
          "name": "stdout",
          "text": "[3;5]\n[9;15]\n",
          "output_type": "stream"
        }
      ]
    },
    {
      "cell_type": "markdown",
      "source": "### Funkcje",
      "metadata": {}
    },
    {
      "cell_type": "code",
      "source": "print(\"\"\"\n            Funkcje\n• __add__(y)      <=> x + y\n• __sub__(y)      <=> x - y\n• __mul__(y)      <=> x * y\n• __pow__(y)      <=> x**y\n• __truediv__(y)  <=> x / y\n• __mod__(y)      <=> x % y\n• __floordiv__(y) <=> x // y\n# ------------------------\n• __add__ (+)       --> __radd__\n• __sub__ (-)       --> __rsub__\n• __mul__ (*)       --> __rmul__\n• __pow__ (**)      --> __rpow__\n• __mod__ (%)       --> __rmod__\n• __truediv__ (/)   --> __rtruediv__\n• __floordiv__ (//) --> __rfloordiv__\n\"\"\")",
      "metadata": {
        "trusted": true
      },
      "execution_count": 11,
      "outputs": [
        {
          "name": "stdout",
          "text": "\n            Funkcje\n• __add__(y)      <=> x + y\n• __sub__(y)      <=> x - y\n• __mul__(y)      <=> x * y\n• __pow__(y)      <=> x**y\n• __truediv__(y)  <=> x / y\n• __mod__(y)      <=> x % y\n• __floordiv__(y) <=> x // y\n# ------------------------\n• __add__ (+)       --> __radd__\n• __sub__ (-)       --> __rsub__\n• __mul__ (*)       --> __rmul__\n• __pow__ (**)      --> __rpow__\n• __mod__ (%)       --> __rmod__\n• __truediv__ (/)   --> __rtruediv__\n• __floordiv__ (//) --> __rfloordiv__\n\n",
          "output_type": "stream"
        }
      ]
    },
    {
      "cell_type": "markdown",
      "source": "### Funkcje dodawania",
      "metadata": {}
    },
    {
      "cell_type": "code",
      "source": "print(f\"2 + 3 = {2 + 3}\")\nprint(f\"(2).__add__(3) = {(2).__add__(3)}\")\nprint(f\"int.__add__(2, 3) = {int.__add__(2, 3)}\")",
      "metadata": {
        "trusted": true
      },
      "execution_count": 12,
      "outputs": [
        {
          "name": "stdout",
          "text": "2 + 3 = 5\n(2).__add__(3) = 5\nint.__add__(2, 3) = 5\n",
          "output_type": "stream"
        }
      ]
    },
    {
      "cell_type": "markdown",
      "source": "### Funkcje odejmowania",
      "metadata": {}
    },
    {
      "cell_type": "code",
      "source": "print(f\"2 - 3 = {2 - 3}\")\nprint(f\"(2).__sub__(3) = {(2).__sub__(3)}\")\nprint(f\"int.__sub__(2, 3) = {int.__sub__(2, 3)}\")",
      "metadata": {
        "trusted": true
      },
      "execution_count": 13,
      "outputs": [
        {
          "name": "stdout",
          "text": "2 - 3 = -1\n(2).__sub__(3) = -1\nint.__sub__(2, 3) = -1\n",
          "output_type": "stream"
        }
      ]
    },
    {
      "cell_type": "markdown",
      "source": "### Funkcje mnożenia",
      "metadata": {}
    },
    {
      "cell_type": "code",
      "source": "print(f\"2 * 3 = {2 * 3}\")\nprint(f\"(2).__mul__(3) = {(2).__mul__(3)}\")\nprint(f\"int.__mul__(2, 3) = {int.__mul__(2, 3)}\")",
      "metadata": {
        "trusted": true
      },
      "execution_count": 14,
      "outputs": [
        {
          "name": "stdout",
          "text": "2 * 3 = 6\n(2).__mul__(3) = 6\nint.__mul__(2, 3) = 6\n",
          "output_type": "stream"
        }
      ]
    },
    {
      "cell_type": "markdown",
      "source": "### Funkcje dzielenia",
      "metadata": {}
    },
    {
      "cell_type": "code",
      "source": "print(f\"2 / 3 = {2 / 3}\")\nprint(f\"(2).__truediv__(3) = {(2).__truediv__(3)}\")\nprint(f\"int.__truediv__(2, 3) = {int.__truediv__(2, 3)}\")",
      "metadata": {
        "trusted": true
      },
      "execution_count": 17,
      "outputs": [
        {
          "name": "stdout",
          "text": "2 / 3 = 0.6666666666666666\n(2).__truediv__(3) = 0.6666666666666666\nint.__truediv__(2, 3) = 0.6666666666666666\n",
          "output_type": "stream"
        }
      ]
    },
    {
      "cell_type": "markdown",
      "source": "### Porównanie czasów wykonywania",
      "metadata": {}
    },
    {
      "cell_type": "code",
      "source": "# Importowanie biblioteki time\nfrom time import time\n\n# Zaalokowanie zmiennych w liście\nlist = []\nfor i in range (1, 10001):\n    list.append(i)\n\n# Przypadek 1 - squares.append(i**2)\ntime = time()\nsquares = []\nfor i in list:\n    squares.append(i**2)\nprint(f\"Różnica czasu w przypadku 'squares.append(i**2)': {time() - time}\")\n\n# Przypadek 2 - [i**2 for i in list]\ntime = time()\n[i**2 for i in list]\nprint(f\"Różnica czasu w przypadku '[i**2 for i in list]': {time() - time}\")\n\n# Przypadek 3 - lambda i:i**2\ntime = time()\nlist(map(lambda i:i**2, list))\nprint(f\"Różnica czasu w przypadku 'lambda i:i**2': {time() - time}\")\n\n# Przypadek 4 - ().__rpow__\ntime = time()\nlist(map(().__rpow__, list))\nprint(f\"Różnica czasu w przypadku '().__rpow__': {time() - time}\")",
      "metadata": {
        "trusted": true
      },
      "execution_count": 18,
      "outputs": [
        {
          "ename": "<class 'AttributeError'>",
          "evalue": "'float' object has no attribute 'time'",
          "traceback": [
            "\u001b[0;31m---------------------------------------------------------------------------\u001b[0m",
            "\u001b[0;31mAttributeError\u001b[0m                            Traceback (most recent call last)",
            "Cell \u001b[0;32mIn[19], line 14\u001b[0m\n\u001b[1;32m     12\u001b[0m \u001b[38;5;28;01mfor\u001b[39;00m i \u001b[38;5;129;01min\u001b[39;00m \u001b[38;5;28mlist\u001b[39m:\n\u001b[1;32m     13\u001b[0m     squares\u001b[38;5;241m.\u001b[39mappend(i\u001b[38;5;241m*\u001b[39m\u001b[38;5;241m*\u001b[39m\u001b[38;5;241m2\u001b[39m)\n\u001b[0;32m---> 14\u001b[0m \u001b[38;5;28mprint\u001b[39m(\u001b[38;5;124mf\u001b[39m\u001b[38;5;124m\"\u001b[39m\u001b[38;5;124mRóżnica czasu w przypadku \u001b[39m\u001b[38;5;124m'\u001b[39m\u001b[38;5;124msquares.append(i**2)\u001b[39m\u001b[38;5;124m'\u001b[39m\u001b[38;5;124m: \u001b[39m\u001b[38;5;132;01m{\u001b[39;00m\u001b[43mtime\u001b[49m\u001b[38;5;241;43m.\u001b[39;49m\u001b[43mtime\u001b[49m()\u001b[38;5;250m \u001b[39m\u001b[38;5;241m-\u001b[39m\u001b[38;5;250m \u001b[39mtime\u001b[38;5;132;01m}\u001b[39;00m\u001b[38;5;124m\"\u001b[39m)\n\u001b[1;32m     16\u001b[0m \u001b[38;5;66;03m# Przypadek 2 - [i**2 for i in list]\u001b[39;00m\n\u001b[1;32m     17\u001b[0m time \u001b[38;5;241m=\u001b[39m time()\n",
            "\u001b[0;31mAttributeError\u001b[0m: 'float' object has no attribute 'time'"
          ],
          "output_type": "error"
        }
      ]
    },
    {
      "cell_type": "markdown",
      "source": "### Klasa master",
      "metadata": {}
    },
    {
      "cell_type": "code",
      "source": "# Definicja klasy Master\nclass Master:\n    # Zaalokowanie zmiennej\n    x = 2\n    \n    # Definicja metody zwracającej argumentu x podniesiony do kwadratu\n    def method1(self):\n        return self.x ** 2\n    \n    # Definicja metody zwracającej argument x pomnożony przez 4\n    def method2(self):\n        return self.x * 4\n\n# Definicja klasy Subordinate\nclass Subordinate(Master):\n    # Override metody1 - teraz zwraca argument x pomnozony przez 3\n    def method1(self):\n        return self.x * 3\n\n# Utworzenie obiektu klasy Subordinate\nsubordinate = Subordinate()\n\n# Wywołanie metody1 na rzecz klasy obiektu klasy Subordinate\nprint(f\"subordinate.method1(): {subordinate.method1()}\")",
      "metadata": {
        "trusted": true
      },
      "execution_count": 20,
      "outputs": [
        {
          "name": "stdout",
          "text": "subordinate.method1(): 6\n",
          "output_type": "stream"
        }
      ]
    },
    {
      "cell_type": "code",
      "source": "# Sprawdzenie czy obiekt subordinate jest podklasą klasy Master\nprint(f\"isinstance(subordinate, Master): {isinstance(subordinate, Master)}\")",
      "metadata": {
        "trusted": true
      },
      "execution_count": 21,
      "outputs": [
        {
          "name": "stdout",
          "text": "isinstance(subordinate, Master): True\n",
          "output_type": "stream"
        }
      ]
    },
    {
      "cell_type": "markdown",
      "source": "### Klasa vector",
      "metadata": {}
    },
    {
      "cell_type": "code",
      "source": "# Definicja klasy Vector\nclass Vector:\n    # Definicja argumentów klasy i konstruktora\n    def __init__(self,x, y):\n        self.x = x\n        self.y = y\n    \n    # Definicja metody zwracającej zformatowany string wektora\n    def __str__(self):\n        return \"[{0.x};{0.y}]\".format(self)\n    \n    # Definicja metody zwracającej sume wektora z wektorem podanym w argumencie\n    def __add__(self, vector):\n        return Vector(self.x + vector.x, self.y + vector.y)\n    \n    # Definicja metody zwracającej różnice wektora z wektorem podanym w argumencie\n    def __sub__(self, vector):\n        return Vector(self.x - vector.x, self.y - vector.y)\n\n    # Definicja metody zwracającej iloczyn wektora z wektorem lub z liczbą w zależności od argumentu\n    def __mul__(self, argument):\n        # Jeśli w argumencie podany został wektor\n        if isinstance(argument, Vector):\n            return Vector(self.x * argument.x, self.y * argument.y)\n        # Jeśli w argumencie podana została liczba\n        else:\n            return Vector(self.x * argument, self.y * argument)\n    \n    # Definicja metody zwracającej iloczyn wektora z liczbą podaną w argumencie \n    def __rmul__(self, number):\n        return Vector(self.x * number, self.y * number)\n\n# Utworzenie obiektów klasy vector\nvector1 = Vector(1, 3)\nvector2 = Vector(2, -4)\n\n# Wykonywanie działań na wektorach\nprint(f\"vector1 + vector2 = {vector1 + vector2}\")\nprint(f\"vector1 - vector2 = {vector1 - vector2}\")\nprint(f\"vector1 * vector2 = {vector1 * vector2}\")\nprint(f\"vector * 5 = {vector * 5}\")",
      "metadata": {
        "trusted": true
      },
      "execution_count": 22,
      "outputs": [
        {
          "name": "stdout",
          "text": "vector1 + vector2 = [3;-1]\nvector1 - vector2 = [-1;7]\nvector1 * vector2 = [2;-12]\nvector * 5 = [15;25]\n",
          "output_type": "stream"
        }
      ]
    },
    {
      "cell_type": "markdown",
      "source": "### Klasa vector_v",
      "metadata": {}
    },
    {
      "cell_type": "code",
      "source": "# Definicja klasy Vector_v\nclass Vector_v(Vector):\n    # Definicja metody zwracającej wyznacznik z wektora klasy oraz wektora podanego w argumencie\n    # Lub mnożenia wektora przez liczbę podaną w argumencie metody\n    def __mul__(self, argument):\n        # Jeśli podany argument jest wektorem\n        if isinstance(argument, Vector):\n            return self.x * argument.y - self.y * argument.x\n        # Jeśli podany argument jest liczbą\n        else:\n            return Vector(self.x * argument, self.y * argument)\n\n# Utworzenie obiektów klasy Vector_v\nvector_v1 = Vector_v(3, 5)\nvector_v2 = Vector_v(5, 4)\n\n# Mnożenie obiektów klasy Vector_v\nprint(f\"vector_v1 * vector_v2 = {vector_v1 * vector_v2}\")",
      "metadata": {
        "trusted": true
      },
      "execution_count": 23,
      "outputs": [
        {
          "name": "stdout",
          "text": "vector_v1 * vector_v2 = -13\n",
          "output_type": "stream"
        }
      ]
    }
  ]
}