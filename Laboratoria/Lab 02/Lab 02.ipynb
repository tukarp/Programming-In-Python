{
  "cells": [
    {
      "attachments": {},
      "cell_type": "markdown",
      "metadata": {},
      "source": [
        "# Programowanie w Pythonie"
      ]
    },
    {
      "cell_type": "code",
      "execution_count": null,
      "metadata": {},
      "outputs": [],
      "source": []
    },
    {
      "attachments": {},
      "cell_type": "markdown",
      "metadata": {},
      "source": [
        "## Laboratorium 02"
      ]
    },
    {
      "attachments": {},
      "cell_type": "markdown",
      "metadata": {},
      "source": [
        "### Listy"
      ]
    },
    {
      "cell_type": "code",
      "execution_count": null,
      "metadata": {
        "trusted": true
      },
      "outputs": [
        {
          "name": "stdout",
          "output_type": "stream",
          "text": [
            "list: [1, 9, 25, 49, 81, 121, 169, 225, 289, 361]\n"
          ]
        }
      ],
      "source": [
        "# Utworzenie listy i zainicjalizowanie jej wartościami\n",
        "list1 = [i ** 2 for i in range (1, 20) if i % 2 == 1]\n",
        "\n",
        "# Wyświetlenie zawartości listy\n",
        "print(f\"list: {list1}\")"
      ]
    },
    {
      "cell_type": "code",
      "execution_count": null,
      "metadata": {
        "trusted": true
      },
      "outputs": [
        {
          "name": "stdout",
          "output_type": "stream",
          "text": [
            "list: [1, 2, 3, 4, 5, 6, 7, 8, 9, 10, 11, 12, 13, 14, 15, 16, 17, 18, 19]\n"
          ]
        }
      ],
      "source": [
        "# Utworzenie listy i zainicjalizowanie jej wartościami\n",
        "list2 = [i ** j for i in range (1, 20) for j in range(1, 2)]\n",
        "\n",
        "# Wyświetlenie zawartości listy\n",
        "print(f\"list: {list2}\")"
      ]
    },
    {
      "cell_type": "code",
      "execution_count": null,
      "metadata": {
        "trusted": true
      },
      "outputs": [
        {
          "name": "stdout",
          "output_type": "stream",
          "text": [
            "list: [[1, 2, 3, 4, 5, 6, 7, 8, 9], [1, 4, 9, 16, 25, 36, 49, 64, 81], [1, 8, 27, 64, 125, 216, 343, 512, 729], [1, 16, 81, 256, 625, 1296, 2401, 4096, 6561], [1, 32, 243, 1024, 3125, 7776, 16807, 32768, 59049], [1, 64, 729, 4096, 15625, 46656, 117649, 262144, 531441], [1, 128, 2187, 16384, 78125, 279936, 823543, 2097152, 4782969], [1, 256, 6561, 65536, 390625, 1679616, 5764801, 16777216, 43046721], [1, 512, 19683, 262144, 1953125, 10077696, 40353607, 134217728, 387420489]]\n"
          ]
        }
      ],
      "source": [
        "# Utworzenie listy i zainicjalizowanie jej wartościami\n",
        "list3 = [[i ** j for i in range (1, 10)] for j in range(1,10)]\n",
        "\n",
        "# Wyświetlenie zawartości listy\n",
        "print(f\"list: {list3}\")"
      ]
    },
    {
      "cell_type": "code",
      "execution_count": null,
      "metadata": {
        "trusted": true
      },
      "outputs": [
        {
          "name": "stdout",
          "output_type": "stream",
          "text": [
            "list: ['x', '0', 'x', '0', 'x', '0', 'x', '0', 'x', '0']\n"
          ]
        }
      ],
      "source": [
        "# Utworzenie listy i zainicjalizowanie jej wartościami\n",
        "list4 = [\"x\" if i % 2 == 0 else \"0\" for i in range(10)]\n",
        "\n",
        "# Wyświetlenie zawartości listy\n",
        "print(f\"list: {list4}\")"
      ]
    },
    {
      "cell_type": "code",
      "execution_count": null,
      "metadata": {
        "trusted": true
      },
      "outputs": [
        {
          "name": "stdout",
          "output_type": "stream",
          "text": [
            "'x'.join('x' * i for i in range(4)): xxxxxxxxx\n"
          ]
        }
      ],
      "source": [
        "# Wyświetlenie wygenerowanej listy\n",
        "print(f\"'x'.join('x' * i for i in range(4)): {'x'.join('x' * i for i in range(4))}\")"
      ]
    },
    {
      "cell_type": "code",
      "execution_count": null,
      "metadata": {
        "trusted": true
      },
      "outputs": [
        {
          "name": "stdout",
          "output_type": "stream",
          "text": [
            "K: <generator object <genexpr> at 0x7f6e3a3ad5b0>\n",
            "type(k): <class 'generator'>\n"
          ]
        }
      ],
      "source": [
        "# Utworzenie listy i zainicjalizowanie jej wartościami\n",
        "k = (i ** 2 for i in range(10))\n",
        "\n",
        "# Wyświetlenie zawartości listy k\n",
        "print(f\"K: {k}\")\n",
        "\n",
        "# Wyświetlenie typu listy k\n",
        "print(f\"type(k): {type(k)}\")"
      ]
    },
    {
      "cell_type": "code",
      "execution_count": null,
      "metadata": {
        "trusted": true
      },
      "outputs": [
        {
          "name": "stdout",
          "output_type": "stream",
          "text": [
            "i: 0\n",
            "i: 1\n",
            "i: 4\n",
            "i: 9\n",
            "i: 16\n",
            "i: 25\n",
            "i: 36\n",
            "i: 49\n",
            "i: 64\n",
            "i: 81\n"
          ]
        }
      ],
      "source": [
        "# Dla każdego i należącego do k\n",
        "for i in k:\n",
        "    # Wyświetl licznik i\n",
        "    print(f\"i: {i}\")"
      ]
    },
    {
      "cell_type": "code",
      "execution_count": null,
      "metadata": {
        "trusted": true
      },
      "outputs": [
        {
          "name": "stdout",
          "output_type": "stream",
          "text": [
            "x: 1\n",
            "x: 3\n",
            "x: 5\n",
            "x: 7\n",
            "x: 9\n",
            "x: 11\n",
            "x: 13\n",
            "x: 15\n",
            "x: 17\n",
            "x: 19\n",
            "x: 21\n",
            "x: 23\n",
            "x: 25\n",
            "x: 27\n",
            "x: 29\n"
          ]
        }
      ],
      "source": [
        "# Utworzenie zmiennych i, n oraz x i zainicjalowanie ich wartościami\n",
        "i = 0\n",
        "n = 30\n",
        "x = 2 * i + 1\n",
        "\n",
        "# Doóki x jest mniejsze od n\n",
        "while (x := 2 * i + 1) < n:\n",
        "    # Wyświetl x\n",
        "    print(f\"x: {x}\")\n",
        "    # Inkrementuj i\n",
        "    i += 1\n",
        "    # Ustaw wartość x\n",
        "    x = 2 * i + 1"
      ]
    },
    {
      "attachments": {},
      "cell_type": "markdown",
      "metadata": {},
      "source": [
        "### Słowniki"
      ]
    },
    {
      "cell_type": "code",
      "execution_count": null,
      "metadata": {
        "trusted": true
      },
      "outputs": [
        {
          "name": "stdout",
          "output_type": "stream",
          "text": [
            "dictionary: {'a': 1, 'b': 2, 'c': 3}\n"
          ]
        }
      ],
      "source": [
        "# Utworzenie słownika\n",
        "dictionary = {\n",
        "    \"a\": 1,\n",
        "    \"b\": 2,\n",
        "    \"c\": 3\n",
        "}\n",
        "\n",
        "# Wyświetlenie zawartości słownika\n",
        "print(f\"dictionary: {dictionary}\")"
      ]
    },
    {
      "cell_type": "code",
      "execution_count": null,
      "metadata": {
        "trusted": true
      },
      "outputs": [
        {
          "name": "stdout",
          "output_type": "stream",
          "text": [
            "dictionary.get('c'): 3\n"
          ]
        }
      ],
      "source": [
        "# Wyświetlenie słownika od klucza 'c'\n",
        "print(f\"dictionary.get('c'): {dictionary.get('c')}\")"
      ]
    },
    {
      "cell_type": "code",
      "execution_count": null,
      "metadata": {
        "trusted": true
      },
      "outputs": [
        {
          "name": "stdout",
          "output_type": "stream",
          "text": [
            "dictionary1: (('d', 4), ('e', 5))\n"
          ]
        }
      ],
      "source": [
        "# Utworzenie słownika\n",
        "dictionary1 = (((\"d\", 4), (\"e\", 5)))\n",
        "\n",
        "# Wyświetlenie zawartości słownika\n",
        "print(f\"dictionary1: {dictionary1}\")"
      ]
    },
    {
      "cell_type": "code",
      "execution_count": null,
      "metadata": {
        "trusted": true
      },
      "outputs": [
        {
          "name": "stdout",
          "output_type": "stream",
          "text": [
            "dictionary: {'a': 0, 'b': 2, 'c': 3}\n"
          ]
        }
      ],
      "source": [
        "# Ustawienie wartości słownika od klucza 'a'\n",
        "dictionary[\"a\"] = 0\n",
        "\n",
        "# Wyświetlenie zawartości słownika\n",
        "print(f\"dictionary: {dictionary}\")"
      ]
    },
    {
      "cell_type": "code",
      "execution_count": null,
      "metadata": {
        "trusted": true
      },
      "outputs": [
        {
          "name": "stdout",
          "output_type": "stream",
          "text": [
            "dictionary: {'a': 0, 'b': 2, 'c': 3, 'd': 4, 'e': 5}\n"
          ]
        }
      ],
      "source": [
        "# Aktualizacja słownika\n",
        "dictionary.update(dictionary1)\n",
        "\n",
        "# Wyświetlenie zawartości słownika\n",
        "print(f\"dictionary: {dictionary}\")"
      ]
    },
    {
      "cell_type": "code",
      "execution_count": null,
      "metadata": {
        "trusted": true
      },
      "outputs": [
        {
          "name": "stdout",
          "output_type": "stream",
          "text": [
            "dictionary: {'a': 0, 'b': 2, 'c': 3, 'd': 7, 'e': 5}\n"
          ]
        }
      ],
      "source": [
        "# Ustawienie wartości słownika od klucza 'd'\n",
        "dictionary[\"d\"] = 7\n",
        "\n",
        "# Wyświetlenie zawartości słownika\n",
        "print(f\"dictionary: {dictionary}\")"
      ]
    },
    {
      "cell_type": "code",
      "execution_count": null,
      "metadata": {
        "trusted": true
      },
      "outputs": [
        {
          "name": "stdout",
          "output_type": "stream",
          "text": [
            "dictionary.keys():    dict_keys(['a', 'b', 'c', 'd', 'e'])\n",
            "dictionary.values():  dict_values([0, 2, 3, 7, 5])\n"
          ]
        }
      ],
      "source": [
        "# Wyświetlenie kluczy słownika\n",
        "print(f\"dictionary.keys():    {dictionary.keys()}\")\n",
        "\n",
        "# Wyświetlenie wartości słownika\n",
        "print(f\"dictionary.values():  {dictionary.values()}\")"
      ]
    },
    {
      "cell_type": "code",
      "execution_count": null,
      "metadata": {
        "trusted": true
      },
      "outputs": [
        {
          "name": "stdout",
          "output_type": "stream",
          "text": [
            "'s' in dictionary.keys(): False\n"
          ]
        }
      ],
      "source": [
        "# Wyświetlenie wartości 's' w kluczach słownika\n",
        "print(f\"'s' in dictionary.keys(): {'s' in dictionary.keys()}\")"
      ]
    },
    {
      "cell_type": "code",
      "execution_count": null,
      "metadata": {
        "trusted": true
      },
      "outputs": [
        {
          "name": "stdout",
          "output_type": "stream",
          "text": [
            "dictionary.keys(): dict_keys(['a', 'b', 'c', 'd', 'e'])\n"
          ]
        }
      ],
      "source": [
        "# Wyświetlenie kluczy słownika\n",
        "print(f\"dictionary.keys(): {dictionary.keys()}\")"
      ]
    },
    {
      "cell_type": "code",
      "execution_count": null,
      "metadata": {
        "trusted": true
      },
      "outputs": [
        {
          "name": "stdout",
          "output_type": "stream",
          "text": [
            "dictionary.values(): dict_values([0, 2, 3, 7, 5])\n"
          ]
        }
      ],
      "source": [
        "# Wyświetlenie wartości słownika\n",
        "print(f\"dictionary.values(): {dictionary.values()}\")"
      ]
    },
    {
      "cell_type": "code",
      "execution_count": null,
      "metadata": {
        "trusted": true
      },
      "outputs": [
        {
          "name": "stdout",
          "output_type": "stream",
          "text": [
            "dictionary: (('d', 4), ('e', 5))\n"
          ]
        }
      ],
      "source": [
        "# Wyświetlenie zawartości słownika\n",
        "print(f\"dictionary: {dictionary1}\")"
      ]
    }
  ],
  "metadata": {
    "kernelspec": {
      "display_name": "Python 3",
      "language": "python",
      "name": "python3"
    },
    "language_info": {
      "codemirror_mode": {
        "name": "ipython",
        "version": 3
      },
      "file_extension": ".py",
      "mimetype": "text/x-python",
      "name": "python",
      "nbconvert_exporter": "python",
      "pygments_lexer": "ipython3",
      "version": "3.10.4"
    }
  },
  "nbformat": 4,
  "nbformat_minor": 4
}
