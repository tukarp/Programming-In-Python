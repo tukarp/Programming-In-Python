{
  "cells": [
    {
      "attachments": {},
      "cell_type": "markdown",
      "metadata": {},
      "source": [
        "# Laboratorium 02"
      ]
    },
    {
      "attachments": {},
      "cell_type": "markdown",
      "metadata": {},
      "source": [
        "## Notatki"
      ]
    },
    {
      "attachments": {},
      "cell_type": "markdown",
      "metadata": {},
      "source": [
        "### Listy"
      ]
    },
    {
      "cell_type": "code",
      "execution_count": 30,
      "metadata": {
        "trusted": true
      },
      "outputs": [
        {
          "name": "stdout",
          "output_type": "stream",
          "text": [
            "list1: [1, 9, 25, 49, 81, 121, 169, 225, 289, 361]\n"
          ]
        }
      ],
      "source": [
        "list1 = [i**2 for i in range (1, 20) if i % 2 == 1]\n",
        "print(f\"list1: {list1}\")"
      ]
    },
    {
      "cell_type": "code",
      "execution_count": 31,
      "metadata": {
        "trusted": true
      },
      "outputs": [
        {
          "name": "stdout",
          "output_type": "stream",
          "text": [
            "list2: [1, 2, 3, 4, 5, 6, 7, 8, 9, 10, 11, 12, 13, 14, 15, 16, 17, 18, 19]\n"
          ]
        }
      ],
      "source": [
        "list2 = [i**j for i in range (1, 20) for j in range(1,2)]\n",
        "print(f\"list2: {list2}\")"
      ]
    },
    {
      "cell_type": "code",
      "execution_count": 33,
      "metadata": {
        "trusted": true
      },
      "outputs": [
        {
          "data": {
            "text/plain": [
              "[[1, 2, 3, 4, 5, 6, 7, 8, 9],\n",
              " [1, 4, 9, 16, 25, 36, 49, 64, 81],\n",
              " [1, 8, 27, 64, 125, 216, 343, 512, 729],\n",
              " [1, 16, 81, 256, 625, 1296, 2401, 4096, 6561],\n",
              " [1, 32, 243, 1024, 3125, 7776, 16807, 32768, 59049],\n",
              " [1, 64, 729, 4096, 15625, 46656, 117649, 262144, 531441],\n",
              " [1, 128, 2187, 16384, 78125, 279936, 823543, 2097152, 4782969],\n",
              " [1, 256, 6561, 65536, 390625, 1679616, 5764801, 16777216, 43046721],\n",
              " [1, 512, 19683, 262144, 1953125, 10077696, 40353607, 134217728, 387420489]]"
            ]
          },
          "execution_count": 33,
          "metadata": {},
          "output_type": "execute_result"
        }
      ],
      "source": [
        "list3 = [[i**j for i in range (1, 10)] for j in range(1,10)]\n",
        "list3"
      ]
    },
    {
      "cell_type": "code",
      "execution_count": 34,
      "metadata": {
        "trusted": true
      },
      "outputs": [
        {
          "name": "stdout",
          "output_type": "stream",
          "text": [
            "list4: ['x', '0', 'x', '0', 'x', '0', 'x', '0', 'x', '0']\n"
          ]
        }
      ],
      "source": [
        "list4 = [\"x\" if i % 2 == 0 else \"0\" for i in range(10)]\n",
        "print(f\"list4: {list4}\")"
      ]
    },
    {
      "cell_type": "code",
      "execution_count": 35,
      "metadata": {
        "trusted": true
      },
      "outputs": [
        {
          "name": "stdout",
          "output_type": "stream",
          "text": [
            "'x'.join('x' * i for i in range(4)): xxxxxxxxx\n"
          ]
        }
      ],
      "source": [
        "print(f\"'x'.join('x' * i for i in range(4)): {'x'.join('x' * i for i in range(4))}\")"
      ]
    },
    {
      "cell_type": "code",
      "execution_count": 36,
      "metadata": {
        "trusted": true
      },
      "outputs": [
        {
          "name": "stdout",
          "output_type": "stream",
          "text": [
            "K: <generator object <genexpr> at 0x7f8c0c5895b0>\n",
            "type(k): <class 'generator'>\n"
          ]
        }
      ],
      "source": [
        "k = (i**2 for i in range(10))\n",
        "print(f\"K: {k}\")\n",
        "print(f\"type(k): {type(k)}\")"
      ]
    },
    {
      "cell_type": "code",
      "execution_count": 37,
      "metadata": {
        "trusted": true
      },
      "outputs": [
        {
          "name": "stdout",
          "output_type": "stream",
          "text": [
            "i: 0\n",
            "i: 1\n",
            "i: 4\n",
            "i: 9\n",
            "i: 16\n",
            "i: 25\n",
            "i: 36\n",
            "i: 49\n",
            "i: 64\n",
            "i: 81\n"
          ]
        }
      ],
      "source": [
        "for i in k:\n",
        "    print(f\"i: {i}\")"
      ]
    },
    {
      "cell_type": "code",
      "execution_count": 38,
      "metadata": {
        "trusted": true
      },
      "outputs": [
        {
          "name": "stdout",
          "output_type": "stream",
          "text": [
            "x: 1\n",
            "x: 3\n",
            "x: 5\n",
            "x: 7\n",
            "x: 9\n",
            "x: 11\n",
            "x: 13\n",
            "x: 15\n",
            "x: 17\n",
            "x: 19\n",
            "x: 21\n",
            "x: 23\n",
            "x: 25\n",
            "x: 27\n",
            "x: 29\n"
          ]
        }
      ],
      "source": [
        "i = 0\n",
        "n = 30\n",
        "x = 2 * i + 1\n",
        "while (x := 2 * i + 1) < n:\n",
        "    print(f\"x: {x}\")\n",
        "    i += 1\n",
        "    x = 2 * i + 1"
      ]
    },
    {
      "attachments": {},
      "cell_type": "markdown",
      "metadata": {},
      "source": [
        "### Słowniki"
      ]
    },
    {
      "cell_type": "code",
      "execution_count": 39,
      "metadata": {
        "trusted": true
      },
      "outputs": [
        {
          "name": "stdout",
          "output_type": "stream",
          "text": [
            "dictionary: {'a': 1, 'b': 2, 'c': 3}\n"
          ]
        }
      ],
      "source": [
        "dictionary = {\n",
        "    \"a\": 1,\n",
        "    \"b\": 2,\n",
        "    \"c\": 3\n",
        "}\n",
        "print(f\"dictionary: {dictionary}\")"
      ]
    },
    {
      "cell_type": "code",
      "execution_count": 40,
      "metadata": {
        "trusted": true
      },
      "outputs": [
        {
          "name": "stdout",
          "output_type": "stream",
          "text": [
            "dictionary.get('c'): 3\n"
          ]
        }
      ],
      "source": [
        "print(f\"dictionary.get('c'): {dictionary.get('c')}\")"
      ]
    },
    {
      "cell_type": "code",
      "execution_count": 41,
      "metadata": {
        "trusted": true
      },
      "outputs": [
        {
          "name": "stdout",
          "output_type": "stream",
          "text": [
            "dictionary1: (('d', 4), ('e', 5))\n"
          ]
        }
      ],
      "source": [
        "dictionary1 = (((\"d\", 4), (\"e\", 5)))\n",
        "print(f\"dictionary1: {dictionary1}\")"
      ]
    },
    {
      "cell_type": "code",
      "execution_count": 42,
      "metadata": {
        "trusted": true
      },
      "outputs": [
        {
          "name": "stdout",
          "output_type": "stream",
          "text": [
            "dictionary: {'a': 0, 'b': 2, 'c': 3}\n"
          ]
        }
      ],
      "source": [
        "dictionary[\"a\"] = 0\n",
        "print(f\"dictionary: {dictionary}\")"
      ]
    },
    {
      "cell_type": "code",
      "execution_count": 43,
      "metadata": {
        "trusted": true
      },
      "outputs": [
        {
          "name": "stdout",
          "output_type": "stream",
          "text": [
            "dictionary: {'a': 0, 'b': 2, 'c': 3, 'd': 4, 'e': 5}\n"
          ]
        }
      ],
      "source": [
        "dictionary.update(dictionary1)\n",
        "print(f\"dictionary: {dictionary}\")"
      ]
    },
    {
      "cell_type": "code",
      "execution_count": 44,
      "metadata": {
        "trusted": true
      },
      "outputs": [
        {
          "name": "stdout",
          "output_type": "stream",
          "text": [
            "dictionary: {'a': 0, 'b': 2, 'c': 3, 'd': 7, 'e': 5}\n"
          ]
        }
      ],
      "source": [
        "dictionary[\"d\"] = 7\n",
        "print(f\"dictionary: {dictionary}\")"
      ]
    },
    {
      "cell_type": "code",
      "execution_count": 45,
      "metadata": {
        "trusted": true
      },
      "outputs": [
        {
          "name": "stdout",
          "output_type": "stream",
          "text": [
            "dictionary.keys(): dict_keys(['a', 'b', 'c', 'd', 'e'])\n",
            "dictionary.values(): dict_values([0, 2, 3, 7, 5])\n"
          ]
        }
      ],
      "source": [
        "print(f\"dictionary.keys(): {dictionary.keys()}\")\n",
        "print(f\"dictionary.values(): {dictionary.values()}\")"
      ]
    },
    {
      "cell_type": "code",
      "execution_count": 46,
      "metadata": {
        "trusted": true
      },
      "outputs": [
        {
          "name": "stdout",
          "output_type": "stream",
          "text": [
            "'s' in dictionary.keys(): False\n"
          ]
        }
      ],
      "source": [
        "print(f\"'s' in dictionary.keys(): {'s' in dictionary.keys()}\")"
      ]
    },
    {
      "cell_type": "code",
      "execution_count": 47,
      "metadata": {
        "trusted": true
      },
      "outputs": [
        {
          "name": "stdout",
          "output_type": "stream",
          "text": [
            "dictionary.keys(): dict_keys(['a', 'b', 'c', 'd', 'e'])\n"
          ]
        }
      ],
      "source": [
        "print(f\"dictionary.keys(): {dictionary.keys()}\")"
      ]
    },
    {
      "cell_type": "code",
      "execution_count": 48,
      "metadata": {
        "trusted": true
      },
      "outputs": [
        {
          "name": "stdout",
          "output_type": "stream",
          "text": [
            "dictionary.values(): dict_values([0, 2, 3, 7, 5])\n"
          ]
        }
      ],
      "source": [
        "print(f\"dictionary.values(): {dictionary.values()}\")"
      ]
    },
    {
      "cell_type": "code",
      "execution_count": 49,
      "metadata": {
        "trusted": true
      },
      "outputs": [
        {
          "name": "stdout",
          "output_type": "stream",
          "text": [
            "dictionary: (('d', 4), ('e', 5))\n"
          ]
        }
      ],
      "source": [
        "print(f\"dictionary: {dictionary1}\")"
      ]
    }
  ],
  "metadata": {
    "kernelspec": {
      "display_name": "Python 3",
      "language": "python",
      "name": "python3"
    },
    "language_info": {
      "codemirror_mode": {
        "name": "ipython",
        "version": 3
      },
      "file_extension": ".py",
      "mimetype": "text/x-python",
      "name": "python",
      "nbconvert_exporter": "python",
      "pygments_lexer": "ipython3",
      "version": "3.10.4"
    }
  },
  "nbformat": 4,
  "nbformat_minor": 4
}
