{
  "metadata": {
    "language_info": {
      "codemirror_mode": {
        "name": "python",
        "version": 3
      },
      "file_extension": ".py",
      "mimetype": "text/x-python",
      "name": "python",
      "nbconvert_exporter": "python",
      "pygments_lexer": "ipython3",
      "version": "3.8"
    },
    "kernelspec": {
      "name": "python",
      "display_name": "Python (Pyodide)",
      "language": "python"
    }
  },
  "nbformat_minor": 4,
  "nbformat": 4,
  "cells": [
    {
      "cell_type": "code",
      "source": "# Zadanie 1\n# Zliczanie wystąpień liter w tekście\ntext = \"Ala ma kota, psa, chomika i rybki.\"\ndictionary_counter = {}\nfor i in text:\n    i = i.lower()\n    if i == \" \" or i == \".\" or i == \",\":\n        pass\n    elif i not in dictionary_counter.keys():\n        dictionary_counter[i] = 1\n    else:\n        dictionary_counter[i] += 1\nprint(dictionary_counter)",
      "metadata": {
        "trusted": true
      },
      "execution_count": 34,
      "outputs": [
        {
          "name": "stdout",
          "text": "{'a': 6, 'l': 1, 'm': 2, 'k': 3, 'o': 2, 't': 1, 'p': 1, 's': 1, 'c': 1, 'h': 1, 'i': 3, 'r': 1, 'y': 1, 'b': 1}\n",
          "output_type": "stream"
        }
      ]
    },
    {
      "cell_type": "code",
      "source": "# Zadanie 2\n# Łączenie w pary sekwencje DNA\n# A C T G\n# T G A C\ndna1 = \"ACCTAGCTTA\"\ndna2 = \"\"\ndna_dictionary = {\n    \"A\": \"T\", \n    \"C\": \"G\", \n    \"T\": \"A\", \n    \"G\": \"C\"\n}\nfor i in dna1:\n    dna2 += dna_dictionary[i]\nprint(\"DNA1: \" + dna1)\nprint(\"DNA2: \" + dna2)",
      "metadata": {
        "trusted": true
      },
      "execution_count": 42,
      "outputs": [
        {
          "name": "stdout",
          "text": "DNA1: ACCTAGCTTA\nDNA2: TGGATCGAAT\n",
          "output_type": "stream"
        }
      ]
    },
    {
      "cell_type": "code",
      "source": "# Zadanie 3\n# Sprawdź poprawność par sekwencji DNA\ndna1 = \"ACCTAGCTTA\"\ndna2 = \"TGGACCAGGT\"\ndna_dictionary = (\n    {\"A\", \"T\"}, \n    {\"G\", \"C\"}\n)\nprint(dna1)\nfor i, j in zip(dna1, dna2):\n    if {i, j} in dna_dictionary:\n        print(\"|\", end=\"\")\n    else:\n        print(\".\", end=\"\")\nprint(\"\\n\" + dna2)",
      "metadata": {
        "trusted": true
      },
      "execution_count": 61,
      "outputs": [
        {
          "name": "stdout",
          "text": "ACCTAGCTTA\n||||.|...|\nTGGACCAGGT\n",
          "output_type": "stream"
        }
      ]
    },
  ]
}
