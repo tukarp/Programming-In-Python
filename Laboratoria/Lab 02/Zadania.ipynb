{
  "cells": [
    {
      "attachments": {},
      "cell_type": "markdown",
      "metadata": {},
      "source": [
        "# Laboratorium 02"
      ]
    },
    {
      "attachments": {},
      "cell_type": "markdown",
      "metadata": {},
      "source": [
        "## Zadania"
      ]
    },
    {
      "attachments": {},
      "cell_type": "markdown",
      "metadata": {},
      "source": [
        "### Zadanie 1\n",
        "Zliczanie wystąpień liter w tekście."
      ]
    },
    {
      "cell_type": "code",
      "execution_count": 1,
      "metadata": {
        "trusted": true
      },
      "outputs": [
        {
          "name": "stdout",
          "output_type": "stream",
          "text": [
            "dictionary_counter: {'a': 6, 'l': 1, 'm': 2, 'k': 3, 'o': 2, 't': 1, 'p': 1, 's': 1, 'c': 1, 'h': 1, 'i': 3, 'r': 1, 'y': 1, 'b': 1}\n"
          ]
        }
      ],
      "source": [
        "# Utworzenie zmiennej text\n",
        "text = \"Ala ma kota, psa, chomika i rybki.\"\n",
        "\n",
        "# Utworzenie pustego słownika dictionary_counter\n",
        "dictionary_counter = {}\n",
        "\n",
        "# Dla każdego znaku w zmiennej text\n",
        "for char in text:\n",
        "    # Zamień znak na małą literę\n",
        "    char = char.lower()\n",
        "    # Jeśli znak jest pusty, kropką lub przecinkiem\n",
        "    if char == \" \" or char == \".\" or char == \",\":\n",
        "        # Nic nie rób\n",
        "        pass\n",
        "    # Jeśli znak jest w kluczach słownika\n",
        "    elif char not in dictionary_counter.keys():\n",
        "        # Ustaw wartość w słowniku od znaku na jedynkę\n",
        "        dictionary_counter[char] = 1\n",
        "    # W innym przypadku\n",
        "    else:\n",
        "        # Dodaj jeden do słownika od klucza znaku\n",
        "        dictionary_counter[char] += 1\n",
        "\n",
        "# Wyświetl zawartość słownika dictionary_counter\n",
        "print(f\"dictionary_counter: {dictionary_counter}\")"
      ]
    },
    {
      "attachments": {},
      "cell_type": "markdown",
      "metadata": {},
      "source": [
        "### Zadanie 2\n",
        "Łączenie w pary sekwencje DNA.\n",
        "\n",
        "Pary:\n",
        "- A C T G\n",
        "- T G A C"
      ]
    },
    {
      "cell_type": "code",
      "execution_count": 2,
      "metadata": {
        "trusted": true
      },
      "outputs": [
        {
          "name": "stdout",
          "output_type": "stream",
          "text": [
            "DNA1: ACCTAGCTTA\n",
            "DNA2: TGGATCGAAT\n"
          ]
        }
      ],
      "source": [
        "# Utworzenie łańcuchów DNA\n",
        "dna_one = \"ACCTAGCTTA\"\n",
        "dna_two = \"\"\n",
        "\n",
        "# Utworzenie słownika kluczy DNA dla podanych wartości\n",
        "dna_dictionary = {\n",
        "    \"A\": \"T\", \n",
        "    \"C\": \"G\", \n",
        "    \"T\": \"A\", \n",
        "    \"G\": \"C\"\n",
        "}\n",
        "\n",
        "# Dla każdej wartości w DNA\n",
        "for value in dna_one:\n",
        "    # Dodaj do DNA odpowiadającą mu wartość ze słownika\n",
        "    dna_two += dna_dictionary[value]\n",
        "\n",
        "# Wyświetl wartości DNA\n",
        "print(\"DNA1: \" + dna_one)\n",
        "print(\"DNA2: \" + dna_two)"
      ]
    },
    {
      "attachments": {},
      "cell_type": "markdown",
      "metadata": {},
      "source": [
        "### Zadanie 3\n",
        "Sprawdź poprawność par sekwencji DNA.\n",
        "\n",
        "Pary:\n",
        "- A - T\n",
        "- G - C"
      ]
    },
    {
      "cell_type": "code",
      "execution_count": 3,
      "metadata": {
        "trusted": true
      },
      "outputs": [
        {
          "name": "stdout",
          "output_type": "stream",
          "text": [
            "ACCTAGCTTA\n",
            "||||.|...|\n",
            "TGGACCAGGT\n"
          ]
        }
      ],
      "source": [
        "# Utworzenie łańcuchów DNA\n",
        "dna_one = \"ACCTAGCTTA\"\n",
        "dna_two = \"TGGACCAGGT\"\n",
        "\n",
        "# Utworzenie słownika kluczy DNA dla podanych wartości\n",
        "dna_dictionary = (\n",
        "    {\"A\", \"T\"}, \n",
        "    {\"G\", \"C\"}\n",
        ")\n",
        "\n",
        "# Wyświetlenie pierwszego łańcucha DNA\n",
        "print(dna_one)\n",
        "\n",
        "# Dla wartości DNA połącz je w jedno\n",
        "for value_one, value_two in zip(dna_one, dna_two):\n",
        "    # Jeśli połączone wartości są w słowniku DNA\n",
        "    if {value_one, value_two} in dna_dictionary:\n",
        "        # Wyświetl połączenie\n",
        "        print(\"|\", end=\"\")\n",
        "    # W przeciwynm przypadku\n",
        "    else:\n",
        "        # Wyświetl brak połączenia\n",
        "        print(\".\", end=\"\")\n",
        "\n",
        "# Wyświetlenie drugiego łańcucha DNA\n",
        "print(\"\\n\" + dna_two)"
      ]
    }
  ],
  "metadata": {
    "kernelspec": {
      "display_name": "Python 3",
      "language": "python",
      "name": "python3"
    },
    "language_info": {
      "codemirror_mode": {
        "name": "ipython",
        "version": 3
      },
      "file_extension": ".py",
      "mimetype": "text/x-python",
      "name": "python",
      "nbconvert_exporter": "python",
      "pygments_lexer": "ipython3",
      "version": "3.10.4"
    }
  },
  "nbformat": 4,
  "nbformat_minor": 4
}
