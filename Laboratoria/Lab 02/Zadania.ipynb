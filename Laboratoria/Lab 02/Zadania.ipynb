{
  "cells": [
    {
      "attachments": {},
      "cell_type": "markdown",
      "metadata": {},
      "source": [
        "# Laboratorium 02"
      ]
    },
    {
      "attachments": {},
      "cell_type": "markdown",
      "metadata": {},
      "source": [
        "## Zadania"
      ]
    },
    {
      "attachments": {},
      "cell_type": "markdown",
      "metadata": {},
      "source": [
        "### Zadanie 1\n",
        "Zliczanie wystąpień liter w tekście."
      ]
    },
    {
      "cell_type": "code",
      "execution_count": 1,
      "metadata": {
        "trusted": true
      },
      "outputs": [
        {
          "name": "stdout",
          "output_type": "stream",
          "text": [
            "dictionary_counter: {'a': 6, 'l': 1, 'm': 2, 'k': 3, 'o': 2, 't': 1, 'p': 1, 's': 1, 'c': 1, 'h': 1, 'i': 3, 'r': 1, 'y': 1, 'b': 1}\n"
          ]
        }
      ],
      "source": [
        "text = \"Ala ma kota, psa, chomika i rybki.\"\n",
        "dictionary_counter = {}\n",
        "for i in text:\n",
        "    i = i.lower()\n",
        "    if i == \" \" or i == \".\" or i == \",\":\n",
        "        pass\n",
        "    elif i not in dictionary_counter.keys():\n",
        "        dictionary_counter[i] = 1\n",
        "    else:\n",
        "        dictionary_counter[i] += 1\n",
        "print(f\"dictionary_counter: {dictionary_counter}\")"
      ]
    },
    {
      "attachments": {},
      "cell_type": "markdown",
      "metadata": {},
      "source": [
        "### Zadanie 2\n",
        "Łączenie w pary sekwencje DNA.\n",
        "\n",
        "Pary:\n",
        "- A C T G\n",
        "- T G A C"
      ]
    },
    {
      "cell_type": "code",
      "execution_count": 2,
      "metadata": {
        "trusted": true
      },
      "outputs": [
        {
          "name": "stdout",
          "output_type": "stream",
          "text": [
            "DNA1: ACCTAGCTTA\n",
            "DNA2: TGGATCGAAT\n"
          ]
        }
      ],
      "source": [
        "dna1 = \"ACCTAGCTTA\"\n",
        "dna2 = \"\"\n",
        "dna_dictionary = {\n",
        "    \"A\": \"T\", \n",
        "    \"C\": \"G\", \n",
        "    \"T\": \"A\", \n",
        "    \"G\": \"C\"\n",
        "}\n",
        "for i in dna1:\n",
        "    dna2 += dna_dictionary[i]\n",
        "print(\"DNA1: \" + dna1)\n",
        "print(\"DNA2: \" + dna2)"
      ]
    },
    {
      "attachments": {},
      "cell_type": "markdown",
      "metadata": {},
      "source": [
        "### Zadanie 3\n",
        "Sprawdź poprawność par sekwencji DNA.\n",
        "\n",
        "Pary:\n",
        "- A - T\n",
        "- G - C"
      ]
    },
    {
      "cell_type": "code",
      "execution_count": 3,
      "metadata": {
        "trusted": true
      },
      "outputs": [
        {
          "name": "stdout",
          "output_type": "stream",
          "text": [
            "ACCTAGCTTA\n",
            "||||.|...|\n",
            "TGGACCAGGT\n"
          ]
        }
      ],
      "source": [
        "dna1 = \"ACCTAGCTTA\"\n",
        "dna2 = \"TGGACCAGGT\"\n",
        "dna_dictionary = (\n",
        "    {\"A\", \"T\"}, \n",
        "    {\"G\", \"C\"}\n",
        ")\n",
        "print(dna1)\n",
        "for i, j in zip(dna1, dna2):\n",
        "    if {i, j} in dna_dictionary:\n",
        "        print(\"|\", end=\"\")\n",
        "    else:\n",
        "        print(\".\", end=\"\")\n",
        "print(\"\\n\" + dna2)"
      ]
    }
  ],
  "metadata": {
    "kernelspec": {
      "display_name": "Python 3",
      "language": "python",
      "name": "python3"
    },
    "language_info": {
      "codemirror_mode": {
        "name": "ipython",
        "version": 3
      },
      "file_extension": ".py",
      "mimetype": "text/x-python",
      "name": "python",
      "nbconvert_exporter": "python",
      "pygments_lexer": "ipython3",
      "version": "3.10.4"
    }
  },
  "nbformat": 4,
  "nbformat_minor": 4
}
