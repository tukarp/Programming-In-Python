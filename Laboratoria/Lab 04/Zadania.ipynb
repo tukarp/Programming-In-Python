{
  "metadata": {
    "language_info": {
      "codemirror_mode": {
        "name": "python",
        "version": 3
      },
      "file_extension": ".py",
      "mimetype": "text/x-python",
      "name": "python",
      "nbconvert_exporter": "python",
      "pygments_lexer": "ipython3",
      "version": "3.8"
    },
    "kernelspec": {
      "name": "python",
      "display_name": "Python (Pyodide)",
      "language": "python"
    }
  },
  "nbformat_minor": 4,
  "nbformat": 4,
  "cells": [
    {
      "cell_type": "code",
      "source": "# Zadania\n# Ćwiczenie 8\n# Z podanej listy liczb całkowitych numbers odrzuć liczby podzielne przez trzy,\n# spośród pozostałych elementów podwój nieparzyste.\nnumbers = [34, 23, 96, 10, 87, 43, 64, 2, 69, 77]\nresult = [2 * number if number % 2 == 0 else number for number in numbers if number % 3 != 0]\nprint(result)",
      "metadata": {
        "trusted": true
      },
      "execution_count": 179,
      "outputs": [
        {
          "name": "stdout",
          "text": "[68, 23, 20, 43, 128, 4, 77]\n",
          "output_type": "stream"
        }
      ]
    },
    {
      "cell_type": "code",
      "source": "# Ćwiczenie 9\n# W podanej liście łańcuchów oczyść elementy z nieliter.\nstrings = [\"gaifhasi_!#!\", \"goneaNALKJFNLKS()!!@#\", \"GJOIAealf&^&@!\", \"ASJ@*(!@#\", \"JUFDSA$()@!\"]\nresult = [\"\".join(char for char in string if char.isalpha()) for string in strings]\nprint(result)",
      "metadata": {
        "trusted": true
      },
      "execution_count": 180,
      "outputs": [
        {
          "name": "stdout",
          "text": "['gaifhasi', 'goneaNALKJFNLKS', 'GJOIAealf', 'ASJ', 'JUFDSA']\n",
          "output_type": "stream"
        }
      ]
    },
    {
      "cell_type": "code",
      "source": "# Ćwiczenie 10\n# W podanej liście łańcuchów oczyść elementy z niecyfr,\n# następnie przekształć je na liczby całkowite (pamiętaj o konieczności odrzucenia łańcuchów pustych).\nstrings = [\"gasn211\", \"4123421\", \"gqjioa123sa\", \"g4dak90as\", \"312351\"]\nresult = [int(string) for string in [\"\".join(char for char in string if char.isdigit()) for string in strings] if string]\nprint(result)",
      "metadata": {
        "trusted": true
      },
      "execution_count": 181,
      "outputs": [
        {
          "name": "stdout",
          "text": "[211, 4123421, 123, 490, 312351]\n",
          "output_type": "stream"
        }
      ]
    },
    {
      "cell_type": "code",
      "source": "# Ćwiczenie 11\n# Z podanej listy krotek odrzuć krotki krótsze niż 2, pozostałe przytnij do pierwszych dwóch elementów.\nstrings = (\"tgsaudsa\", \"ga\", \"iupdmas\", \"ngapioms\", \"3sdaf\")\nresult = [tuple(string[:2]) for string in strings if len(string) > 1]\nprint(result)",
      "metadata": {
        "trusted": true
      },
      "execution_count": 182,
      "outputs": [
        {
          "name": "stdout",
          "text": "[('t', 'g'), ('g', 'a'), ('i', 'u'), ('n', 'g'), ('3', 's')]\n",
          "output_type": "stream"
        }
      ]
    },
    {
      "cell_type": "code",
      "source": "# Ćwiczenie 12\n# Z podanej listy krotek odrzuć krotki, których suma jest nieparzysta.\nnumbers_tuple = [(4, 1, 2), (4, 2, 1), (6, 0, 9), (9, 1, 2), (5, 9, 1)]\nresult = [number for number in numbers_tuple if sum(number) % 2]\nprint(result)",
      "metadata": {
        "trusted": true
      },
      "execution_count": 194,
      "outputs": [
        {
          "name": "stdout",
          "output_type": "stream",
          "text": [
            "[(4, 1, 2), (4, 2, 1), (6, 0, 9), (5, 9, 1)]\n"
          ]
        }
      ]
    },
    {
      "cell_type": "code",
      "source": "# Ćwiczenie 13\n# W podanej liście krotek pozostaw krotki, których wszystkie elementy są podzielne przez 3.\nnumbers_tuple = [(4, 5, 2), (1, 8, 1), (6, 3, 9), (5, 1, 3), (5, 9, 4)]\nresult = [numbers for numbers in numbers_tuple if all([number % 3 for number in numbers])]\nprint(result)",
      "metadata": {
        "trusted": true
      },
      "execution_count": 184,
      "outputs": [
        {
          "name": "stdout",
          "text": "[(4, 5, 2), (1, 8, 1)]\n",
          "output_type": "stream"
        }
      ]
    },
    {
      "cell_type": "code",
      "source": "# Ćwiczenie 14\n# W podanej liście krotek pozostaw te, w których istnieje element podzielny przez 3.\nnumbers_tuple = [(4, 2, 2), (9, 8, 7), (6, 3, 9), (1, 1, 3), (7, 4, 4)]\nresult = [numbers for numbers in numbers_tuple if any([number % 3 == 0 for number in numbers])]\nprint(result)",
      "metadata": {
        "trusted": true
      },
      "execution_count": 185,
      "outputs": [
        {
          "name": "stdout",
          "text": "[(9, 8, 7), (6, 3, 9), (1, 1, 3)]\n",
          "output_type": "stream"
        }
      ]
    },
    {
      "cell_type": "code",
      "source": "# Ćwiczenia 15\n# W podanej liście niepustych łańcuchów pozostaw łańcuchy zawierające więcej niż jedno słowo\n# (spacja w środku) i przytnij je do pierwszego słowa.\nstrings = [\"gas fsiaf\", \"hjedj hedj ghfdsiouh\", \"h9sd12dsangl hgfs\", \"gjds sad\", \"bxmcn43 bidhds13\"]\nresult = [string.split(\" \", 1)[0] for string in strings if \" \" in string.strip()]\nprint(result)",
      "metadata": {
        "trusted": true
      },
      "execution_count": 164,
      "outputs": [
        {
          "name": "stdout",
          "text": "['gas', 'hjedj', 'h9sd12dsangl', 'gjds', 'bxmcn43']\n",
          "output_type": "stream"
        }
      ]
    },
    {
      "cell_type": "code",
      "source": "# Ćwiczenia 16\n# Napisz jednolinijkowy program sprawdzający zachodzenie prawa de Morgana\n# dla listy wartości logicznych A.\nall_items = [1, 2, 3, 4, 5]\ncondition = lambda x : x < 4\nnot_all_items = not all(condition(x) for x in all_items)\nsome_not_items = any(not condition(x) for x in all_items)\nresult1 = not_all_items == some_not_items\nprint(result1)",
      "metadata": {
        "trusted": true
      },
      "execution_count": 186,
      "outputs": [
        {
          "name": "stdout",
          "text": "True\n",
          "output_type": "stream"
        }
      ]
    },
    {
      "cell_type": "code",
      "source": "A = [True, False]\nresult2 = not all(A) == any(not i for i in A)\nprint(result2)",
      "metadata": {
        "trusted": true
      },
      "execution_count": 187,
      "outputs": [
        {
          "name": "stdout",
          "text": "True\n",
          "output_type": "stream"
        }
      ]
    },
    {
      "cell_type": "code",
      "source": "# Ćwiczenie 22\n# Wykonaj ćwiczenia od 8. do 15. za pomocą instrukcji map oraz filter.",
      "metadata": {
        "trusted": true
      },
      "execution_count": 188,
      "outputs": []
    },
    {
      "cell_type": "code",
      "source": "# Ćwiczenie 8\n# Z podanej listy liczb całkowitych numbers odrzuć liczby podzielne przez trzy,\n# spośród pozostałych elementów podwój nieparzyste.\nnumbers = [34, 23, 96, 10, 87, 43, 64, 2, 69, 77]\nresult = list(map(lambda number : number * 2 if number % 2 else number, filter(lambda number : number % 3, numbers)))\nprint(result)",
      "metadata": {
        "trusted": true
      },
      "execution_count": 189,
      "outputs": [
        {
          "name": "stdout",
          "text": "[34, 46, 10, 86, 64, 2, 154]\n",
          "output_type": "stream"
        }
      ]
    },
    {
      "cell_type": "code",
      "source": "# Ćwiczenie 9\n# W podanej liście łańcuchów oczyść elementy z nieliter.\nstrings = [\"gaifhasi_!#!\", \"goneaNALKJFNLKS()!!@#\", \"GJOIAealf&^&@!\", \"ASJ@*(!@#\", \"JUFDSA$()@!\"]\nresult = list(map(lambda string:\"\".join(filter(lambda char:char.isalpha(), string)), strings))\nprint(result)",
      "metadata": {
        "trusted": true
      },
      "execution_count": 190,
      "outputs": [
        {
          "name": "stdout",
          "text": "['gaifhasi', 'goneaNALKJFNLKS', 'GJOIAealf', 'ASJ', 'JUFDSA']\n",
          "output_type": "stream"
        }
      ]
    },
    {
      "cell_type": "code",
      "source": "# Ćwiczenie 10\n# W podanej liście łańcuchów oczyść elementy z niecyfr,\n# następnie przekształć je na liczby całkowite (pamiętaj o konieczności odrzucenia łańcuchów pustych).\nstrings = [\"gasn211\", \"4123421\", \"gqjioa123sa\", \"g4dak90as\", \"312351\"]\nresult = list(map(int, filter(bool, map(lambda string:\"\".join(filter(lambda char:char.isdigit(), string)), strings))))\nprint(result)",
      "metadata": {
        "trusted": true
      },
      "execution_count": 192,
      "outputs": [
        {
          "name": "stdout",
          "text": "[211, 4123421, 123, 490, 312351]\n",
          "output_type": "stream"
        }
      ]
    }
  ]
}
