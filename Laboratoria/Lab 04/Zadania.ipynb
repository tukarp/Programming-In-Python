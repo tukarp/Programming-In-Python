{
  "cells": [
    {
      "attachments": {},
      "cell_type": "markdown",
      "metadata": {},
      "source": [
        "# Laboratorium 04"
      ]
    },
    {
      "attachments": {},
      "cell_type": "markdown",
      "metadata": {},
      "source": [
        "## Zadania"
      ]
    },
    {
      "attachments": {},
      "cell_type": "markdown",
      "metadata": {},
      "source": [
        "### Ćwiczenie 8\n",
        "Z podanej listy liczb całkowitych numbers odrzuć liczby podzielne przez trzy, spośród pozostałych elementów podwój nieparzyste."
      ]
    },
    {
      "cell_type": "code",
      "execution_count": 1,
      "metadata": {
        "trusted": true
      },
      "outputs": [
        {
          "name": "stdout",
          "output_type": "stream",
          "text": [
            "result: [68, 23, 20, 43, 128, 4, 77]\n"
          ]
        }
      ],
      "source": [
        "numbers = [34, 23, 96, 10, 87, 43, 64, 2, 69, 77]\n",
        "result = [2 * number if number % 2 == 0 else number for number in numbers if number % 3 != 0]\n",
        "print(f\"result: {result}\")"
      ]
    },
    {
      "attachments": {},
      "cell_type": "markdown",
      "metadata": {},
      "source": [
        "### Ćwiczenie 9\n",
        "W podanej liście łańcuchów oczyść elementy z nieliter."
      ]
    },
    {
      "cell_type": "code",
      "execution_count": 2,
      "metadata": {
        "trusted": true
      },
      "outputs": [
        {
          "name": "stdout",
          "output_type": "stream",
          "text": [
            "result: ['gaifhasi', 'goneaNALKJFNLKS', 'GJOIAealf', 'ASJ', 'JUFDSA']\n"
          ]
        }
      ],
      "source": [
        "strings = [\"gaifhasi_!#!\", \"goneaNALKJFNLKS()!!@#\", \"GJOIAealf&^&@!\", \"ASJ@*(!@#\", \"JUFDSA$()@!\"]\n",
        "result = [\"\".join(char for char in string if char.isalpha()) for string in strings]\n",
        "print(f\"result: {result}\")"
      ]
    },
    {
      "attachments": {},
      "cell_type": "markdown",
      "metadata": {},
      "source": [
        "### Ćwiczenie 10\n",
        "W podanej liście łańcuchów oczyść elementy z niecyfr,\n",
        "następnie przekształć je na liczby całkowite (pamiętaj o konieczności odrzucenia łańcuchów pustych)."
      ]
    },
    {
      "cell_type": "code",
      "execution_count": 3,
      "metadata": {
        "trusted": true
      },
      "outputs": [
        {
          "name": "stdout",
          "output_type": "stream",
          "text": [
            "result: [211, 4123421, 123, 490, 312351]\n"
          ]
        }
      ],
      "source": [
        "strings = [\"gasn211\", \"4123421\", \"gqjioa123sa\", \"g4dak90as\", \"312351\"]\n",
        "result = [int(string) for string in [\"\".join(char for char in string if char.isdigit()) for string in strings] if string]\n",
        "print(f\"result: {result}\")"
      ]
    },
    {
      "attachments": {},
      "cell_type": "markdown",
      "metadata": {},
      "source": [
        "### Ćwiczenie 11\n",
        "Z podanej listy krotek odrzuć krotki krótsze niż 2, pozostałe przytnij do pierwszych dwóch elementów."
      ]
    },
    {
      "cell_type": "code",
      "execution_count": 4,
      "metadata": {
        "trusted": true
      },
      "outputs": [
        {
          "name": "stdout",
          "output_type": "stream",
          "text": [
            "result: [('t', 'g'), ('g', 'a'), ('i', 'u'), ('n', 'g'), ('3', 's')]\n"
          ]
        }
      ],
      "source": [
        "strings = (\"tgsaudsa\", \"ga\", \"iupdmas\", \"ngapioms\", \"3sdaf\")\n",
        "result = [tuple(string[:2]) for string in strings if len(string) > 1]\n",
        "print(f\"result: {result}\")"
      ]
    },
    {
      "attachments": {},
      "cell_type": "markdown",
      "metadata": {},
      "source": [
        "### Ćwiczenie 12\n",
        "Z podanej listy krotek odrzuć krotki, których suma jest nieparzysta."
      ]
    },
    {
      "cell_type": "code",
      "execution_count": 5,
      "metadata": {
        "trusted": true
      },
      "outputs": [
        {
          "name": "stdout",
          "output_type": "stream",
          "text": [
            "result: [(4, 1, 2), (4, 2, 1), (6, 0, 9), (5, 9, 1)]\n"
          ]
        }
      ],
      "source": [
        "numbers_tuple = [(4, 1, 2), (4, 2, 1), (6, 0, 9), (9, 1, 2), (5, 9, 1)]\n",
        "result = [number for number in numbers_tuple if sum(number) % 2]\n",
        "print(f\"result: {result}\")"
      ]
    },
    {
      "attachments": {},
      "cell_type": "markdown",
      "metadata": {},
      "source": [
        "### Ćwiczenie 13\n",
        "W podanej liście krotek pozostaw krotki, których wszystkie elementy są podzielne przez 3."
      ]
    },
    {
      "cell_type": "code",
      "execution_count": 6,
      "metadata": {
        "trusted": true
      },
      "outputs": [
        {
          "name": "stdout",
          "output_type": "stream",
          "text": [
            "result: [(4, 5, 2), (1, 8, 1)]\n"
          ]
        }
      ],
      "source": [
        "numbers_tuple = [(4, 5, 2), (1, 8, 1), (6, 3, 9), (5, 1, 3), (5, 9, 4)]\n",
        "result = [numbers for numbers in numbers_tuple if all([number % 3 for number in numbers])]\n",
        "print(f\"result: {result}\")"
      ]
    },
    {
      "attachments": {},
      "cell_type": "markdown",
      "metadata": {},
      "source": [
        "### Ćwiczenie 14\n",
        "W podanej liście krotek pozostaw te, w których istnieje element podzielny przez 3."
      ]
    },
    {
      "cell_type": "code",
      "execution_count": 7,
      "metadata": {
        "trusted": true
      },
      "outputs": [
        {
          "name": "stdout",
          "output_type": "stream",
          "text": [
            "result: [(9, 8, 7), (6, 3, 9), (1, 1, 3)]\n"
          ]
        }
      ],
      "source": [
        "numbers_tuple = [(4, 2, 2), (9, 8, 7), (6, 3, 9), (1, 1, 3), (7, 4, 4)]\n",
        "result = [numbers for numbers in numbers_tuple if any([number % 3 == 0 for number in numbers])]\n",
        "print(f\"result: {result}\")"
      ]
    },
    {
      "attachments": {},
      "cell_type": "markdown",
      "metadata": {},
      "source": [
        "### Ćwiczenie 15\n",
        "W podanej liście niepustych łańcuchów pozostaw łańcuchy zawierające więcej niż jedno słowo (spacja w środku) i przytnij je do pierwszego słowa."
      ]
    },
    {
      "cell_type": "code",
      "execution_count": 8,
      "metadata": {
        "trusted": true
      },
      "outputs": [
        {
          "name": "stdout",
          "output_type": "stream",
          "text": [
            "result: ['gas', 'hjedj', 'h9sd12dsangl', 'gjds', 'bxmcn43']\n"
          ]
        }
      ],
      "source": [
        "strings = [\"gas fsiaf\", \"hjedj hedj ghfdsiouh\", \"h9sd12dsangl hgfs\", \"gjds sad\", \"bxmcn43 bidhds13\"]\n",
        "result = [string.split(\" \", 1)[0] for string in strings if \" \" in string.strip()]\n",
        "print(f\"result: {result}\")"
      ]
    },
    {
      "attachments": {},
      "cell_type": "markdown",
      "metadata": {},
      "source": [
        "### Ćwiczenia 16\n",
        "Napisz jednolinijkowy program sprawdzający zachodzenie prawa de Morgana dla listy wartości logicznych A."
      ]
    },
    {
      "cell_type": "code",
      "execution_count": 9,
      "metadata": {
        "trusted": true
      },
      "outputs": [
        {
          "name": "stdout",
          "output_type": "stream",
          "text": [
            "result1: True\n"
          ]
        }
      ],
      "source": [
        "all_items = [1, 2, 3, 4, 5]\n",
        "condition = lambda x : x < 4\n",
        "not_all_items = not all(condition(x) for x in all_items)\n",
        "some_not_items = any(not condition(x) for x in all_items)\n",
        "result1 = not_all_items == some_not_items\n",
        "print(f\"result1: {result1}\")"
      ]
    },
    {
      "cell_type": "code",
      "execution_count": 10,
      "metadata": {
        "trusted": true
      },
      "outputs": [
        {
          "name": "stdout",
          "output_type": "stream",
          "text": [
            "result2: True\n"
          ]
        }
      ],
      "source": [
        "A = [True, False]\n",
        "result2 = not all(A) == any(not i for i in A)\n",
        "print(f\"result2: {result2}\")"
      ]
    },
    {
      "attachments": {},
      "cell_type": "markdown",
      "metadata": {},
      "source": [
        "### Ćwiczenie 22\n",
        "Wykonaj ćwiczenia od 8. do 15. za pomocą instrukcji map oraz filter."
      ]
    },
    {
      "attachments": {},
      "cell_type": "markdown",
      "metadata": {},
      "source": [
        "### Ćwiczenie 8\n",
        "Z podanej listy liczb całkowitych numbers odrzuć liczby podzielne przez trzy, spośród pozostałych elementów podwój nieparzyste."
      ]
    },
    {
      "cell_type": "code",
      "execution_count": 11,
      "metadata": {
        "trusted": true
      },
      "outputs": [
        {
          "name": "stdout",
          "output_type": "stream",
          "text": [
            "result: [34, 46, 10, 86, 64, 2, 154]\n"
          ]
        }
      ],
      "source": [
        "numbers = [34, 23, 96, 10, 87, 43, 64, 2, 69, 77]\n",
        "result = list(map(lambda number : number * 2 if number % 2 else number, filter(lambda number : number % 3, numbers)))\n",
        "print(f\"result: {result}\")"
      ]
    },
    {
      "attachments": {},
      "cell_type": "markdown",
      "metadata": {},
      "source": [
        "### Ćwiczenie 9\n",
        "W podanej liście łańcuchów oczyść elementy z nieliter."
      ]
    },
    {
      "cell_type": "code",
      "execution_count": 12,
      "metadata": {
        "trusted": true
      },
      "outputs": [
        {
          "name": "stdout",
          "output_type": "stream",
          "text": [
            "result: ['gaifhasi', 'goneaNALKJFNLKS', 'GJOIAealf', 'ASJ', 'JUFDSA']\n"
          ]
        }
      ],
      "source": [
        "strings = [\"gaifhasi_!#!\", \"goneaNALKJFNLKS()!!@#\", \"GJOIAealf&^&@!\", \"ASJ@*(!@#\", \"JUFDSA$()@!\"]\n",
        "result = list(map(lambda string:\"\".join(filter(lambda char:char.isalpha(), string)), strings))\n",
        "print(f\"result: {result}\")"
      ]
    },
    {
      "attachments": {},
      "cell_type": "markdown",
      "metadata": {},
      "source": [
        "### Ćwiczenie 10\n",
        "W podanej liście łańcuchów oczyść elementy z niecyfr, następnie przekształć je na liczby całkowite (pamiętaj o konieczności odrzucenia łańcuchów pustych)."
      ]
    },
    {
      "cell_type": "code",
      "execution_count": 13,
      "metadata": {
        "trusted": true
      },
      "outputs": [
        {
          "name": "stdout",
          "output_type": "stream",
          "text": [
            "result: [211, 4123421, 123, 490, 312351]\n"
          ]
        }
      ],
      "source": [
        "strings = [\"gasn211\", \"4123421\", \"gqjioa123sa\", \"g4dak90as\", \"312351\"]\n",
        "result = list(map(int, filter(bool, map(lambda string:\"\".join(filter(lambda char:char.isdigit(), string)), strings))))\n",
        "print(f\"result: {result}\")"
      ]
    }
  ],
  "metadata": {
    "kernelspec": {
      "display_name": "Python 3",
      "language": "python",
      "name": "python3"
    },
    "language_info": {
      "codemirror_mode": {
        "name": "ipython",
        "version": 3
      },
      "file_extension": ".py",
      "mimetype": "text/x-python",
      "name": "python",
      "nbconvert_exporter": "python",
      "pygments_lexer": "ipython3",
      "version": "3.10.4"
    }
  },
  "nbformat": 4,
  "nbformat_minor": 4
}
