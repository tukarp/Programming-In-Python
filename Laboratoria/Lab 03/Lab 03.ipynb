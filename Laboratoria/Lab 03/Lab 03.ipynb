{
  "cells": [
    {
      "attachments": {},
      "cell_type": "markdown",
      "metadata": {},
      "source": [
        "# Programowanie w Pythonie"
      ]
    },
    {
      "attachments": {},
      "cell_type": "markdown",
      "metadata": {},
      "source": [
        "## Laboratorium 03"
      ]
    },
    {
      "attachments": {},
      "cell_type": "markdown",
      "metadata": {},
      "source": [
        "### Importowanie bibliotek"
      ]
    },
    {
      "cell_type": "code",
      "execution_count": 1,
      "metadata": {},
      "outputs": [],
      "source": [
        "from functools import reduce\n",
        "from sys import argv"
      ]
    },
    {
      "attachments": {},
      "cell_type": "markdown",
      "metadata": {},
      "source": [
        "### Funkcje"
      ]
    },
    {
      "cell_type": "code",
      "execution_count": 2,
      "metadata": {
        "trusted": true
      },
      "outputs": [
        {
          "name": "stdout",
          "output_type": "stream",
          "text": [
            "square(5): 25\n"
          ]
        }
      ],
      "source": [
        "# Funkcja obliczająca kwadrat z podanej liczby\n",
        "def square(number):\n",
        "    # Zwróć liczbę podniesioną do kwadratu\n",
        "    return number ** 2\n",
        "\n",
        "# Wyświetl kwadrat z liczby 5\n",
        "print(f\"square(5): {square(5)}\")"
      ]
    },
    {
      "attachments": {},
      "cell_type": "markdown",
      "metadata": {},
      "source": [
        "### Domyślne wartości"
      ]
    },
    {
      "cell_type": "code",
      "execution_count": 3,
      "metadata": {
        "trusted": true
      },
      "outputs": [
        {
          "name": "stdout",
          "output_type": "stream",
          "text": [
            "concat(\"Ala\"): Ala nie ma nic\n",
            "concat(\"Ola\", \"nie wiem\"): Ola nie wiem nic\n",
            "concat(\"Basia\", string_three = \"chomika\"): Basia nie ma chomika\n"
          ]
        }
      ],
      "source": [
        "# Funkcja łącząca łańcuchy znaków\n",
        "def concat(string1, string2 = \"nie ma\", string3 = \"nic\"):\n",
        "    # Zwróć połączone łańcuchy napisów\n",
        "    return string1 + \" \" + string2 + \" \" + string3\n",
        "\n",
        "# Wyświetl połączony napis 'Ala'\n",
        "print(f'concat(\"Ala\"): {concat(\"Ala\")}')\n",
        "\n",
        "# Wyświetl połączony napis 'Ala' oraz 'nie wiem'\n",
        "print(f'concat(\"Ola\", \"nie wiem\"): {concat(\"Ola\", \"nie wiem\")}')\n",
        "\n",
        "# Wyświetl połączony napis 'Basia' oraz 'chomika'\n",
        "print(f'concat(\"Basia\", string_three = \"chomika\"): {concat(\"Basia\", string3 = \"chomika\")}')"
      ]
    },
    {
      "attachments": {},
      "cell_type": "markdown",
      "metadata": {},
      "source": [
        "### Argumenty funkcji nie mają zdefiniowanego typu"
      ]
    },
    {
      "cell_type": "code",
      "execution_count": 4,
      "metadata": {
        "trusted": true
      },
      "outputs": [
        {
          "name": "stdout",
          "output_type": "stream",
          "text": [
            "length(5): 5\n"
          ]
        }
      ],
      "source": [
        "# Funkcja zwracająca długość podanego argumentu\n",
        "def length(x):\n",
        "    # Jeśli typ x to (string, list, tuple, bytes)\n",
        "    if type(x) in (str, list, tuple, bytes):\n",
        "        # Zwróć długość x\n",
        "        return len(x)\n",
        "    # Jeśli typ x to (int, float, complex)\n",
        "    elif type(x) in (int, float, complex):\n",
        "        # Zwróć długość wartość bezwględną z x\n",
        "        return abs(x)\n",
        "    # W innym wypadku\n",
        "    else:\n",
        "        # Zwróć nic\n",
        "        return None\n",
        "\n",
        "# Wyświetl długość podanego argumentu\n",
        "print(f\"length(5): {length(5)}\")"
      ]
    },
    {
      "attachments": {},
      "cell_type": "markdown",
      "metadata": {},
      "source": [
        "### Zmienna liczba argumentów"
      ]
    },
    {
      "cell_type": "code",
      "execution_count": 5,
      "metadata": {
        "trusted": true
      },
      "outputs": [
        {
          "name": "stdout",
          "output_type": "stream",
          "text": [
            "('a', [1, 2], 3)\n",
            "{}\n",
            "None\n",
            "('a', 1, 2)\n",
            "{'c': 3, 'd': [4, 5]}\n",
            "None\n"
          ]
        }
      ],
      "source": [
        "# Funkcja wyświetlająca podany argument\n",
        "def function(* args):\n",
        "    # Wyświetl podany argument\n",
        "    print(args)\n",
        "\n",
        "# Funkcja wyświetlająca podane argumenty\n",
        "def function(* args, ** kwargs):\n",
        "    # Wyświetl podane argument\n",
        "    print(args)\n",
        "    print(kwargs)\n",
        "\n",
        "# Wyświetl funkcje od podanych argumentów\n",
        "print(function(\"a\", [1, 2], 3))\n",
        "print(function('a', 1, 2, c=3, d=[4, 5]))"
      ]
    },
    {
      "attachments": {},
      "cell_type": "markdown",
      "metadata": {},
      "source": [
        "### Dokumentacja"
      ]
    },
    {
      "cell_type": "code",
      "execution_count": 6,
      "metadata": {
        "trusted": true
      },
      "outputs": [
        {
          "name": "stdout",
          "output_type": "stream",
          "text": [
            "To jest prosta funkcja obliczająca pierwiastek.\n",
            "Return the number of items in a container.\n",
            "Return a list of the words in the string, using sep as the delimiter string.\n",
            "\n",
            "  sep\n",
            "    The delimiter according which to split the string.\n",
            "    None (the default value) means split according to any whitespace,\n",
            "    and discard empty strings from the result.\n",
            "  maxsplit\n",
            "    Maximum number of splits to do.\n",
            "    -1 (the default value) means no limit.\n"
          ]
        }
      ],
      "source": [
        "# Funkcja obliczająca pierwiastek z podanej liczby\n",
        "def documentation(number):\n",
        "    # Utworzenie dokumentacji dla funkcji\n",
        "    \"\"\"To jest prosta funkcja obliczająca pierwiastek.\"\"\"\n",
        "    # Zwrócenie pierwiastka z liczby\n",
        "    return number ** 0.5\n",
        "\n",
        "# Wyświetl dokumentację\n",
        "print(documentation.__doc__)\n",
        "\n",
        "# Wyświetl długość całej dokumentacji\n",
        "print(len.__doc__)\n",
        "\n",
        "# Utworzenie łańcucha znaków\n",
        "string = \"a b c\"\n",
        "# Wyświetlenie dkomunetacji dla funkcji split() wywołanej od podanego łańcucha znakowego\n",
        "print(string.split.__doc__)"
      ]
    },
    {
      "attachments": {},
      "cell_type": "markdown",
      "metadata": {},
      "source": [
        "### Zmienne globalne i lokalne"
      ]
    },
    {
      "cell_type": "code",
      "execution_count": 7,
      "metadata": {
        "trusted": true
      },
      "outputs": [
        {
          "name": "stdout",
          "output_type": "stream",
          "text": [
            "number_to_power_of_i(5): 625\n"
          ]
        }
      ],
      "source": [
        "# Funkcja zwracająca liczbę podaną w argumencie do potęgi i\n",
        "def number_to_power_of_i(number):\n",
        "    # Zwróć liczbę podniesioną do potęgi i\n",
        "    return number ** i\n",
        "\n",
        "# Utworzenie zmiennej liczbowej i\n",
        "i = 4\n",
        "# Wyświetlenie działania funkcji od liczby 5\n",
        "print(f\"number_to_power_of_i(5): {number_to_power_of_i(5)}\")"
      ]
    },
    {
      "cell_type": "code",
      "execution_count": 8,
      "metadata": {
        "trusted": true
      },
      "outputs": [
        {
          "name": "stdout",
          "output_type": "stream",
          "text": [
            "lokalnie: 8\n",
            "function1(5): 390625\n",
            "i: 4\n"
          ]
        }
      ],
      "source": [
        "# Funkcja zwracająca liczbę podaną w argumencie do potęgi i\n",
        "def function1(number):\n",
        "    # Zmień wartość i\n",
        "    i = number + 3\n",
        "    # Wyświetl lokalną wartość i\n",
        "    print(\"lokalnie:\", i)\n",
        "    # Zwróć liczbę podniesioną do potęgi i\n",
        "    return number ** i\n",
        "\n",
        "# Utworzenie zmiennej liczbowej i\n",
        "i = 4\n",
        "\n",
        "# Wyświetlenie działania funkcji od liczby 5\n",
        "print(f\"function1(5): {function1(5)}\")\n",
        "\n",
        "# Wyświetlenie wartości i\n",
        "print(f\"i: {i}\")"
      ]
    },
    {
      "cell_type": "code",
      "execution_count": 9,
      "metadata": {
        "trusted": true
      },
      "outputs": [
        {
          "name": "stdout",
          "output_type": "stream",
          "text": [
            "lokalnie: 8\n",
            "function2(5): 390625\n",
            "i: 8\n"
          ]
        }
      ],
      "source": [
        "# Funkcja zwracająca liczbę podaną w argumencie do potęgi i\n",
        "def function2(number):\n",
        "    # Ustawienie i jako zmienna globalna\n",
        "    global i\n",
        "    # Zmień wartość i\n",
        "    i = number + 3\n",
        "    # Wyświetl lokalną wartość i\n",
        "    print(\"lokalnie:\", i)\n",
        "    # Zwróć liczbę podniesioną do potęgi i\n",
        "    return number ** i\n",
        "\n",
        "# Utworzenie zmiennej liczbowej i\n",
        "i = 4\n",
        "\n",
        "# Wyświetlenie działania funkcji od liczby 5\n",
        "print(f\"function2(5): {function2(5)}\")\n",
        "\n",
        "# Wyświetlenie wartości i\n",
        "print(f\"i: {i}\")"
      ]
    },
    {
      "attachments": {},
      "cell_type": "markdown",
      "metadata": {},
      "source": [
        "### Funkcje anonimowe - lambda"
      ]
    },
    {
      "cell_type": "code",
      "execution_count": 10,
      "metadata": {
        "trusted": true
      },
      "outputs": [
        {
          "name": "stdout",
          "output_type": "stream",
          "text": [
            "number_to_power_of_3(4): 64\n",
            "fuction(1,2): 9\n",
            "get_last_argument(1, 2, ['A']): ['A']\n",
            "get_last_argument(): None\n"
          ]
        }
      ],
      "source": [
        "# Utworzenie anonimowej funkcji lambda obliczającej liczbę do potęgi 3\n",
        "number_to_power_of_3 = lambda x : x ** 3\n",
        "# Wyświetlenie podanej w argumencie liczby do potęgi 3\n",
        "print(f\"number_to_power_of_3(4): {number_to_power_of_3(4)}\")\n",
        "\n",
        "# Utworzenie anonimowej funkcji lambda wykonującej operacje na podanych liczbach\n",
        "fuction = lambda a, b, c = 2 : (a + b) ** c\n",
        "# Wyświetlenie działania funkcji od podanych argumentów\n",
        "print(f\"fuction(1,2): {fuction(1,2)}\")\n",
        "\n",
        "# Utworzenie anonimowej funkcji lambda zwracającą ostatni argument podany w funkcji\n",
        "get_last_argument = lambda * args: args[len(args) - 1] if args else None\n",
        "# Wyświetlenie działania funkcji od podanych argumentów\n",
        "print(f\"get_last_argument(1, 2, ['A']): {get_last_argument(1, 2, ['A'])}\")\n",
        "# Wyświetlenie działania funkcji od braku argumentów\n",
        "print(f\"get_last_argument(): {get_last_argument()}\")"
      ]
    },
    {
      "attachments": {},
      "cell_type": "markdown",
      "metadata": {},
      "source": [
        "### Programowanie funkcyjne"
      ]
    },
    {
      "cell_type": "code",
      "execution_count": 11,
      "metadata": {
        "trusted": true
      },
      "outputs": [
        {
          "name": "stdout",
          "output_type": "stream",
          "text": [
            "map(szescian, list1): <map object at 0x7f58d5f11240>\n",
            "map(lambda x : x ** 3, list1): <map object at 0x7f58d5f11d20>\n"
          ]
        }
      ],
      "source": [
        "# Funkcja obliczająca trzecią potęgę od podanej w argumencie liczby\n",
        "def number_to_power_of_3_v2(number):\n",
        "    # Zwróć liczbę podniesioną do 3 potęgi\n",
        "    return number ** 3\n",
        "\n",
        "# Utworzenie listy i zainicjalizowane jej wartościami od 1 do 10\n",
        "list1 = [i for i in range(1, 11)]\n",
        "\n",
        "# Wyświetlenie zmapowanych wyników funkcji podnoszącej liczby do trzeciej potęgi dla zawartości listy\n",
        "print(f\"map(szescian, list1): {map(number_to_power_of_3_v2, list1)}\")\n",
        "\n",
        "# Wyświetlenie działania anonimowej funkcji lambda podnoszącej liczby do trzeciej potęgi dla zawartości listy\n",
        "print(f\"map(lambda x : x ** 3, list1): {map(lambda x : x ** 3, list1)}\")"
      ]
    },
    {
      "cell_type": "code",
      "execution_count": 12,
      "metadata": {
        "trusted": true
      },
      "outputs": [
        {
          "name": "stdout",
          "output_type": "stream",
          "text": [
            "Funkcja filter:\n",
            "filter(select, list): <filter object at 0x7f58d5f12470>\n",
            "filter(lambda x : x > 0, list): <filter object at 0x7f58d5f12920>\n"
          ]
        }
      ],
      "source": [
        "# Wyświetlenie funkcji filter\n",
        "print(\"Funkcja filter:\")\n",
        "# Funkcja zwracająca prawdę lub fałsz w zależności czy podany argument jest większy od zera\n",
        "def select(number):\n",
        "    # Jeśli liczba jest większa od zera\n",
        "    if number > 0:\n",
        "        # Zwróć True\n",
        "        return True\n",
        "    # W przeciwnym wypadku zwróc False\n",
        "    return False\n",
        "\n",
        "# Utworzenie listy liczb\n",
        "list = [i * (-1) ** i for i in range(1, 21)]\n",
        "\n",
        "# Wyświetlenie listy z użyciem funkcji filter\n",
        "print(f\"filter(select, list): {filter(select, list)}\")\n",
        "\n",
        "# Wyświetlenie listy z użyciem anonimowej funkcji lambda oraz funkcji filter\n",
        "print(f\"filter(lambda x : x > 0, list): {filter(lambda x : x > 0, list)}\")"
      ]
    },
    {
      "attachments": {},
      "cell_type": "markdown",
      "metadata": {},
      "source": [
        "### Funkcja reduce"
      ]
    },
    {
      "cell_type": "code",
      "execution_count": 13,
      "metadata": {
        "trusted": true
      },
      "outputs": [
        {
          "name": "stdout",
          "output_type": "stream",
          "text": [
            "a b\n",
            "ab c\n",
            "abc d\n",
            "reduce(concatenate_strings, char_list): abcd\n"
          ]
        }
      ],
      "source": [
        "# Funkcja zwracająca skonkatenowane łańcuchy znakowe\n",
        "def concatenate_strings(string1, string2):\n",
        "    # Wyświetl łańcuchy znakowe\n",
        "    print(string1, string2)\n",
        "    # zwróć skonkatenowane łańcuchy znakowe\n",
        "    return string1 + string2\n",
        "\n",
        "# Utworzenie listy znaków\n",
        "char_list = [\"a\", \"b\", \"c\", \"d\"]\n",
        "\n",
        "# Wyświetlenie działania funkcji reduce dla podanej listy znaków z użyciem funkcji konkatenującej łańcuchy znakowe\n",
        "print(f\"reduce(concatenate_strings, char_list): {reduce(concatenate_strings, char_list)}\")"
      ]
    },
    {
      "attachments": {},
      "cell_type": "markdown",
      "metadata": {},
      "source": [
        "### Silnia"
      ]
    },
    {
      "cell_type": "code",
      "execution_count": 14,
      "metadata": {
        "trusted": true
      },
      "outputs": [
        {
          "name": "stdout",
          "output_type": "stream",
          "text": [
            "silnia(n): 265252859812191058636308480000000\n"
          ]
        }
      ],
      "source": [
        "# Utworzenie zmiennej do obliczenia silni\n",
        "n = 30\n",
        "\n",
        "# Wyświetlenie silni dla podanego n z użyciem anonimowych funkcji lambda\n",
        "print(f\"silnia(n): {reduce(lambda x, y : x * y, range(1, n + 1))}\")"
      ]
    },
    {
      "attachments": {},
      "cell_type": "markdown",
      "metadata": {},
      "source": [
        "### Funkcja sorted"
      ]
    },
    {
      "cell_type": "code",
      "execution_count": 15,
      "metadata": {
        "trusted": true
      },
      "outputs": [
        {
          "name": "stdout",
          "output_type": "stream",
          "text": [
            "sorted(numbers): [1, 2, 3, 4, 5, 6, 8, 9]\n",
            "sorted(numbers, key = lambda i : i % 2): [4, 8, 2, 6, 9, 1, 3, 5]\n",
            "sorted(strings): ['chomik', 'kot', 'krolik', 'pies', 'zolw']\n",
            "sorted(strings, key = lambda i : len(i)): ['kot', 'pies', 'zolw', 'chomik', 'krolik']\n"
          ]
        }
      ],
      "source": [
        "# Utworzenie listy liczb\n",
        "numbers = [9, 4, 1, 8, 3, 2, 6, 5]\n",
        "\n",
        "# Utworzenie listy łańcuchów znakowych\n",
        "strings = [\"pies\", \"kot\", \"chomik\", \"krolik\", \"zolw\"]\n",
        "\n",
        "# Wyświetlenie posortowanej listy liczb\n",
        "print(f\"sorted(numbers): {sorted(numbers)}\")\n",
        "\n",
        "# Wyświetlenie posortowanej listy liczb dla podanych przez anonimową funkcję lambda kluczy\n",
        "print(f\"sorted(numbers, key = lambda i : i % 2): {sorted(numbers, key = lambda i : i % 2)}\")\n",
        "\n",
        "# Wyświetlenie posortowanej listy łańcuchów znakowych\n",
        "print(f\"sorted(strings): {sorted(strings)}\")\n",
        "\n",
        "# Wyświetlenie posortowanej listy łańcuchów znakowych dla podanych przez anonimową funkcję lambda kluczy\n",
        "print(f\"sorted(strings, key = lambda i : len(i)): {sorted(strings, key = lambda i : len(i))}\")"
      ]
    },
    {
      "attachments": {},
      "cell_type": "markdown",
      "metadata": {},
      "source": [
        "### Importowanie argumentów ze standardowego wejścia i z linii poleceń"
      ]
    },
    {
      "cell_type": "code",
      "execution_count": 19,
      "metadata": {},
      "outputs": [
        {
          "name": "stdout",
          "output_type": "stream",
          "text": [
            "Input: 10\n"
          ]
        }
      ],
      "source": [
        "# Przyjęcie ze standardowego wejścia liczby\n",
        "user_input = input(\"Podaj liczbę: \")\n",
        "\n",
        "# Wyświetlenie podanej przez użytkownika liczby\n",
        "print(f\"Input: {user_input}\")"
      ]
    },
    {
      "cell_type": "code",
      "execution_count": 20,
      "metadata": {},
      "outputs": [
        {
          "data": {
            "text/plain": [
              "['/home/codespace/.local/lib/python3.10/site-packages/ipykernel_launcher.py',\n",
              " '--ip=127.0.0.1',\n",
              " '--stdin=9018',\n",
              " '--control=9016',\n",
              " '--hb=9015',\n",
              " '--Session.signature_scheme=\"hmac-sha256\"',\n",
              " '--Session.key=b\"c8672b49-4fe8-4296-a334-8d51bd35be13\"',\n",
              " '--shell=9017',\n",
              " '--transport=\"tcp\"',\n",
              " '--iopub=9019',\n",
              " '--f=/home/codespace/.local/share/jupyter/runtime/kernel-v2-778sDMTPB1Ea1TW.json']"
            ]
          },
          "execution_count": 20,
          "metadata": {},
          "output_type": "execute_result"
        }
      ],
      "source": [
        "# Wyświetlenie argumentów argv\n",
        "argv"
      ]
    }
  ],
  "metadata": {
    "kernelspec": {
      "display_name": "Python 3",
      "language": "python",
      "name": "python3"
    },
    "language_info": {
      "codemirror_mode": {
        "name": "ipython",
        "version": 3
      },
      "file_extension": ".py",
      "mimetype": "text/x-python",
      "name": "python",
      "nbconvert_exporter": "python",
      "pygments_lexer": "ipython3",
      "version": "3.10.4"
    }
  },
  "nbformat": 4,
  "nbformat_minor": 4
}
