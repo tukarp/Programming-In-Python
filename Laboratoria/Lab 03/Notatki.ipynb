{
  "cells": [
    {
      "attachments": {},
      "cell_type": "markdown",
      "metadata": {},
      "source": [
        "# Laboratorium 3"
      ]
    },
    {
      "attachments": {},
      "cell_type": "markdown",
      "metadata": {},
      "source": [
        "## Notatki"
      ]
    },
    {
      "attachments": {},
      "cell_type": "markdown",
      "metadata": {},
      "source": [
        "### Funkcje"
      ]
    },
    {
      "cell_type": "code",
      "execution_count": 51,
      "metadata": {
        "trusted": true
      },
      "outputs": [
        {
          "name": "stdout",
          "output_type": "stream",
          "text": [
            "Podstawowe funkcje:\n",
            "kwadrat(5): 25\n"
          ]
        }
      ],
      "source": [
        "def kwadrat(x):\n",
        "    return x ** 2\n",
        "print(f\"kwadrat(5): {kwadrat(5)}\")"
      ]
    },
    {
      "attachments": {},
      "cell_type": "markdown",
      "metadata": {},
      "source": [
        "### Domyślne wartości"
      ]
    },
    {
      "cell_type": "code",
      "execution_count": 52,
      "metadata": {
        "trusted": true
      },
      "outputs": [
        {
          "name": "stdout",
          "output_type": "stream",
          "text": [
            "Domyślne wartości:\n",
            "concat(\"Ala\"): Ala nie ma nic\n",
            "concat(\"Ola\", \"nie wiem\"): Ola nie wiem nic\n",
            "concat(\"Basia\", s3 = \"chomika\"): Basia nie ma chomika\n"
          ]
        }
      ],
      "source": [
        "def concat(s1, s2 = \"nie ma\", s3 = \"nic\"):\n",
        "    return s1 + \" \" + s2 + \" \" + s3\n",
        "print(f'concat(\"Ala\"): {concat(\"Ala\")}')\n",
        "print(f'concat(\"Ola\", \"nie wiem\"): {concat(\"Ola\", \"nie wiem\")}')\n",
        "print(f'concat(\"Basia\", s3 = \"chomika\"): {concat(\"Basia\", s3 = \"chomika\")}')"
      ]
    },
    {
      "attachments": {},
      "cell_type": "markdown",
      "metadata": {},
      "source": [
        "### Argumenty funkcji nie mają zdefiniowanego typu"
      ]
    },
    {
      "cell_type": "code",
      "execution_count": 53,
      "metadata": {
        "trusted": true
      },
      "outputs": [
        {
          "name": "stdout",
          "output_type": "stream",
          "text": [
            "Argumenty funkcji nie mają zdefiniowanego typu:\n",
            "dlugosc(5): 5\n"
          ]
        }
      ],
      "source": [
        "def dlugosc(x):\n",
        "    if type(x) in (str, list, tuple, bytes):\n",
        "        return len(x)\n",
        "    elif type(x) in (int, float, complex):\n",
        "        return abs(x)\n",
        "    else:\n",
        "        return None\n",
        "print(f\"dlugosc(5): {dlugosc(5)}\")"
      ]
    },
    {
      "attachments": {},
      "cell_type": "markdown",
      "metadata": {},
      "source": [
        "### Zmienna liczba argumentów"
      ]
    },
    {
      "cell_type": "code",
      "execution_count": 54,
      "metadata": {
        "trusted": true
      },
      "outputs": [
        {
          "ename": "<class 'SyntaxError'>",
          "evalue": "f-string: expression cannot contain assignment, perhaps you meant \"==\"? (<ipython-input-54-a0c615373dcf>, line 8)",
          "output_type": "error",
          "traceback": [
            "\u001b[0;36m  Cell \u001b[0;32mIn[54], line 8\u001b[0;36m\u001b[0m\n\u001b[0;31m    print(f'funkcja(\"a\", 1, 2, \"c\" = 3, \"d\" = [4, 5]): {funkcja(\"a\", 1, 2, \"c\" = 3, \"d\" = [4, 5])}')\u001b[0m\n\u001b[0m                        ^\u001b[0m\n\u001b[0;31mSyntaxError\u001b[0m\u001b[0;31m:\u001b[0m f-string: expression cannot contain assignment, perhaps you meant \"==\"?\n"
          ]
        }
      ],
      "source": [
        "def funkcja(*args):\n",
        "    print(args)\n",
        "print(f'funkcja(\"a\", [1, 2], 3): {funkcja(\"a\", [1, 2], 3)}')\n",
        "def funkcja(*args, **kwargs):\n",
        "    print(args)\n",
        "    print(kwargs)\n",
        "print(f'funkcja(\"a\", 1, 2, \"c\" = 3, \"d\" = [4, 5]): {funkcja(\"a\", 1, 2, \"c\" = 3, \"d\" = [4, 5])}')"
      ]
    },
    {
      "attachments": {},
      "cell_type": "markdown",
      "metadata": {},
      "source": [
        "### Dokumentacja"
      ]
    },
    {
      "cell_type": "code",
      "execution_count": 55,
      "metadata": {
        "trusted": true
      },
      "outputs": [
        {
          "name": "stdout",
          "output_type": "stream",
          "text": [
            "Dokumentacja:\n",
            "To jest prosta funkcja obliczająca pierwiastek.\n",
            "Return the number of items in a container.\n",
            "Return a list of the words in the string, using sep as the delimiter string.\n",
            "\n",
            "  sep\n",
            "    The delimiter according which to split the string.\n",
            "    None (the default value) means split according to any whitespace,\n",
            "    and discard empty strings from the result.\n",
            "  maxsplit\n",
            "    Maximum number of splits to do.\n",
            "    -1 (the default value) means no limit.\n"
          ]
        }
      ],
      "source": [
        "s = \"a b c\"\n",
        "def f(a):\n",
        "    \"\"\"To jest prosta funkcja obliczająca pierwiastek.\"\"\"\n",
        "    return a ** 0.5\n",
        "print(f.__doc__)\n",
        "print(len.__doc__)\n",
        "print(s.split.__doc__)"
      ]
    },
    {
      "attachments": {},
      "cell_type": "markdown",
      "metadata": {},
      "source": [
        "### Zmienne globalne i lokalne"
      ]
    },
    {
      "cell_type": "code",
      "execution_count": 57,
      "metadata": {
        "trusted": true
      },
      "outputs": [
        {
          "name": "stdout",
          "output_type": "stream",
          "text": [
            "390625\n"
          ]
        }
      ],
      "source": [
        "def f(x):\n",
        "    return x**i\n",
        "\n",
        "print(f(5))"
      ]
    },
    {
      "cell_type": "code",
      "execution_count": 58,
      "metadata": {
        "trusted": true
      },
      "outputs": [
        {
          "name": "stdout",
          "output_type": "stream",
          "text": [
            "625\n"
          ]
        }
      ],
      "source": [
        "def f(x):\n",
        "    return x**i\n",
        "\n",
        "i = 4\n",
        "print(f(5))"
      ]
    },
    {
      "cell_type": "code",
      "execution_count": 59,
      "metadata": {
        "trusted": true
      },
      "outputs": [
        {
          "name": "stdout",
          "output_type": "stream",
          "text": [
            "lokalnie: 8\n",
            "390625\n",
            "4\n"
          ]
        }
      ],
      "source": [
        "def f(x):\n",
        "    i = x + 3\n",
        "    print(\"lokalnie:\", i)\n",
        "    return x**i\n",
        "\n",
        "i = 4\n",
        "print(f(5))\n",
        "print(i)"
      ]
    },
    {
      "cell_type": "code",
      "execution_count": 60,
      "metadata": {
        "trusted": true
      },
      "outputs": [
        {
          "name": "stdout",
          "output_type": "stream",
          "text": [
            "lokalnie: 8\n",
            "390625\n",
            "8\n"
          ]
        }
      ],
      "source": [
        "def f(x):\n",
        "    global i\n",
        "    i = x + 3\n",
        "    print(\"lokalnie:\", i)\n",
        "    return x**i\n",
        "\n",
        "i = 4\n",
        "print(f(5))\n",
        "print(i)"
      ]
    },
    {
      "attachments": {},
      "cell_type": "markdown",
      "metadata": {},
      "source": [
        "### Funkcje anonimowe - lambda"
      ]
    },
    {
      "cell_type": "code",
      "execution_count": 61,
      "metadata": {
        "trusted": true
      },
      "outputs": [
        {
          "name": "stdout",
          "output_type": "stream",
          "text": [
            "Funkcje anonimowe - lambda:\n",
            "szescian(4): 64\n",
            "funkcja(1,2): 9\n",
            "f(1,2,['A']): ['A']\n",
            "f(): None\n"
          ]
        }
      ],
      "source": [
        "szescian = lambda x:x ** 3\n",
        "print(f\"szescian(4): {szescian(4)}\")\n",
        "\n",
        "funkcja = lambda a, b, c = 2:(a + b)** c\n",
        "print(f\"funkcja(1,2): {funkcja(1,2)}\")\n",
        "\n",
        "f = lambda * args: args[len(args)-1] if args else None\n",
        "print(f\"f(1,2,['A']): {f(1,2,['A'])}\")\n",
        "print(f\"f(): {f()}\")"
      ]
    },
    {
      "attachments": {},
      "cell_type": "markdown",
      "metadata": {},
      "source": [
        "### Programowanie funkcyjne"
      ]
    },
    {
      "cell_type": "code",
      "execution_count": null,
      "metadata": {
        "trusted": true
      },
      "outputs": [
        {
          "name": "stdout",
          "output_type": "stream",
          "text": [
            "Funkcja map:\n",
            "map(szescian, list1): <map object at 0x229c810>\n",
            "map(lambda x:x ** 3, list1): <map object at 0x22d6270>\n"
          ]
        }
      ],
      "source": [
        "def szescian(x):\n",
        "    return x ** 3\n",
        "\n",
        "list1 = [i for i in range(1, 11)]\n",
        "print(f\"map(szescian, list1): {map(szescian, list1)}\")\n",
        "\n",
        "# albo lepiej\n",
        "print(f\"map(lambda x:x ** 3, list1): {map(lambda x:x ** 3, list1)}\")"
      ]
    },
    {
      "cell_type": "code",
      "execution_count": 64,
      "metadata": {
        "trusted": true
      },
      "outputs": [
        {
          "name": "stdout",
          "output_type": "stream",
          "text": [
            "Funkcja filter:\n",
            "filter(select, list): <filter object at 0x20db368>\n",
            "filter(lambda x:x>0, l)): <filter object at 0x23027b8>\n"
          ]
        }
      ],
      "source": [
        "print(\"Funkcja filter:\")\n",
        "def select(x):\n",
        "    if x > 0: return True\n",
        "    return False\n",
        "\n",
        "list = [i * (-1) ** i for i in range(1, 21)]\n",
        "print(f\"filter(select, list): {filter(select, list)}\")\n",
        "print(f\"filter(lambda x:x>0, l)): {filter(lambda x:x>0, l)}\")"
      ]
    },
    {
      "attachments": {},
      "cell_type": "markdown",
      "metadata": {},
      "source": [
        "### Funkcja reduce"
      ]
    },
    {
      "cell_type": "code",
      "execution_count": 65,
      "metadata": {
        "trusted": true
      },
      "outputs": [
        {
          "name": "stdout",
          "output_type": "stream",
          "text": [
            "Funkcja reduce:\n",
            "a b\n",
            "ab c\n",
            "abc d\n",
            "reduce(f,l): abcd\n"
          ]
        }
      ],
      "source": [
        "from functools import reduce\n",
        "l = [\"a\", \"b\", \"c\", \"d\"]\n",
        "def f(x, y):\n",
        "    print(x, y)\n",
        "    return x+y\n",
        "\n",
        "print(f\"reduce(f,l): {reduce(f,l)}\")"
      ]
    },
    {
      "attachments": {},
      "cell_type": "markdown",
      "metadata": {},
      "source": [
        "### Silnia"
      ]
    },
    {
      "cell_type": "code",
      "execution_count": 66,
      "metadata": {
        "trusted": true
      },
      "outputs": [
        {
          "name": "stdout",
          "output_type": "stream",
          "text": [
            "Silnia:\n",
            "reduce(lambda x, y:x * y, range(1,n+1)): 265252859812191058636308480000000\n"
          ]
        }
      ],
      "source": [
        "from functools import reduce\n",
        "\n",
        "n = 30\n",
        "print(f\"reduce(lambda x, y:x * y, range(1,n+1)): {reduce(lambda x, y:x * y, range(1,n+1))}\")"
      ]
    },
    {
      "attachments": {},
      "cell_type": "markdown",
      "metadata": {},
      "source": [
        "### Funkcja sorted"
      ]
    },
    {
      "cell_type": "code",
      "execution_count": 67,
      "metadata": {
        "trusted": true
      },
      "outputs": [
        {
          "name": "stdout",
          "output_type": "stream",
          "text": [
            "Funkcja sorted:\n",
            "sorted(list): [1, 2, 3, 4, 5, 6, 8, 9]\n",
            "sorted(list, key = lambda i:i % 2): [4, 8, 2, 6, 9, 1, 3, 5]\n",
            "sorted(strings): ['ala', 'drzewo', 'lokomotywa', 'ola', 'pies']\n",
            "sorted(strings, key = lambda i:len(i)): ['ala', 'ola', 'pies', 'drzewo', 'lokomotywa']\n"
          ]
        }
      ],
      "source": [
        "list = [9, 4, 1, 8, 3, 2, 6, 5]\n",
        "strings = [\"ala\", \"ola\", \"pies\", \"drzewo\", \"lokomotywa\"]\n",
        "\n",
        "print(f\"sorted(list): {sorted(list)}\")\n",
        "print(f\"sorted(list, key = lambda i:i % 2): {sorted(list, key = lambda i:i % 2)}\")                            \n",
        "print(f\"sorted(strings): {sorted(strings)}\")\n",
        "print(f\"sorted(strings, key = lambda i:len(i)): {sorted(strings, key = lambda i:len(i))}\")"
      ]
    },
    {
      "attachments": {},
      "cell_type": "markdown",
      "metadata": {},
      "source": [
        "### Importowanie argumentów ze standardowego wejścia i z linii poleceń"
      ]
    },
    {
      "cell_type": "code",
      "execution_count": 69,
      "metadata": {
        "trusted": true
      },
      "outputs": [
        {
          "name": "stdout",
          "output_type": "stream",
          "text": [
            "Importowanie argumentów ze standardowego wejścia i z linii poleceń:\n",
            "Input: <PyodideFuture pending cb=[WebLoop._decrement_in_progress()]>\n"
          ]
        },
        {
          "name": "stdout",
          "output_type": "stream",
          "text": [
            "Podaj liczbę:  5\n"
          ]
        }
      ],
      "source": [
        "user_input = input(\"Podaj liczbę: \")\n",
        "print(f\"Input: {user_input}\")"
      ]
    },
    {
      "cell_type": "code",
      "execution_count": 70,
      "metadata": {
        "trusted": true
      },
      "outputs": [
        {
          "name": "stdout",
          "output_type": "stream",
          "text": [
            "['']\n"
          ]
        }
      ],
      "source": [
        "from sys import argv\n",
        "print(argv)"
      ]
    }
  ],
  "metadata": {
    "kernelspec": {
      "display_name": "Python (Pyodide)",
      "language": "python",
      "name": "python"
    },
    "language_info": {
      "codemirror_mode": {
        "name": "python",
        "version": 3
      },
      "file_extension": ".py",
      "mimetype": "text/x-python",
      "name": "python",
      "nbconvert_exporter": "python",
      "pygments_lexer": "ipython3",
      "version": "3.8"
    }
  },
  "nbformat": 4,
  "nbformat_minor": 4
}
