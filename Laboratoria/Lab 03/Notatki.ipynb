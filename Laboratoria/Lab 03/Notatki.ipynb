{
  "cells": [
    {
      "attachments": {},
      "cell_type": "markdown",
      "metadata": {},
      "source": [
        "# Laboratorium 03"
      ]
    },
    {
      "attachments": {},
      "cell_type": "markdown",
      "metadata": {},
      "source": [
        "## Notatki"
      ]
    },
    {
      "attachments": {},
      "cell_type": "markdown",
      "metadata": {},
      "source": [
        "### Funkcje"
      ]
    },
    {
      "cell_type": "code",
      "execution_count": 1,
      "metadata": {
        "trusted": true
      },
      "outputs": [
        {
          "name": "stdout",
          "output_type": "stream",
          "text": [
            "kwadrat(5): 25\n"
          ]
        }
      ],
      "source": [
        "def square(x):\n",
        "    return x ** 2\n",
        "print(f\"kwadrat(5): {square(5)}\")"
      ]
    },
    {
      "attachments": {},
      "cell_type": "markdown",
      "metadata": {},
      "source": [
        "### Domyślne wartości"
      ]
    },
    {
      "cell_type": "code",
      "execution_count": 2,
      "metadata": {
        "trusted": true
      },
      "outputs": [
        {
          "name": "stdout",
          "output_type": "stream",
          "text": [
            "concat(\"Ala\"): Ala nie ma nic\n",
            "concat(\"Ola\", \"nie wiem\"): Ola nie wiem nic\n",
            "concat(\"Basia\", s3 = \"chomika\"): Basia nie ma chomika\n"
          ]
        }
      ],
      "source": [
        "def concat(s1, s2 = \"nie ma\", s3 = \"nic\"):\n",
        "    return s1 + \" \" + s2 + \" \" + s3\n",
        "print(f'concat(\"Ala\"): {concat(\"Ala\")}')\n",
        "print(f'concat(\"Ola\", \"nie wiem\"): {concat(\"Ola\", \"nie wiem\")}')\n",
        "print(f'concat(\"Basia\", s3 = \"chomika\"): {concat(\"Basia\", s3 = \"chomika\")}')"
      ]
    },
    {
      "attachments": {},
      "cell_type": "markdown",
      "metadata": {},
      "source": [
        "### Argumenty funkcji nie mają zdefiniowanego typu"
      ]
    },
    {
      "cell_type": "code",
      "execution_count": 3,
      "metadata": {
        "trusted": true
      },
      "outputs": [
        {
          "name": "stdout",
          "output_type": "stream",
          "text": [
            "dlugosc(5): 5\n"
          ]
        }
      ],
      "source": [
        "def length(x):\n",
        "    if type(x) in (str, list, tuple, bytes):\n",
        "        return len(x)\n",
        "    elif type(x) in (int, float, complex):\n",
        "        return abs(x)\n",
        "    else:\n",
        "        return None\n",
        "print(f\"dlugosc(5): {length(5)}\")"
      ]
    },
    {
      "attachments": {},
      "cell_type": "markdown",
      "metadata": {},
      "source": [
        "### Zmienna liczba argumentów"
      ]
    },
    {
      "cell_type": "code",
      "execution_count": 4,
      "metadata": {
        "trusted": true
      },
      "outputs": [
        {
          "name": "stdout",
          "output_type": "stream",
          "text": [
            "('a', [1, 2], 3)\n",
            "{}\n",
            "function(\"a\", [1, 2], 3): None\n",
            "('a', 1, 2)\n",
            "{'c': 3, 'd': [4, 5]}\n",
            "function('a', 1, 2, c=3, d=[4, 5]): None\n"
          ]
        }
      ],
      "source": [
        "def function(*args):\n",
        "    print(args)\n",
        "\n",
        "def function(*args, **kwargs):\n",
        "    print(args)\n",
        "    print(kwargs)\n",
        "\n",
        "print(f'function(\"a\", [1, 2], 3): {function(\"a\", [1, 2], 3)}')\n",
        "print(f\"function('a', 1, 2, c=3, d=[4, 5]): {function('a', 1, 2, c=3, d=[4, 5])}\")"
      ]
    },
    {
      "attachments": {},
      "cell_type": "markdown",
      "metadata": {},
      "source": [
        "### Dokumentacja"
      ]
    },
    {
      "cell_type": "code",
      "execution_count": 5,
      "metadata": {
        "trusted": true
      },
      "outputs": [
        {
          "name": "stdout",
          "output_type": "stream",
          "text": [
            "To jest prosta funkcja obliczająca pierwiastek.\n",
            "Return the number of items in a container.\n",
            "Return a list of the words in the string, using sep as the delimiter string.\n",
            "\n",
            "  sep\n",
            "    The delimiter according which to split the string.\n",
            "    None (the default value) means split according to any whitespace,\n",
            "    and discard empty strings from the result.\n",
            "  maxsplit\n",
            "    Maximum number of splits to do.\n",
            "    -1 (the default value) means no limit.\n"
          ]
        }
      ],
      "source": [
        "def fun(a):\n",
        "    \"\"\"To jest prosta funkcja obliczająca pierwiastek.\"\"\"\n",
        "    return a ** 0.5\n",
        "\n",
        "print(fun.__doc__)\n",
        "print(len.__doc__)\n",
        "\n",
        "s = \"a b c\"\n",
        "print(s.split.__doc__)"
      ]
    },
    {
      "attachments": {},
      "cell_type": "markdown",
      "metadata": {},
      "source": [
        "### Zmienne globalne i lokalne"
      ]
    },
    {
      "cell_type": "code",
      "execution_count": 6,
      "metadata": {
        "trusted": true
      },
      "outputs": [
        {
          "ename": "NameError",
          "evalue": "name 'i' is not defined",
          "output_type": "error",
          "traceback": [
            "\u001b[0;31m---------------------------------------------------------------------------\u001b[0m",
            "\u001b[0;31mNameError\u001b[0m                                 Traceback (most recent call last)",
            "Cell \u001b[0;32mIn[6], line 4\u001b[0m\n\u001b[1;32m      1\u001b[0m \u001b[39mdef\u001b[39;00m \u001b[39mfun\u001b[39m(x):\n\u001b[1;32m      2\u001b[0m     \u001b[39mreturn\u001b[39;00m x \u001b[39m*\u001b[39m\u001b[39m*\u001b[39m i\n\u001b[0;32m----> 4\u001b[0m \u001b[39mprint\u001b[39m(\u001b[39mf\u001b[39m\u001b[39m\"\u001b[39m\u001b[39mfun(5): \u001b[39m\u001b[39m{\u001b[39;00mfun(\u001b[39m5\u001b[39;49m)\u001b[39m}\u001b[39;00m\u001b[39m\"\u001b[39m)\n",
            "Cell \u001b[0;32mIn[6], line 2\u001b[0m, in \u001b[0;36mfun\u001b[0;34m(x)\u001b[0m\n\u001b[1;32m      1\u001b[0m \u001b[39mdef\u001b[39;00m \u001b[39mfun\u001b[39m(x):\n\u001b[0;32m----> 2\u001b[0m     \u001b[39mreturn\u001b[39;00m x \u001b[39m*\u001b[39m\u001b[39m*\u001b[39m i\n",
            "\u001b[0;31mNameError\u001b[0m: name 'i' is not defined"
          ]
        }
      ],
      "source": [
        "def fun(x):\n",
        "    return x ** i\n",
        "\n",
        "print(f\"fun(5): {fun(5)}\")"
      ]
    },
    {
      "cell_type": "code",
      "execution_count": 7,
      "metadata": {
        "trusted": true
      },
      "outputs": [
        {
          "name": "stdout",
          "output_type": "stream",
          "text": [
            "fun(5): 625\n"
          ]
        }
      ],
      "source": [
        "def fun(x):\n",
        "    return x ** i\n",
        "\n",
        "i = 4\n",
        "print(f\"fun(5): {fun(5)}\")"
      ]
    },
    {
      "cell_type": "code",
      "execution_count": 8,
      "metadata": {
        "trusted": true
      },
      "outputs": [
        {
          "name": "stdout",
          "output_type": "stream",
          "text": [
            "lokalnie: 8\n",
            "fun(5): 390625\n",
            "i: 4\n"
          ]
        }
      ],
      "source": [
        "def fun(x):\n",
        "    i = x + 3\n",
        "    print(\"lokalnie:\", i)\n",
        "    return x ** i\n",
        "\n",
        "i = 4\n",
        "print(f\"fun(5): {fun(5)}\")\n",
        "print(f\"i: {i}\")"
      ]
    },
    {
      "cell_type": "code",
      "execution_count": 9,
      "metadata": {
        "trusted": true
      },
      "outputs": [
        {
          "name": "stdout",
          "output_type": "stream",
          "text": [
            "lokalnie: 8\n",
            "fun(5): 390625\n",
            "i: 4\n"
          ]
        }
      ],
      "source": [
        "def f(x):\n",
        "    global i\n",
        "    i = x + 3\n",
        "    print(\"lokalnie:\", i)\n",
        "    return x ** i\n",
        "\n",
        "i = 4\n",
        "print(f\"fun(5): {fun(5)}\")\n",
        "print(f\"i: {i}\")"
      ]
    },
    {
      "attachments": {},
      "cell_type": "markdown",
      "metadata": {},
      "source": [
        "### Funkcje anonimowe - lambda"
      ]
    },
    {
      "cell_type": "code",
      "execution_count": 10,
      "metadata": {
        "trusted": true
      },
      "outputs": [
        {
          "name": "stdout",
          "output_type": "stream",
          "text": [
            "szescian(4): 64\n",
            "funkcja(1,2): 9\n",
            "f(1,2,['A']): ['A']\n",
            "f(): None\n"
          ]
        }
      ],
      "source": [
        "szescian = lambda x:x ** 3\n",
        "print(f\"szescian(4): {szescian(4)}\")\n",
        "\n",
        "funkcja = lambda a, b, c = 2:(a + b)** c\n",
        "print(f\"funkcja(1,2): {funkcja(1,2)}\")\n",
        "\n",
        "f = lambda * args: args[len(args)-1] if args else None\n",
        "print(f\"f(1,2,['A']): {f(1,2,['A'])}\")\n",
        "print(f\"f(): {f()}\")"
      ]
    },
    {
      "attachments": {},
      "cell_type": "markdown",
      "metadata": {},
      "source": [
        "### Programowanie funkcyjne"
      ]
    },
    {
      "cell_type": "code",
      "execution_count": 11,
      "metadata": {
        "trusted": true
      },
      "outputs": [
        {
          "name": "stdout",
          "output_type": "stream",
          "text": [
            "map(szescian, list1): <map object at 0x7f67c0a12470>\n",
            "map(lambda x:x ** 3, list1): <map object at 0x7f679f6c2320>\n"
          ]
        }
      ],
      "source": [
        "def szescian(x):\n",
        "    return x ** 3\n",
        "\n",
        "list1 = [i for i in range(1, 11)]\n",
        "print(f\"map(szescian, list1): {map(szescian, list1)}\")\n",
        "\n",
        "# albo lepiej\n",
        "print(f\"map(lambda x:x ** 3, list1): {map(lambda x:x ** 3, list1)}\")"
      ]
    },
    {
      "cell_type": "code",
      "execution_count": 14,
      "metadata": {
        "trusted": true
      },
      "outputs": [
        {
          "name": "stdout",
          "output_type": "stream",
          "text": [
            "Funkcja filter:\n",
            "filter(select, list): <filter object at 0x7f679f7476d0>\n",
            "filter(lambda x:x>0, list)): <filter object at 0x7f679f724dc0>\n"
          ]
        }
      ],
      "source": [
        "print(\"Funkcja filter:\")\n",
        "def select(x):\n",
        "    if x > 0: return True\n",
        "    return False\n",
        "\n",
        "list = [i * (-1) ** i for i in range(1, 21)]\n",
        "print(f\"filter(select, list): {filter(select, list)}\")\n",
        "print(f\"filter(lambda x:x>0, list)): {filter(lambda x:x>0, list)}\")"
      ]
    },
    {
      "attachments": {},
      "cell_type": "markdown",
      "metadata": {},
      "source": [
        "### Funkcja reduce"
      ]
    },
    {
      "cell_type": "code",
      "execution_count": 15,
      "metadata": {
        "trusted": true
      },
      "outputs": [
        {
          "name": "stdout",
          "output_type": "stream",
          "text": [
            "a b\n",
            "ab c\n",
            "abc d\n",
            "reduce(f,l): abcd\n"
          ]
        }
      ],
      "source": [
        "from functools import reduce\n",
        "l = [\"a\", \"b\", \"c\", \"d\"]\n",
        "def f(x, y):\n",
        "    print(x, y)\n",
        "    return x+y\n",
        "\n",
        "print(f\"reduce(f,l): {reduce(f,l)}\")"
      ]
    },
    {
      "attachments": {},
      "cell_type": "markdown",
      "metadata": {},
      "source": [
        "### Silnia"
      ]
    },
    {
      "cell_type": "code",
      "execution_count": 16,
      "metadata": {
        "trusted": true
      },
      "outputs": [
        {
          "name": "stdout",
          "output_type": "stream",
          "text": [
            "reduce(lambda x, y:x * y, range(1, n+1)): 265252859812191058636308480000000\n"
          ]
        }
      ],
      "source": [
        "from functools import reduce\n",
        "\n",
        "n = 30\n",
        "print(f\"reduce(lambda x, y:x * y, range(1, n+1)): {reduce(lambda x, y:x * y, range(1, n+1))}\")"
      ]
    },
    {
      "attachments": {},
      "cell_type": "markdown",
      "metadata": {},
      "source": [
        "### Funkcja sorted"
      ]
    },
    {
      "cell_type": "code",
      "execution_count": 17,
      "metadata": {
        "trusted": true
      },
      "outputs": [
        {
          "name": "stdout",
          "output_type": "stream",
          "text": [
            "sorted(list): [1, 2, 3, 4, 5, 6, 8, 9]\n",
            "sorted(list, key = lambda i:i % 2): [4, 8, 2, 6, 9, 1, 3, 5]\n",
            "sorted(strings): ['ala', 'drzewo', 'lokomotywa', 'ola', 'pies']\n",
            "sorted(strings, key = lambda i:len(i)): ['ala', 'ola', 'pies', 'drzewo', 'lokomotywa']\n"
          ]
        }
      ],
      "source": [
        "list = [9, 4, 1, 8, 3, 2, 6, 5]\n",
        "strings = [\"ala\", \"ola\", \"pies\", \"drzewo\", \"lokomotywa\"]\n",
        "\n",
        "print(f\"sorted(list): {sorted(list)}\")\n",
        "print(f\"sorted(list, key = lambda i:i % 2): {sorted(list, key = lambda i:i % 2)}\")                            \n",
        "print(f\"sorted(strings): {sorted(strings)}\")\n",
        "print(f\"sorted(strings, key = lambda i:len(i)): {sorted(strings, key = lambda i:len(i))}\")"
      ]
    },
    {
      "attachments": {},
      "cell_type": "markdown",
      "metadata": {},
      "source": [
        "### Importowanie argumentów ze standardowego wejścia i z linii poleceń"
      ]
    },
    {
      "cell_type": "code",
      "execution_count": 22,
      "metadata": {},
      "outputs": [
        {
          "name": "stdout",
          "output_type": "stream",
          "text": [
            "Input: 5\n"
          ]
        }
      ],
      "source": [
        "user_input = input(\"Podaj liczbę: \")\n",
        "print(f\"Input: {user_input}\")"
      ]
    },
    {
      "cell_type": "code",
      "execution_count": 23,
      "metadata": {},
      "outputs": [
        {
          "name": "stdout",
          "output_type": "stream",
          "text": [
            "['/home/codespace/.local/lib/python3.10/site-packages/ipykernel_launcher.py', '--ip=127.0.0.1', '--stdin=9003', '--control=9001', '--hb=9000', '--Session.signature_scheme=\"hmac-sha256\"', '--Session.key=b\"5712d486-a882-41b1-9b48-361276c05f81\"', '--shell=9002', '--transport=\"tcp\"', '--iopub=9004', '--f=/home/codespace/.local/share/jupyter/runtime/kernel-v2-1792AM6bkyxUR7iF.json']\n"
          ]
        }
      ],
      "source": [
        "from sys import argv\n",
        "print(argv)"
      ]
    }
  ],
  "metadata": {
    "kernelspec": {
      "display_name": "Python 3",
      "language": "python",
      "name": "python3"
    },
    "language_info": {
      "codemirror_mode": {
        "name": "ipython",
        "version": 3
      },
      "file_extension": ".py",
      "mimetype": "text/x-python",
      "name": "python",
      "nbconvert_exporter": "python",
      "pygments_lexer": "ipython3",
      "version": "3.10.4"
    }
  },
  "nbformat": 4,
  "nbformat_minor": 4
}
