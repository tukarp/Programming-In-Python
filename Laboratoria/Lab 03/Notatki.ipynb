{
  "metadata": {
    "language_info": {
      "codemirror_mode": {
        "name": "python",
        "version": 3
      },
      "file_extension": ".py",
      "mimetype": "text/x-python",
      "name": "python",
      "nbconvert_exporter": "python",
      "pygments_lexer": "ipython3",
      "version": "3.8"
    },
    "kernelspec": {
      "name": "python",
      "display_name": "Python (Pyodide)",
      "language": "python"
    }
  },
  "nbformat_minor": 4,
  "nbformat": 4,
  "cells": [
    {
      "cell_type": "code",
      "source": "# Funkcje\nprint(\"Podstawowe funkcje:\")\ndef kwadrat(x):\n    return x ** 2\nprint(f\"kwadrat(5): {kwadrat(5)}\")",
      "metadata": {
        "trusted": true
      },
      "execution_count": 51,
      "outputs": [
        {
          "name": "stdout",
          "text": "Podstawowe funkcje:\nkwadrat(5): 25\n",
          "output_type": "stream"
        }
      ]
    },
    {
      "cell_type": "code",
      "source": "print(\"Domyślne wartości:\")\ndef concat(s1, s2 = \"nie ma\", s3 = \"nic\"):\n    return s1 + \" \" + s2 + \" \" + s3\nprint(f'concat(\"Ala\"): {concat(\"Ala\")}')\nprint(f'concat(\"Ola\", \"nie wiem\"): {concat(\"Ola\", \"nie wiem\")}')\nprint(f'concat(\"Basia\", s3 = \"chomika\"): {concat(\"Basia\", s3 = \"chomika\")}')",
      "metadata": {
        "trusted": true
      },
      "execution_count": 52,
      "outputs": [
        {
          "name": "stdout",
          "text": "Domyślne wartości:\nconcat(\"Ala\"): Ala nie ma nic\nconcat(\"Ola\", \"nie wiem\"): Ola nie wiem nic\nconcat(\"Basia\", s3 = \"chomika\"): Basia nie ma chomika\n",
          "output_type": "stream"
        }
      ]
    },
    {
      "cell_type": "code",
      "source": "print(\"Argumenty funkcji nie mają zdefiniowanego typu:\")\ndef dlugosc(x):\n    if type(x) in (str, list, tuple, bytes):\n        return len(x)\n    elif type(x) in (int, float, complex):\n        return abs(x)\n    else:\n        return None\nprint(f\"dlugosc(5): {dlugosc(5)}\")",
      "metadata": {
        "trusted": true
      },
      "execution_count": 53,
      "outputs": [
        {
          "name": "stdout",
          "text": "Argumenty funkcji nie mają zdefiniowanego typu:\ndlugosc(5): 5\n",
          "output_type": "stream"
        }
      ]
    },
    {
      "cell_type": "code",
      "source": "print(\"Zmienna liczba argumentów:\")\ndef funkcja(*args):\n    print(args)\nprint(f'funkcja(\"a\", [1, 2], 3): {funkcja(\"a\", [1, 2], 3)}')\ndef funkcja(*args, **kwargs):\n    print(args)\n    print(kwargs)\nprint(f'funkcja(\"a\", 1, 2, \"c\" = 3, \"d\" = [4, 5]): {funkcja(\"a\", 1, 2, \"c\" = 3, \"d\" = [4, 5])}')",
      "metadata": {
        "trusted": true
      },
      "execution_count": 54,
      "outputs": [
        {
          "ename": "<class 'SyntaxError'>",
          "evalue": "f-string: expression cannot contain assignment, perhaps you meant \"==\"? (<ipython-input-54-a0c615373dcf>, line 8)",
          "traceback": [
            "\u001b[0;36m  Cell \u001b[0;32mIn[54], line 8\u001b[0;36m\u001b[0m\n\u001b[0;31m    print(f'funkcja(\"a\", 1, 2, \"c\" = 3, \"d\" = [4, 5]): {funkcja(\"a\", 1, 2, \"c\" = 3, \"d\" = [4, 5])}')\u001b[0m\n\u001b[0m                        ^\u001b[0m\n\u001b[0;31mSyntaxError\u001b[0m\u001b[0;31m:\u001b[0m f-string: expression cannot contain assignment, perhaps you meant \"==\"?\n"
          ],
          "output_type": "error"
        }
      ]
    },
    {
      "cell_type": "code",
      "source": "print(\"Dokumentacja:\")\ns = \"a b c\"\ndef f(a):\n    \"\"\"To jest prosta funkcja obliczająca pierwiastek.\"\"\"\n    return a ** 0.5\nprint(f.__doc__)\nprint(len.__doc__)\nprint(s.split.__doc__)",
      "metadata": {
        "trusted": true
      },
      "execution_count": 55,
      "outputs": [
        {
          "name": "stdout",
          "text": "Dokumentacja:\nTo jest prosta funkcja obliczająca pierwiastek.\nReturn the number of items in a container.\nReturn a list of the words in the string, using sep as the delimiter string.\n\n  sep\n    The delimiter according which to split the string.\n    None (the default value) means split according to any whitespace,\n    and discard empty strings from the result.\n  maxsplit\n    Maximum number of splits to do.\n    -1 (the default value) means no limit.\n",
          "output_type": "stream"
        }
      ]
    },
    {
      "cell_type": "code",
      "source": "print(\"Zmienne globalne i lokalne:\")",
      "metadata": {
        "trusted": true
      },
      "execution_count": 56,
      "outputs": [
        {
          "name": "stdout",
          "text": "Zmienne globalne i lokalne:\n",
          "output_type": "stream"
        }
      ]
    },
    {
      "cell_type": "code",
      "source": "def f(x):\n    return x**i\n\nprint(f(5))",
      "metadata": {
        "trusted": true
      },
      "execution_count": 57,
      "outputs": [
        {
          "name": "stdout",
          "text": "390625\n",
          "output_type": "stream"
        }
      ]
    },
    {
      "cell_type": "code",
      "source": "def f(x):\n    return x**i\n\ni = 4\nprint(f(5))",
      "metadata": {
        "trusted": true
      },
      "execution_count": 58,
      "outputs": [
        {
          "name": "stdout",
          "text": "625\n",
          "output_type": "stream"
        }
      ]
    },
    {
      "cell_type": "code",
      "source": "def f(x):\n    i = x + 3\n    print(\"lokalnie:\", i)\n    return x**i\n\ni = 4\nprint(f(5))\nprint(i)",
      "metadata": {
        "trusted": true
      },
      "execution_count": 59,
      "outputs": [
        {
          "name": "stdout",
          "text": "lokalnie: 8\n390625\n4\n",
          "output_type": "stream"
        }
      ]
    },
    {
      "cell_type": "code",
      "source": "def f(x):\n    global i\n    i = x + 3\n    print(\"lokalnie:\", i)\n    return x**i\n\ni = 4\nprint(f(5))\nprint(i)",
      "metadata": {
        "trusted": true
      },
      "execution_count": 60,
      "outputs": [
        {
          "name": "stdout",
          "text": "lokalnie: 8\n390625\n8\n",
          "output_type": "stream"
        }
      ]
    },
    {
      "cell_type": "code",
      "source": "print(\"Funkcje anonimowe - lambda:\")\nszescian = lambda x:x ** 3\nprint(f\"szescian(4): {szescian(4)}\")\n\nfunkcja = lambda a, b, c = 2:(a + b)** c\nprint(f\"funkcja(1,2): {funkcja(1,2)}\")\n\nf = lambda * args: args[len(args)-1] if args else None\nprint(f\"f(1,2,['A']): {f(1,2,['A'])}\")\nprint(f\"f(): {f()}\")",
      "metadata": {
        "trusted": true
      },
      "execution_count": 61,
      "outputs": [
        {
          "name": "stdout",
          "text": "Funkcje anonimowe - lambda:\nszescian(4): 64\nfunkcja(1,2): 9\nf(1,2,['A']): ['A']\nf(): None\n",
          "output_type": "stream"
        }
      ]
    },
    {
      "cell_type": "code",
      "source": "print(\"Programowanie funkcyjne:\")",
      "metadata": {
        "trusted": true
      },
      "execution_count": 62,
      "outputs": [
        {
          "name": "stdout",
          "text": "Programowanie funkcyjne:\n",
          "output_type": "stream"
        }
      ]
    },
    {
      "cell_type": "code",
      "source": "print(\"Funkcja map:\")\ndef szescian(x):\n    return x ** 3\n\nlist1 = [i for i in range(1, 11)]\nprint(f\"map(szescian, list1): {map(szescian, list1)}\")\n\n# albo lepiej\nprint(f\"map(lambda x:x ** 3, list1): {map(lambda x:x ** 3, list1)}\")",
      "metadata": {
        "trusted": true
      },
      "execution_count": 63,
      "outputs": [
        {
          "name": "stdout",
          "text": "Funkcja map:\nmap(szescian, list1): <map object at 0x229c810>\nmap(lambda x:x ** 3, list1): <map object at 0x22d6270>\n",
          "output_type": "stream"
        }
      ]
    },
    {
      "cell_type": "code",
      "source": "print(\"Funkcja filter:\")\ndef select(x):\n    if x > 0: return True\n    return False\n\nlist = [i * (-1) ** i for i in range(1, 21)]\nprint(f\"filter(select, list): {filter(select, list)}\")\nprint(f\"filter(lambda x:x>0, l)): {filter(lambda x:x>0, l)}\")",
      "metadata": {
        "trusted": true
      },
      "execution_count": 64,
      "outputs": [
        {
          "name": "stdout",
          "text": "Funkcja filter:\nfilter(select, list): <filter object at 0x20db368>\nfilter(lambda x:x>0, l)): <filter object at 0x23027b8>\n",
          "output_type": "stream"
        }
      ]
    },
    {
      "cell_type": "code",
      "source": "print(\"Funkcja reduce:\")\nfrom functools import reduce\nl = [\"a\", \"b\", \"c\", \"d\"]\ndef f(x, y):\n    print(x, y)\n    return x+y\n\nprint(f\"reduce(f,l): {reduce(f,l)}\")",
      "metadata": {
        "trusted": true
      },
      "execution_count": 65,
      "outputs": [
        {
          "name": "stdout",
          "text": "Funkcja reduce:\na b\nab c\nabc d\nreduce(f,l): abcd\n",
          "output_type": "stream"
        }
      ]
    },
    {
      "cell_type": "code",
      "source": "from functools import reduce\n\nprint(\"Silnia:\")\nn = 30\nprint(f\"reduce(lambda x, y:x * y, range(1,n+1)): {reduce(lambda x, y:x * y, range(1,n+1))}\")",
      "metadata": {
        "trusted": true
      },
      "execution_count": 66,
      "outputs": [
        {
          "name": "stdout",
          "text": "Silnia:\nreduce(lambda x, y:x * y, range(1,n+1)): 265252859812191058636308480000000\n",
          "output_type": "stream"
        }
      ]
    },
    {
      "cell_type": "code",
      "source": "print(\"Funkcja sorted:\")\nlist = [9, 4, 1, 8, 3, 2, 6, 5]\nstrings = [\"ala\", \"ola\", \"pies\", \"drzewo\", \"lokomotywa\"]\n\nprint(f\"sorted(list): {sorted(list)}\")\nprint(f\"sorted(list, key = lambda i:i % 2): {sorted(list, key = lambda i:i % 2)}\")                            \nprint(f\"sorted(strings): {sorted(strings)}\")\nprint(f\"sorted(strings, key = lambda i:len(i)): {sorted(strings, key = lambda i:len(i))}\")",
      "metadata": {
        "trusted": true
      },
      "execution_count": 67,
      "outputs": [
        {
          "name": "stdout",
          "text": "Funkcja sorted:\nsorted(list): [1, 2, 3, 4, 5, 6, 8, 9]\nsorted(list, key = lambda i:i % 2): [4, 8, 2, 6, 9, 1, 3, 5]\nsorted(strings): ['ala', 'drzewo', 'lokomotywa', 'ola', 'pies']\nsorted(strings, key = lambda i:len(i)): ['ala', 'ola', 'pies', 'drzewo', 'lokomotywa']\n",
          "output_type": "stream"
        }
      ]
    },
    {
      "cell_type": "code",
      "source": "print(\"Importowanie argumentów ze standardowego wejścia i z linii poleceń:\")\nuser_input = input(\"Podaj liczbę: \")\nprint(f\"Input: {user_input}\")",
      "metadata": {
        "trusted": true
      },
      "execution_count": 69,
      "outputs": [
        {
          "name": "stdout",
          "text": "Importowanie argumentów ze standardowego wejścia i z linii poleceń:\nInput: <PyodideFuture pending cb=[WebLoop._decrement_in_progress()]>\n",
          "output_type": "stream"
        },
        {
          "output_type": "stream",
          "name": "stdin",
          "text": "Podaj liczbę:  5\n"
        }
      ]
    },
    {
      "cell_type": "code",
      "source": "from sys import argv\nprint(argv)",
      "metadata": {
        "trusted": true
      },
      "execution_count": 70,
      "outputs": [
        {
          "name": "stdout",
          "text": "['']\n",
          "output_type": "stream"
        }
      ]
    }
  ]
}