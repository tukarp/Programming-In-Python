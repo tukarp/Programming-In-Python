{
  "metadata": {
    "language_info": {
      "codemirror_mode": {
        "name": "python",
        "version": 3
      },
      "file_extension": ".py",
      "mimetype": "text/x-python",
      "name": "python",
      "nbconvert_exporter": "python",
      "pygments_lexer": "ipython3",
      "version": "3.8"
    },
    "kernelspec": {
      "name": "python",
      "display_name": "Python (Pyodide)",
      "language": "python"
    }
  },
  "nbformat_minor": 4,
  "nbformat": 4,
  "cells": [
    {
      "cell_type": "code",
      "source": "# Powłoka, interpreter, środowiska\nprint(\"Pierwszy skrypt\")",
      "metadata": {
        "trusted": true
      },
      "execution_count": 143,
      "outputs": [
        {
          "name": "stdout",
          "text": "Pierwszy skrypt\n",
          "output_type": "stream"
        }
      ]
    },
    {
      "cell_type": "code",
      "source": "# Linia poleceń\nprint(\"python3 ./skrypt.py\")",
      "metadata": {
        "trusted": true
      },
      "execution_count": 144,
      "outputs": [
        {
          "name": "stdout",
          "text": "python3 ./skrypt.py\n",
          "output_type": "stream"
        }
      ]
    },
    {
      "cell_type": "code",
      "source": "# Przed uruchomieniem należy nadać plikowi skrypt.py odpowiednie uprawnienia:\nprint(\"chmod +x skrypt.py\")",
      "metadata": {
        "trusted": true
      },
      "execution_count": 145,
      "outputs": [
        {
          "name": "stdout",
          "text": "chmod +x skrypt.py\n",
          "output_type": "stream"
        }
      ]
    },
    {
      "cell_type": "code",
      "source": "# Środowisko Jupyter, wymagające wcześniejszego zainstalowania\nprint(\"pip3 install jupyter\")",
      "metadata": {
        "trusted": true
      },
      "execution_count": 146,
      "outputs": [
        {
          "name": "stdout",
          "text": "pip3 install jupyter\n",
          "output_type": "stream"
        }
      ]
    },
    {
      "cell_type": "code",
      "source": "# Typy liczbowe\nx = 2\ny = 2.0\nprint(f\"type(x): {type(x)}\")\nprint(f\"type(y): {type(y)}\")",
      "metadata": {
        "trusted": true
      },
      "execution_count": 147,
      "outputs": [
        {
          "name": "stdout",
          "text": "type(x): <class 'int'>\ntype(y): <class 'float'>\n",
          "output_type": "stream"
        }
      ]
    },
    {
      "cell_type": "code",
      "source": "print(\"Mamy trzy typy liczbowe: integer, float i complex\")\nprint(\"Działania na typach liczbowych:\")\nprint(\"a += b  ⇔ a = a + b\")\nprint(\"a -= b  ⇔ a = a - b\")\nprint(\"a *= b  ⇔ a = a * b\")\nprint(\"a /= b  ⇔ a = a / b\")\nprint(\"a //= b ⇔ a = a // b\")\nprint(\"a %= b  ⇔ a = a % b\")\nprint(\"a **= b ⇔ a = a ** b\")",
      "metadata": {
        "trusted": true
      },
      "execution_count": 148,
      "outputs": [
        {
          "name": "stdout",
          "text": "Mamy trzy typy liczbowe: integer, float i complex\nDziałania na typach liczbowych:\na += b  ⇔ a = a + b\na -= b  ⇔ a = a - b\na *= b  ⇔ a = a * b\na /= b  ⇔ a = a / b\na //= b ⇔ a = a // b\na %= b  ⇔ a = a % b\na **= b ⇔ a = a ** b\n",
          "output_type": "stream"
        }
      ]
    },
    {
      "cell_type": "code",
      "source": "# Typ complex skład się z dwóch liczb typu float i ma atrybuty real i imag.\n# Sprawdź z.conjugate() oraz abs().\nprint(\"Operatory rzutowania na typy to int, float, complex:\")\nx = 2\ny = 2.0\nprint(f\"float(x): {float(x)}\")\nprint(f\"int(y): {int(y)}\")",
      "metadata": {
        "trusted": true
      },
      "execution_count": 149,
      "outputs": [
        {
          "name": "stdout",
          "text": "Operatory rzutowania na typy to int, float, complex:\nfloat(x): 2.0\nint(y): 2\n",
          "output_type": "stream"
        }
      ]
    },
    {
      "cell_type": "code",
      "source": "# Typy sekwencyjne\nprint(\"4 Typy sekwencyjne:\")\nstring = 'Ala ma kota'\nbyte_string = b'Ala ma kota'\nlist = [1, 2, \"a\"]\ntuple = (1, 2, 3)\n\nprint(f\"Napis (string): '{string}'\")\nprint(f\"Łańcuch bajtów: {byte_string}\")\nprint(f\"Lista: {list}\")\nprint(f\"Krotka (tupple): {tuple}\")",
      "metadata": {
        "trusted": true
      },
      "execution_count": 150,
      "outputs": [
        {
          "name": "stdout",
          "text": "4 Typy sekwencyjne:\nNapis (string): 'Ala ma kota'\nŁańcuch bajtów: b'Ala ma kota'\nLista: [1, 2, 'a']\nKrotka (tupple): (1, 2, 3)\n",
          "output_type": "stream"
        }
      ]
    },
    {
      "cell_type": "code",
      "source": "print(\"Wspólne operacje dla typów sekwencyjnych\")\nprint(\"- indeksowanie: s[n],\")\nprint(\"- wycinki: s[x:y:z], x - początek wycinka, y - koniec wycinka, z - co który element (możliwe są wartości ujemne i puste miejsca)\")\nprint(\"- mnożenie przez liczbę, sprawdź 3 * 'ala' lub 3 * [1,2,3]\")\nprint(\"- dodawanie (konkatenacja): 'ab' + bc lub [1, 2] + [3, 2]\")\nprint(\"- operator zawierania in: 'a' in 'Ala ma kota'\")\nprint(\"- długość len(s)\")\nprint(\"- elementy minimalne i maksymalne nim(s) i max(s)\")\nprint(\"- wyszukiwanie pierwszego indeksu: s.index('a')\")\nprint(\"- zliczanie elementów: s.count('a')\")",
      "metadata": {
        "trusted": true
      },
      "execution_count": 151,
      "outputs": [
        {
          "name": "stdout",
          "text": "Wspólne operacje dla typów sekwencyjnych\n- indeksowanie: s[n],\n- wycinki: s[x:y:z], x - początek wycinka, y - koniec wycinka, z - co który element (możliwe są wartości ujemne i puste miejsca)\n- mnożenie przez liczbę, sprawdź 3 * 'ala' lub 3 * [1,2,3]\n- dodawanie (konkatenacja): 'ab' + bc lub [1, 2] + [3, 2]\n- operator zawierania in: 'a' in 'Ala ma kota'\n- długość len(s)\n- elementy minimalne i maksymalne nim(s) i max(s)\n- wyszukiwanie pierwszego indeksu: s.index('a')\n- zliczanie elementów: s.count('a')\n",
          "output_type": "stream"
        }
      ]
    },
    {
      "cell_type": "code",
      "source": "print(\"Znaki ucieczki\")\nprint(\"- \\\\\")\nprint(\"- \\\\' - konieczne przy ograniczeniach ' lub '''\")\nprint('- \\\\\" - podobnie jak wyżej')\nprint(\"- \\\\n - nowa linia\")\nprint(\"- \\\\t - tabulacja pozioma\")\nprint(\"- \\\\v - tabulacja pionowa\")\nprint(\"- \\\\xab - znak ASCII zapisany w systemie szesnastkowym\")\nprint(\"- r\\ - \\ nie jest znakiem ucieczki\")",
      "metadata": {
        "trusted": true
      },
      "execution_count": 152,
      "outputs": [
        {
          "name": "stdout",
          "text": "Znaki ucieczki\n- \\\n- \\' - konieczne przy ograniczeniach ' lub '''\n- \\\" - podobnie jak wyżej\n- \\n - nowa linia\n- \\t - tabulacja pozioma\n- \\v - tabulacja pionowa\n- \\xab - znak ASCII zapisany w systemie szesnastkowym\n- r\\ - \\ nie jest znakiem ucieczki\n",
          "output_type": "stream"
        }
      ]
    },
    {
      "cell_type": "code",
      "source": "print(\"Wybrane metody typu str:\")\nprint(\"- split(), rsplit():\")\nprint(\"- startswith(), enswith() - czy łańcuch zaczyna się lub kończy od podłańcucha,\")\nprint(\"- isalpha(), isdigit(), isalum() - tylko litery, cyfry, znaki alfanumeryczne,\")\nprint(\"- strip(), rstrip(), lstrip() - usuwa białe znaki,\")\nprint(\"- replace() - zastępuje podciąg innym, można podać ilość zastąpień,\")\nprint(\"- chr() i ord() - zwracają znaki lub kody ASCII.\")",
      "metadata": {
        "trusted": true
      },
      "execution_count": 153,
      "outputs": [
        {
          "name": "stdout",
          "text": "Wybrane metody typu str:\n- split(), rsplit():\n- startswith(), enswith() - czy łańcuch zaczyna się lub kończy od podłańcucha,\n- isalpha(), isdigit(), isalum() - tylko litery, cyfry, znaki alfanumeryczne,\n- strip(), rstrip(), lstrip() - usuwa białe znaki,\n- replace() - zastępuje podciąg innym, można podać ilość zastąpień,\n- chr() i ord() - zwracają znaki lub kody ASCII.\n",
          "output_type": "stream"
        }
      ]
    },
    {
      "cell_type": "code",
      "source": "print(\"Przykłady:\")\nprint(\"'a1a2a3aa4aaa5a'.split('a'): {'a1a2a3aa4aaa5a'.split('a')}\")\nprint(\"'a1a2a3aa4aaa5a'split('a', 2): {'a1a2a3aa4aaa5a'.split('a', 2)}\")\nprint(f\"'a1a2a3aa4aaa5a'.rsplit('a', 2): {'a1a2a3aa4aaa5a'.rsplit('a', 2)}\")",
      "metadata": {
        "trusted": true
      },
      "execution_count": 154,
      "outputs": [
        {
          "name": "stdout",
          "text": "Przykłady:\n'a1a2a3aa4aaa5a'.split('a'): {'a1a2a3aa4aaa5a'.split('a')}\n'a1a2a3aa4aaa5a'split('a', 2): {'a1a2a3aa4aaa5a'.split('a', 2)}\n'a1a2a3aa4aaa5a'.rsplit('a', 2): ['a1a2a3aa4aa', '5', '']\n",
          "output_type": "stream"
        }
      ]
    },
    {
      "cell_type": "code",
      "source": "print(\"Problem płytkiej kopii:\")\nx = [1, 2, 3]\nprint(f\"x: {x}\")\n\ny = x\nprint(f\"y: {y}\")\nx[1] = 'a'\nprint(f\"y po zmianie 1 elementu x: {y}\")",
      "metadata": {
        "trusted": true
      },
      "execution_count": 155,
      "outputs": [
        {
          "name": "stdout",
          "text": "Problem płytkiej kopii:\nx: [1, 2, 3]\ny: [1, 2, 3]\ny po zmianie 1 elementu x: [1, 'a', 3]\n",
          "output_type": "stream"
        }
      ]
    },
    {
      "cell_type": "code",
      "source": "# Listy\nprint(\"Listy to sekwencje dowolnych obiektów. Metody dla list:\")\nprint(\"- append() - dodaje element na końcu listy\")\nprint(\"- remove() - usuwa podaną wartość z listy na jej pierwszym wystąpieniu (zwraca błąd, jeśli nie ma takiej wartości)\")\nprint(\"- pop() - usuwa wartość z listy na podanym indeksie (domyślny argument to -1)\")\nprint(\"- insert() - wstawia wartość na podanym miejscu: l = l[:i] + [a] + l[i:]\")\nprint(\"sum():\")\nprint(f\"sum([1,2,3,4,5,6]: {sum([1,2,3,4,5,6])}\")\nprint(f\"sum([[1,2],[3,4]],[]): {sum([[1,2],[3,4]],[])} - tu istotny jest element początkowy\")",
      "metadata": {
        "trusted": true
      },
      "execution_count": 156,
      "outputs": [
        {
          "name": "stdout",
          "text": "Listy to sekwencje dowolnych obiektów. Metody dla list:\n- append() - dodaje element na końcu listy\n- remove() - usuwa podaną wartość z listy na jej pierwszym wystąpieniu (zwraca błąd, jeśli nie ma takiej wartości)\n- pop() - usuwa wartość z listy na podanym indeksie (domyślny argument to -1)\n- insert() - wstawia wartość na podanym miejscu: l = l[:i] + [a] + l[i:]\nsum():\nsum([1,2,3,4,5,6]: 21\nsum([[1,2],[3,4]],[]): [1, 2, 3, 4] - tu istotny jest element początkowy\n",
          "output_type": "stream"
        }
      ]
    },
    {
      "cell_type": "code",
      "source": "print(\"Problem można rozwiązać w następujący sposób:\")\nprint(\"y = x[:] - tworzymy nowa listę a nie dowiązanie!\")",
      "metadata": {
        "trusted": true
      },
      "execution_count": 157,
      "outputs": [
        {
          "name": "stdout",
          "text": "Problem można rozwiązać w następujący sposób:\ny = x[:] - tworzymy nowa listę a nie dowiązanie!\n",
          "output_type": "stream"
        }
      ]
    },
    {
      "cell_type": "code",
      "source": "# Krotki\nprint(\"Krotki (tuples) to listy o ustalonej długości i wartościach elementów.\")\nowoce = ('gruszki', 'banany', 'jagody')\n(zielony, zolty, czerwony) = owoce\nprint(f\"{owoce}\")\nprint(f\"Owoce: {owoce}\")\nprint(f\"Zielony: {zielony}\")\nprint(f\"Zółty: {zolty}\")\nprint(f\"Czerwony: {czerwony}\")",
      "metadata": {
        "trusted": true
      },
      "execution_count": 158,
      "outputs": [
        {
          "name": "stdout",
          "text": "Krotki (tuples) to listy o ustalonej długości i wartościach elementów.\n('gruszki', 'banany', 'jagody')\nOwoce: ('gruszki', 'banany', 'jagody')\nZielony: gruszki\nZółty: banany\nCzerwony: jagody\n",
          "output_type": "stream"
        }
      ]
    },
    {
      "cell_type": "code",
      "source": "print(\"Instrukcje warunkowe:\")\nprint(\"- if:\")\nif True:\n    print(\"   Prawda!\")\nprint(\"- if, else:\")\nx = False\nif x:\n    print(\"   Prawda!\")\nelse:\n    print(\"   Fałsz!\")",
      "metadata": {
        "trusted": true
      },
      "execution_count": 159,
      "outputs": [
        {
          "name": "stdout",
          "text": "Instrukcje warunkowe:\n- if:\n   Prawda!\n- if, else:\n   Fałsz!\n",
          "output_type": "stream"
        }
      ]
    },
    {
      "cell_type": "code",
      "source": "print(\"Operatory:\")\nprint(\"- ==,\")\nprint(\"- !=,\")\nprint(\"- <=,\")\nprint(\"- >=,\")\nprint(\"- <,\")\nprint(\"- >,\")",
      "metadata": {
        "trusted": true
      },
      "execution_count": 160,
      "outputs": [
        {
          "name": "stdout",
          "text": "Operatory:\n- ==,\n- !=,\n- <=,\n- >=,\n- <,\n- >,\n",
          "output_type": "stream"
        }
      ]
    },
    {
      "cell_type": "code",
      "source": "print(\"Kwantyfikatory\")\nprint(\"- all()\")\nprint(\"- any()\")\nlist = [True, False, False]\nprint(f\"all(list): {all(list)}\")\nprint(f\"any(list): {any(list)}\")",
      "metadata": {
        "trusted": true
      },
      "execution_count": 161,
      "outputs": [
        {
          "name": "stdout",
          "text": "Kwantyfikatory\n- all()\n- any()\nall(list): False\nany(list): True\n",
          "output_type": "stream"
        }
      ]
    },
    {
      "cell_type": "code",
      "source": "print(\"Operator zwierania - in\")\nlist = [1, 2, 3, 4]\nx = 1\nif x in list:\n    print(f\"x({x}) jest w liście: {list}\")",
      "metadata": {
        "trusted": true
      },
      "execution_count": 162,
      "outputs": [
        {
          "name": "stdout",
          "text": "Operator zwierania - in\nx(1) jest w liście: [1, 2, 3, 4]\n",
          "output_type": "stream"
        }
      ]
    },
    {
      "cell_type": "code",
      "source": "print(\"Trojargumentowy operator logiczny\")\nprint(\"x = A if B else C\")\nprint(\"B warunek logiczny\")\nprint(\"A i C to wartości\")",
      "metadata": {
        "trusted": true
      },
      "execution_count": 163,
      "outputs": [
        {
          "name": "stdout",
          "text": "Trojargumentowy operator logiczny\nx = A if B else C\nB warunek logiczny\nA i C to wartości\n",
          "output_type": "stream"
        }
      ]
    },
    {
      "cell_type": "code",
      "source": "# Pętle for i while\nprint(\"Pętla for:\")\nstring = \"Ala ma kota\"\nfor char in string:\n    print(char, end=\"\")\n\nprint(\"\\nPętla while:\")\nnumber = 0\nwhile number != len(string):\n    print(string[number], end=\"\")\n    number += 1",
      "metadata": {
        "trusted": true
      },
      "execution_count": 164,
      "outputs": [
        {
          "name": "stdout",
          "text": "Pętla for:\nAla ma kota\nPętla while:\nAla ma kota",
          "output_type": "stream"
        }
      ]
    }
  ]
}