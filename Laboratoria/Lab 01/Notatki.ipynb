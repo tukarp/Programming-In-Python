{
  "cells": [
    {
      "cell_type": "markdown",
      "metadata": {},
      "source": [
        "# Laboratorium 01"
      ]
    },
    {
      "cell_type": "markdown",
      "metadata": {},
      "source": [
        "## Notatki"
      ]
    },
    {
      "cell_type": "markdown",
      "metadata": {},
      "source": [
        "### Powłoka, interpreter, środowiska"
      ]
    },
    {
      "cell_type": "code",
      "execution_count": null,
      "metadata": {
        "trusted": true
      },
      "outputs": [
        {
          "name": "stdout",
          "output_type": "stream",
          "text": [
            "Pierwszy skrypt\n"
          ]
        }
      ],
      "source": [
        "# Funkcja print()\n",
        "print(\"Pierwszy skrypt\")"
      ]
    },
    {
      "cell_type": "code",
      "execution_count": null,
      "metadata": {
        "trusted": true
      },
      "outputs": [
        {
          "name": "stdout",
          "output_type": "stream",
          "text": [
            "python3 ./skrypt.py\n"
          ]
        }
      ],
      "source": [
        "# Linia poleceń\n",
        "print(\"python3 ./skrypt.py\")"
      ]
    },
    {
      "cell_type": "code",
      "execution_count": null,
      "metadata": {
        "trusted": true
      },
      "outputs": [
        {
          "name": "stdout",
          "output_type": "stream",
          "text": [
            "chmod +x skrypt.py\n"
          ]
        }
      ],
      "source": [
        "# Przed uruchomieniem należy nadać plikowi skrypt.py odpowiednie uprawnienia:\n",
        "print(\"chmod +x skrypt.py\")"
      ]
    },
    {
      "cell_type": "code",
      "execution_count": null,
      "metadata": {
        "trusted": true
      },
      "outputs": [
        {
          "name": "stdout",
          "output_type": "stream",
          "text": [
            "pip3 install jupyter\n"
          ]
        }
      ],
      "source": [
        "# Środowisko Jupyter, wymagające wcześniejszego zainstalowania\n",
        "print(\"pip3 install jupyter\")"
      ]
    },
    {
      "cell_type": "markdown",
      "metadata": {},
      "source": [
        "### Typy liczbowe"
      ]
    },
    {
      "cell_type": "code",
      "execution_count": null,
      "metadata": {
        "trusted": true
      },
      "outputs": [
        {
          "name": "stdout",
          "output_type": "stream",
          "text": [
            "type(x): <class 'int'>\n",
            "type(y): <class 'float'>\n"
          ]
        }
      ],
      "source": [
        "x = 2\n",
        "y = 2.0\n",
        "print(f\"type(x): {type(x)}\")\n",
        "print(f\"type(y): {type(y)}\")"
      ]
    },
    {
      "cell_type": "code",
      "execution_count": null,
      "metadata": {
        "trusted": true
      },
      "outputs": [
        {
          "name": "stdout",
          "output_type": "stream",
          "text": [
            "Mamy trzy typy liczbowe: integer, float i complex\n",
            "Działania na typach liczbowych:\n",
            "a += b  ⇔ a = a + b\n",
            "a -= b  ⇔ a = a - b\n",
            "a *= b  ⇔ a = a * b\n",
            "a /= b  ⇔ a = a / b\n",
            "a //= b ⇔ a = a // b\n",
            "a %= b  ⇔ a = a % b\n",
            "a **= b ⇔ a = a ** b\n"
          ]
        }
      ],
      "source": [
        "print(\"Mamy trzy typy liczbowe: integer, float i complex\")\n",
        "print(\"Działania na typach liczbowych:\")\n",
        "print(\"a += b  ⇔ a = a + b\")\n",
        "print(\"a -= b  ⇔ a = a - b\")\n",
        "print(\"a *= b  ⇔ a = a * b\")\n",
        "print(\"a /= b  ⇔ a = a / b\")\n",
        "print(\"a //= b ⇔ a = a // b\")\n",
        "print(\"a %= b  ⇔ a = a % b\")\n",
        "print(\"a **= b ⇔ a = a ** b\")"
      ]
    },
    {
      "cell_type": "code",
      "execution_count": null,
      "metadata": {
        "trusted": true
      },
      "outputs": [
        {
          "name": "stdout",
          "output_type": "stream",
          "text": [
            "Operatory rzutowania na typy to int, float, complex:\n",
            "float(x): 2.0\n",
            "int(y): 2\n"
          ]
        }
      ],
      "source": [
        "# Typ complex skład się z dwóch liczb typu float i ma atrybuty real i imag.\n",
        "# Sprawdź z.conjugate() oraz abs().\n",
        "print(\"Operatory rzutowania na typy to int, float, complex:\")\n",
        "x = 2\n",
        "y = 2.0\n",
        "print(f\"float(x): {float(x)}\")\n",
        "print(f\"int(y): {int(y)}\")"
      ]
    },
    {
      "cell_type": "markdown",
      "metadata": {},
      "source": [
        "### Typy sekwencyjne"
      ]
    },
    {
      "cell_type": "code",
      "execution_count": 34,
      "metadata": {
        "trusted": true
      },
      "outputs": [
        {
          "name": "stdout",
          "output_type": "stream",
          "text": [
            "4 Typy sekwencyjne:\n",
            "Napis (string): 'Ala ma kota'\n",
            "Łańcuch bajtów: b'Ala ma kota'\n",
            "Lista: [1, 2, 'a']\n",
            "Krotka (tupple): (1, 2, 3)\n"
          ]
        }
      ],
      "source": [
        "print(\"4 Typy sekwencyjne:\")\n",
        "string = 'Ala ma kota'\n",
        "byte_string = b'Ala ma kota'\n",
        "list = [1, 2, \"a\"]\n",
        "tuple = (1, 2, 3)\n",
        "\n",
        "print(f\"Napis (string): '{string}'\")\n",
        "print(f\"Łańcuch bajtów: {byte_string}\")\n",
        "print(f\"Lista: {list}\")\n",
        "print(f\"Krotka (tupple): {tuple}\")"
      ]
    },
    {
      "cell_type": "code",
      "execution_count": 35,
      "metadata": {
        "trusted": true
      },
      "outputs": [
        {
          "name": "stdout",
          "output_type": "stream",
          "text": [
            "Wspólne operacje dla typów sekwencyjnych\n",
            "- indeksowanie: s[n],\n",
            "- wycinki: s[x:y:z], x - początek wycinka, y - koniec wycinka, z - co który element (możliwe są wartości ujemne i puste miejsca)\n",
            "- mnożenie przez liczbę, sprawdź 3 * 'ala' lub 3 * [1,2,3]\n",
            "- dodawanie (konkatenacja): 'ab' + bc lub [1, 2] + [3, 2]\n",
            "- operator zawierania in: 'a' in 'Ala ma kota'\n",
            "- długość len(s)\n",
            "- elementy minimalne i maksymalne nim(s) i max(s)\n",
            "- wyszukiwanie pierwszego indeksu: s.index('a')\n",
            "- zliczanie elementów: s.count('a')\n"
          ]
        }
      ],
      "source": [
        "print(\"Wspólne operacje dla typów sekwencyjnych\")\n",
        "print(\"- indeksowanie: s[n],\")\n",
        "print(\"- wycinki: s[x:y:z], x - początek wycinka, y - koniec wycinka, z - co który element (możliwe są wartości ujemne i puste miejsca)\")\n",
        "print(\"- mnożenie przez liczbę, sprawdź 3 * 'ala' lub 3 * [1,2,3]\")\n",
        "print(\"- dodawanie (konkatenacja): 'ab' + bc lub [1, 2] + [3, 2]\")\n",
        "print(\"- operator zawierania in: 'a' in 'Ala ma kota'\")\n",
        "print(\"- długość len(s)\")\n",
        "print(\"- elementy minimalne i maksymalne nim(s) i max(s)\")\n",
        "print(\"- wyszukiwanie pierwszego indeksu: s.index('a')\")\n",
        "print(\"- zliczanie elementów: s.count('a')\")"
      ]
    },
    {
      "cell_type": "markdown",
      "metadata": {},
      "source": [
        "### Znaki ucieczki"
      ]
    },
    {
      "cell_type": "code",
      "execution_count": null,
      "metadata": {
        "trusted": true
      },
      "outputs": [
        {
          "name": "stdout",
          "output_type": "stream",
          "text": [
            "- \\\n",
            "- \\' - konieczne przy ograniczeniach ' lub '''\n",
            "- \\\" - podobnie jak wyżej\n",
            "- \\n - nowa linia\n",
            "- \\t - tabulacja pozioma\n",
            "- \\v - tabulacja pionowa\n",
            "- \\xab - znak ASCII zapisany w systemie szesnastkowym\n",
            "- r\\ - \\ nie jest znakiem ucieczki\n"
          ]
        }
      ],
      "source": [
        "print(\"- \\\\\")\n",
        "print(\"- \\\\' - konieczne przy ograniczeniach ' lub '''\")\n",
        "print('- \\\\\" - podobnie jak wyżej')\n",
        "print(\"- \\\\n - nowa linia\")\n",
        "print(\"- \\\\t - tabulacja pozioma\")\n",
        "print(\"- \\\\v - tabulacja pionowa\")\n",
        "print(\"- \\\\xab - znak ASCII zapisany w systemie szesnastkowym\")\n",
        "print(\"- r\\ - \\ nie jest znakiem ucieczki\")"
      ]
    },
    {
      "cell_type": "markdown",
      "metadata": {},
      "source": [
        "### Wybrane metody typu str"
      ]
    },
    {
      "cell_type": "code",
      "execution_count": null,
      "metadata": {
        "trusted": true
      },
      "outputs": [
        {
          "name": "stdout",
          "output_type": "stream",
          "text": [
            "- split(), rsplit():\n",
            "- startswith(), enswith() - czy łańcuch zaczyna się lub kończy od podłańcucha,\n",
            "- isalpha(), isdigit(), isalum() - tylko litery, cyfry, znaki alfanumeryczne,\n",
            "- strip(), rstrip(), lstrip() - usuwa białe znaki,\n",
            "- replace() - zastępuje podciąg innym, można podać ilość zastąpień,\n",
            "- chr() i ord() - zwracają znaki lub kody ASCII.\n"
          ]
        }
      ],
      "source": [
        "print(\"- split(), rsplit():\")\n",
        "print(\"- startswith(), enswith() - czy łańcuch zaczyna się lub kończy od podłańcucha,\")\n",
        "print(\"- isalpha(), isdigit(), isalum() - tylko litery, cyfry, znaki alfanumeryczne,\")\n",
        "print(\"- strip(), rstrip(), lstrip() - usuwa białe znaki,\")\n",
        "print(\"- replace() - zastępuje podciąg innym, można podać ilość zastąpień,\")\n",
        "print(\"- chr() i ord() - zwracają znaki lub kody ASCII.\")"
      ]
    },
    {
      "cell_type": "markdown",
      "metadata": {},
      "source": [
        "### Przykłady"
      ]
    },
    {
      "cell_type": "code",
      "execution_count": null,
      "metadata": {
        "trusted": true
      },
      "outputs": [
        {
          "name": "stdout",
          "output_type": "stream",
          "text": [
            "'a1a2a3aa4aaa5a'.split('a'): ['', '1', '2', '3', '', '4', '', '', '5', '']\n",
            "'a1a2a3aa4aaa5a'split('a', 2): ['', '1', '2a3aa4aaa5a']\n",
            "'a1a2a3aa4aaa5a'.rsplit('a', 2): ['a1a2a3aa4aa', '5', '']\n"
          ]
        }
      ],
      "source": [
        "print(f\"'a1a2a3aa4aaa5a'.split('a'): {'a1a2a3aa4aaa5a'.split('a')}\")\n",
        "print(f\"'a1a2a3aa4aaa5a'split('a', 2): {'a1a2a3aa4aaa5a'.split('a', 2)}\")\n",
        "print(f\"'a1a2a3aa4aaa5a'.rsplit('a', 2): {'a1a2a3aa4aaa5a'.rsplit('a', 2)}\")"
      ]
    },
    {
      "cell_type": "markdown",
      "metadata": {},
      "source": [
        "### Problem płytkiej kopii"
      ]
    },
    {
      "cell_type": "code",
      "execution_count": null,
      "metadata": {
        "trusted": true
      },
      "outputs": [
        {
          "name": "stdout",
          "output_type": "stream",
          "text": [
            "x: [1, 2, 3]\n",
            "y: [1, 2, 3]\n",
            "y po zmianie 1 elementu x: [1, 'a', 3]\n"
          ]
        }
      ],
      "source": [
        "x = [1, 2, 3]\n",
        "print(f\"x: {x}\")\n",
        "\n",
        "y = x\n",
        "print(f\"y: {y}\")\n",
        "x[1] = 'a'\n",
        "print(f\"y po zmianie 1 elementu x: {y}\")"
      ]
    },
    {
      "cell_type": "code",
      "execution_count": null,
      "metadata": {
        "trusted": true
      },
      "outputs": [
        {
          "name": "stdout",
          "output_type": "stream",
          "text": [
            "Problem można rozwiązać w następujący sposób:\n",
            "y = x[:] - tworzymy nowa listę a nie dowiązanie!\n"
          ]
        }
      ],
      "source": [
        "print(\"Problem można rozwiązać w następujący sposób:\")\n",
        "print(\"y = x[:] - tworzymy nowa listę a nie dowiązanie!\")"
      ]
    },
    {
      "cell_type": "markdown",
      "metadata": {},
      "source": [
        "### Krotki"
      ]
    },
    {
      "cell_type": "code",
      "execution_count": null,
      "metadata": {
        "trusted": true
      },
      "outputs": [
        {
          "name": "stdout",
          "output_type": "stream",
          "text": [
            "Krotki (tuples) to listy o ustalonej długości i wartościach elementów.\n",
            "('gruszki', 'banany', 'jagody')\n",
            "Owoce: ('gruszki', 'banany', 'jagody')\n",
            "Zielony: gruszki\n",
            "Zółty: banany\n",
            "Czerwony: jagody\n"
          ]
        }
      ],
      "source": [
        "print(\"Krotki (tuples) to listy o ustalonej długości i wartościach elementów.\")\n",
        "owoce = ('gruszki', 'banany', 'jagody')\n",
        "(zielony, zolty, czerwony) = owoce\n",
        "print(f\"{owoce}\")\n",
        "print(f\"Owoce: {owoce}\")\n",
        "print(f\"Zielony: {zielony}\")\n",
        "print(f\"Zółty: {zolty}\")\n",
        "print(f\"Czerwony: {czerwony}\")"
      ]
    },
    {
      "cell_type": "markdown",
      "metadata": {},
      "source": [
        "### Instrukcje warunkowe"
      ]
    },
    {
      "cell_type": "code",
      "execution_count": null,
      "metadata": {
        "trusted": true
      },
      "outputs": [
        {
          "name": "stdout",
          "output_type": "stream",
          "text": [
            "- if:\n",
            "   Prawda!\n",
            "- if, else:\n",
            "   Fałsz!\n"
          ]
        }
      ],
      "source": [
        "print(\"- if:\")\n",
        "if True:\n",
        "    print(\"   Prawda!\")\n",
        "print(\"- if, else:\")\n",
        "x = False\n",
        "if x:\n",
        "    print(\"   Prawda!\")\n",
        "else:\n",
        "    print(\"   Fałsz!\")"
      ]
    },
    {
      "cell_type": "markdown",
      "metadata": {},
      "source": [
        "### Operatory"
      ]
    },
    {
      "cell_type": "code",
      "execution_count": null,
      "metadata": {
        "trusted": true
      },
      "outputs": [
        {
          "name": "stdout",
          "output_type": "stream",
          "text": [
            "- ==,\n",
            "- !=,\n",
            "- <=,\n",
            "- >=,\n",
            "- <,\n",
            "- >,\n"
          ]
        }
      ],
      "source": [
        "print(\"- ==,\")\n",
        "print(\"- !=,\")\n",
        "print(\"- <=,\")\n",
        "print(\"- >=,\")\n",
        "print(\"- <,\")\n",
        "print(\"- >,\")"
      ]
    },
    {
      "cell_type": "markdown",
      "metadata": {},
      "source": [
        "### Kwantyfikatory"
      ]
    },
    {
      "cell_type": "code",
      "execution_count": null,
      "metadata": {
        "trusted": true
      },
      "outputs": [
        {
          "name": "stdout",
          "output_type": "stream",
          "text": [
            "- all()\n",
            "- any()\n",
            "all(list): False\n",
            "any(list): True\n"
          ]
        }
      ],
      "source": [
        "print(\"- all()\")\n",
        "print(\"- any()\")\n",
        "list = [True, False, False]\n",
        "print(f\"all(list): {all(list)}\")\n",
        "print(f\"any(list): {any(list)}\")"
      ]
    },
    {
      "cell_type": "markdown",
      "metadata": {},
      "source": [
        "### Operator zwierania - in"
      ]
    },
    {
      "cell_type": "code",
      "execution_count": null,
      "metadata": {
        "trusted": true
      },
      "outputs": [
        {
          "name": "stdout",
          "output_type": "stream",
          "text": [
            "x(1) jest w liście: [1, 2, 3, 4]\n"
          ]
        }
      ],
      "source": [
        "list = [1, 2, 3, 4]\n",
        "x = 1\n",
        "if x in list:\n",
        "    print(f\"x({x}) jest w liście: {list}\")"
      ]
    },
    {
      "attachments": {},
      "cell_type": "markdown",
      "metadata": {},
      "source": [
        "### Trójargumentowy operator logiczny"
      ]
    },
    {
      "cell_type": "code",
      "execution_count": null,
      "metadata": {
        "trusted": true
      },
      "outputs": [
        {
          "name": "stdout",
          "output_type": "stream",
          "text": [
            "x = A if B else C\n",
            "B warunek logiczny\n",
            "A i C to wartości\n"
          ]
        }
      ],
      "source": [
        "print(\"x = A if B else C\")\n",
        "print(\"B warunek logiczny\")\n",
        "print(\"A i C to wartości\")"
      ]
    },
    {
      "cell_type": "markdown",
      "metadata": {},
      "source": [
        "### Pętle for i while"
      ]
    },
    {
      "cell_type": "code",
      "execution_count": null,
      "metadata": {
        "trusted": true
      },
      "outputs": [
        {
          "name": "stdout",
          "output_type": "stream",
          "text": [
            "Pętla for:\n",
            "Ala ma kota\n",
            "Pętla while:\n",
            "Ala ma kota"
          ]
        }
      ],
      "source": [
        "print(\"Pętla for:\")\n",
        "string = \"Ala ma kota\"\n",
        "for char in string:\n",
        "    print(char, end=\"\")\n",
        "\n",
        "print(\"\\nPętla while:\")\n",
        "number = 0\n",
        "while number != len(string):\n",
        "    print(string[number], end=\"\")\n",
        "    number += 1"
      ]
    }
  ],
  "metadata": {
    "kernelspec": {
      "display_name": "Python (Pyodide)",
      "language": "python",
      "name": "python"
    },
    "language_info": {
      "codemirror_mode": {
        "name": "python",
        "version": 3
      },
      "file_extension": ".py",
      "mimetype": "text/x-python",
      "name": "python",
      "nbconvert_exporter": "python",
      "pygments_lexer": "ipython3",
      "version": "3.8"
    }
  },
  "nbformat": 4,
  "nbformat_minor": 4
}
