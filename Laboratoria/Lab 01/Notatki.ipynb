{
  "cells": [
    {
      "cell_type": "markdown",
      "metadata": {},
      "source": [
        "# Laboratorium 01"
      ]
    },
    {
      "cell_type": "markdown",
      "metadata": {},
      "source": [
        "## Notatki"
      ]
    },
    {
      "cell_type": "markdown",
      "metadata": {},
      "source": [
        "### Powłoka, interpreter, środowiska"
      ]
    },
    {
      "cell_type": "code",
      "execution_count": 15,
      "metadata": {
        "trusted": true
      },
      "outputs": [
        {
          "name": "stdout",
          "output_type": "stream",
          "text": [
            "Pierwszy skrypt\n"
          ]
        }
      ],
      "source": [
        "# Funkcja print()\n",
        "print(\"Pierwszy skrypt\")"
      ]
    },
    {
      "cell_type": "code",
      "execution_count": 16,
      "metadata": {
        "trusted": true
      },
      "outputs": [
        {
          "name": "stdout",
          "output_type": "stream",
          "text": [
            "python3 ./skrypt.py\n"
          ]
        }
      ],
      "source": [
        "# Linia poleceń\n",
        "print(\"python3 ./skrypt.py\")"
      ]
    },
    {
      "cell_type": "code",
      "execution_count": 17,
      "metadata": {
        "trusted": true
      },
      "outputs": [
        {
          "name": "stdout",
          "output_type": "stream",
          "text": [
            "chmod +x skrypt.py\n"
          ]
        }
      ],
      "source": [
        "# Przed uruchomieniem należy nadać plikowi skrypt.py odpowiednie uprawnienia:\n",
        "print(\"chmod +x skrypt.py\")"
      ]
    },
    {
      "cell_type": "code",
      "execution_count": 18,
      "metadata": {
        "trusted": true
      },
      "outputs": [
        {
          "name": "stdout",
          "output_type": "stream",
          "text": [
            "pip3 install jupyter\n"
          ]
        }
      ],
      "source": [
        "# Środowisko Jupyter, wymagające wcześniejszego zainstalowania\n",
        "print(\"pip3 install jupyter\")"
      ]
    },
    {
      "cell_type": "markdown",
      "metadata": {},
      "source": [
        "### Typy liczbowe"
      ]
    },
    {
      "cell_type": "code",
      "execution_count": 19,
      "metadata": {
        "trusted": true
      },
      "outputs": [
        {
          "name": "stdout",
          "output_type": "stream",
          "text": [
            "type(x): <class 'int'>\n",
            "type(y): <class 'float'>\n"
          ]
        }
      ],
      "source": [
        "# Zaalokowanie zmiennych\n",
        "x = 2    # X typu int\n",
        "y = 2.0  # Y typu float\n",
        "# Wyświetlenie typów zmiennych x i y\n",
        "print(f\"type(x): {type(x)}\")\n",
        "print(f\"type(y): {type(y)}\")"
      ]
    },
    {
      "attachments": {},
      "cell_type": "markdown",
      "metadata": {},
      "source": [
        "### Trzy typy liczbowe: integer, float i complex"
      ]
    },
    {
      "cell_type": "code",
      "execution_count": 20,
      "metadata": {
        "trusted": true
      },
      "outputs": [
        {
          "name": "stdout",
          "output_type": "stream",
          "text": [
            "Działania na typach liczbowych:\n",
            "a += b  ⇔ a = a + b\n",
            "a -= b  ⇔ a = a - b\n",
            "a *= b  ⇔ a = a * b\n",
            "a /= b  ⇔ a = a / b\n",
            "a //= b ⇔ a = a // b\n",
            "a %= b  ⇔ a = a % b\n",
            "a **= b ⇔ a = a ** b\n"
          ]
        }
      ],
      "source": [
        "# Wyświetlenie działań na typach liczbowych\n",
        "print(\"Działania na typach liczbowych:\")\n",
        "print(\"a += b  ⇔ a = a + b\")\n",
        "print(\"a -= b  ⇔ a = a - b\")\n",
        "print(\"a *= b  ⇔ a = a * b\")\n",
        "print(\"a /= b  ⇔ a = a / b\")\n",
        "print(\"a //= b ⇔ a = a // b\")\n",
        "print(\"a %= b  ⇔ a = a % b\")\n",
        "print(\"a **= b ⇔ a = a ** b\")"
      ]
    },
    {
      "attachments": {},
      "cell_type": "markdown",
      "metadata": {},
      "source": [
        "### Operatory rzutowania na typy"
      ]
    },
    {
      "cell_type": "code",
      "execution_count": 21,
      "metadata": {
        "trusted": true
      },
      "outputs": [
        {
          "name": "stdout",
          "output_type": "stream",
          "text": [
            "Operatory rzutowania na typy:\n",
            "float(x): 2.0\n",
            "int(y):   2\n"
          ]
        }
      ],
      "source": [
        "# Wyświetlanie operatorów rzutowania\n",
        "print(\"Operatory rzutowania na typy:\")\n",
        "x = 2    # X typu int\n",
        "y = 2.0  # Y typu float\n",
        "# Wyświetlenie zmiennych x i y rzutowanych na odpowiednio float oraz int\n",
        "print(f\"float(x): {float(x)}\")\n",
        "print(f\"int(y):   {int(y)}\")"
      ]
    },
    {
      "cell_type": "markdown",
      "metadata": {},
      "source": [
        "### Typy sekwencyjne"
      ]
    },
    {
      "cell_type": "code",
      "execution_count": 22,
      "metadata": {
        "trusted": true
      },
      "outputs": [
        {
          "name": "stdout",
          "output_type": "stream",
          "text": [
            "4 Typy sekwencyjne:\n",
            "Napis (string):               'Ala ma kota'\n",
            "Łańcuch bajtów (byte string): b'Ala ma kota'\n",
            "Lista:                        [1, 2, 'a']\n",
            "Krotka (tupple):              (1, 2, 3)\n"
          ]
        }
      ],
      "source": [
        "# Wyświetlenie typów sekwencyjnych\n",
        "print(\"4 Typy sekwencyjne:\")\n",
        "\n",
        "# String - łańcuch znaków\n",
        "string = 'Ala ma kota'\n",
        "# Byte string = bajtowy łańcuch znaków\n",
        "byte_string = b'Ala ma kota'\n",
        "# List - lista\n",
        "list = [1, 2, \"a\"]\n",
        "# Tuple - krotka\n",
        "tuple = (1, 2, 3)\n",
        "\n",
        "# Wyświetlenie wszystkich typów sekwencyjnych\n",
        "print(f\"Napis (string):               '{string}'\")\n",
        "print(f\"Łańcuch bajtów (byte string): {byte_string}\")\n",
        "print(f\"Lista:                        {list}\")\n",
        "print(f\"Krotka (tupple):              {tuple}\")"
      ]
    },
    {
      "attachments": {},
      "cell_type": "markdown",
      "metadata": {},
      "source": [
        "### Wspólne operacje dla typów sekwencyjnych"
      ]
    },
    {
      "cell_type": "code",
      "execution_count": 23,
      "metadata": {
        "trusted": true
      },
      "outputs": [
        {
          "name": "stdout",
          "output_type": "stream",
          "text": [
            "Wspólne operacje dla typów sekwencyjnych\n",
            "- indeksowanie: s[n],\n",
            "- wycinki: s[x:y:z], x - początek wycinka, y - koniec wycinka, z - co który element (możliwe są wartości ujemne i puste miejsca)\n",
            "- mnożenie przez liczbę, sprawdź 3 * 'ala' lub 3 * [1,2,3]\n",
            "- dodawanie (konkatenacja): 'ab' + bc lub [1, 2] + [3, 2]\n",
            "- operator zawierania in: 'a' in 'Ala ma kota'\n",
            "- długość len(s)\n",
            "- elementy minimalne i maksymalne nim(s) i max(s)\n",
            "- wyszukiwanie pierwszego indeksu: s.index('a')\n",
            "- zliczanie elementów: s.count('a')\n"
          ]
        }
      ],
      "source": [
        "print(\"Wspólne operacje dla typów sekwencyjnych\")\n",
        "print(\"- indeksowanie: s[n],\")\n",
        "print(\"- wycinki: s[x:y:z], x - początek wycinka, y - koniec wycinka, z - co który element (możliwe są wartości ujemne i puste miejsca)\")\n",
        "print(\"- mnożenie przez liczbę, sprawdź 3 * 'ala' lub 3 * [1,2,3]\")\n",
        "print(\"- dodawanie (konkatenacja): 'ab' + bc lub [1, 2] + [3, 2]\")\n",
        "print(\"- operator zawierania in: 'a' in 'Ala ma kota'\")\n",
        "print(\"- długość len(s)\")\n",
        "print(\"- elementy minimalne i maksymalne nim(s) i max(s)\")\n",
        "print(\"- wyszukiwanie pierwszego indeksu: s.index('a')\")\n",
        "print(\"- zliczanie elementów: s.count('a')\")"
      ]
    },
    {
      "cell_type": "markdown",
      "metadata": {},
      "source": [
        "### Znaki ucieczki"
      ]
    },
    {
      "cell_type": "code",
      "execution_count": 24,
      "metadata": {
        "trusted": true
      },
      "outputs": [
        {
          "name": "stdout",
          "output_type": "stream",
          "text": [
            "- \\\n",
            "- \\' - konieczne przy ograniczeniach ' lub '''\n",
            "- \\\" - podobnie jak wyżej\n",
            "- \\n - nowa linia\n",
            "- \\t - tabulacja pozioma\n",
            "- \\v - tabulacja pionowa\n",
            "- \\xab - znak ASCII zapisany w systemie szesnastkowym\n",
            "- r\\ - \\ nie jest znakiem ucieczki\n"
          ]
        }
      ],
      "source": [
        "print(\"- \\\\\")\n",
        "print(\"- \\\\' - konieczne przy ograniczeniach ' lub '''\")\n",
        "print('- \\\\\" - podobnie jak wyżej')\n",
        "print(\"- \\\\n - nowa linia\")\n",
        "print(\"- \\\\t - tabulacja pozioma\")\n",
        "print(\"- \\\\v - tabulacja pionowa\")\n",
        "print(\"- \\\\xab - znak ASCII zapisany w systemie szesnastkowym\")\n",
        "print(\"- r\\ - \\ nie jest znakiem ucieczki\")"
      ]
    },
    {
      "cell_type": "markdown",
      "metadata": {},
      "source": [
        "### Wybrane metody typu str"
      ]
    },
    {
      "cell_type": "code",
      "execution_count": 25,
      "metadata": {
        "trusted": true
      },
      "outputs": [
        {
          "name": "stdout",
          "output_type": "stream",
          "text": [
            "- split(), rsplit() - rozdzielanie łańcuchów znaków\n",
            "- startswith(), enswith() - czy łańcuch zaczyna się lub kończy od podłańcucha,\n",
            "- isalpha(), isdigit(), isalum() - tylko litery, cyfry, znaki alfanumeryczne,\n",
            "- strip(), rstrip(), lstrip() - usuwa białe znaki,\n",
            "- replace() - zastępuje podciąg innym, można podać ilość zastąpień,\n",
            "- chr() i ord() - zwracają znaki lub kody ASCII.\n"
          ]
        }
      ],
      "source": [
        "print(\"- split(), rsplit() - rozdzielanie łańcuchów znaków\")\n",
        "print(\"- startswith(), enswith() - czy łańcuch zaczyna się lub kończy od podłańcucha,\")\n",
        "print(\"- isalpha(), isdigit(), isalum() - tylko litery, cyfry, znaki alfanumeryczne,\")\n",
        "print(\"- strip(), rstrip(), lstrip() - usuwa białe znaki,\")\n",
        "print(\"- replace() - zastępuje podciąg innym, można podać ilość zastąpień,\")\n",
        "print(\"- chr() i ord() - zwracają znaki lub kody ASCII.\")"
      ]
    },
    {
      "attachments": {},
      "cell_type": "markdown",
      "metadata": {},
      "source": [
        "### Przykłady funkcji split()"
      ]
    },
    {
      "cell_type": "code",
      "execution_count": 26,
      "metadata": {
        "trusted": true
      },
      "outputs": [
        {
          "name": "stdout",
          "output_type": "stream",
          "text": [
            "'a1a2a3aa4aaa5a'.split('a'):     ['', '1', '2', '3', '', '4', '', '', '5', '']\n",
            "'a1a2a3aa4aaa5a'split('a', 2):   ['', '1', '2a3aa4aaa5a']\n",
            "'a1a2a3aa4aaa5a'.rsplit('a', 2): ['a1a2a3aa4aa', '5', '']\n"
          ]
        }
      ],
      "source": [
        "print(f\"'a1a2a3aa4aaa5a'.split('a'):     {'a1a2a3aa4aaa5a'.split('a')}\")\n",
        "print(f\"'a1a2a3aa4aaa5a'split('a', 2):   {'a1a2a3aa4aaa5a'.split('a', 2)}\")\n",
        "print(f\"'a1a2a3aa4aaa5a'.rsplit('a', 2): {'a1a2a3aa4aaa5a'.rsplit('a', 2)}\")"
      ]
    },
    {
      "cell_type": "markdown",
      "metadata": {},
      "source": [
        "### Problem płytkiej kopii"
      ]
    },
    {
      "cell_type": "code",
      "execution_count": 27,
      "metadata": {
        "trusted": true
      },
      "outputs": [
        {
          "name": "stdout",
          "output_type": "stream",
          "text": [
            "Lista x: [1, 2, 3]\n",
            "Lista y: [1, 2, 3]\n",
            "Lista y po zmianie elementu pod indeksem 1 w liście x: [1, 'a', 3]\n"
          ]
        }
      ],
      "source": [
        "# Zaalokowanie listy x\n",
        "x = [1, 2, 3]\n",
        "\n",
        "# Wyświetlenie listy x\n",
        "print(f\"Lista x: {x}\")\n",
        "\n",
        "# Zaalokowanie płytkiej kopii x jako y\n",
        "y = x\n",
        "# Wyświetlenie listy y\n",
        "print(f\"Lista y: {y}\")\n",
        "\n",
        "# Zamiana elementu pod indeksem 1 na 'a'\n",
        "x[1] = 'a'\n",
        "# Wyświetlenie list y po zmianie elementu pod indeksem 1 w liście x\n",
        "print(f\"Lista y po zmianie elementu pod indeksem 1 w liście x: {y}\")"
      ]
    },
    {
      "attachments": {},
      "cell_type": "markdown",
      "metadata": {},
      "source": [
        "### Rozwiązanie problemu płtykiej kopii"
      ]
    },
    {
      "cell_type": "code",
      "execution_count": 28,
      "metadata": {
        "trusted": true
      },
      "outputs": [
        {
          "name": "stdout",
          "output_type": "stream",
          "text": [
            "y = x[:] - tworzymy nowa listę a nie dowiązanie!\n"
          ]
        }
      ],
      "source": [
        "# Rozwiązanie problemu płykiej kopii\n",
        "y = x[:]\n",
        "print(\"y = x[:] - tworzymy nowa listę a nie dowiązanie!\")"
      ]
    },
    {
      "cell_type": "markdown",
      "metadata": {},
      "source": [
        "### Krotki"
      ]
    },
    {
      "cell_type": "code",
      "execution_count": 29,
      "metadata": {
        "trusted": true
      },
      "outputs": [
        {
          "name": "stdout",
          "output_type": "stream",
          "text": [
            "Krotki (tuples) to listy o ustalonej długości i wartościach elementów.\n",
            "Owoce:    ('gruszki', 'banany', 'jagody')\n",
            "Zielony:  gruszki\n",
            "Zółty:    banany\n",
            "Czerwony: jagody\n"
          ]
        }
      ],
      "source": [
        "print(\"Krotki (tuples) to listy o ustalonej długości i wartościach elementów.\")\n",
        "owoce = ('gruszki', 'banany', 'jagody')\n",
        "(zielony, zolty, czerwony) = owoce\n",
        "print(f\"Owoce:    {owoce}\")\n",
        "print(f\"Zielony:  {zielony}\")\n",
        "print(f\"Zółty:    {zolty}\")\n",
        "print(f\"Czerwony: {czerwony}\")"
      ]
    },
    {
      "cell_type": "markdown",
      "metadata": {},
      "source": [
        "### Instrukcje warunkowe"
      ]
    },
    {
      "cell_type": "code",
      "execution_count": 30,
      "metadata": {
        "trusted": true
      },
      "outputs": [
        {
          "name": "stdout",
          "output_type": "stream",
          "text": [
            "- if:\n",
            "   Prawda!\n",
            "- if, else:\n",
            "   Fałsz!\n"
          ]
        }
      ],
      "source": [
        "# Instrukcja warunkowa if\n",
        "print(\"- if:\")\n",
        "\n",
        "# Jeśli prawda\n",
        "if True:\n",
        "    # Wyświetl 'Prawda!'\n",
        "    print(\"   Prawda!\")\n",
        "\n",
        "\n",
        "\n",
        "# Ustaw zmienną x jako Fałsz\n",
        "x = False\n",
        "\n",
        "# Instrukcja warunkowa if\n",
        "print(\"- if, else:\")\n",
        "\n",
        "# Jeśli x to prawda\n",
        "if x:\n",
        "    # Wyświetl 'Prawda!'\n",
        "    print(\"   Prawda!\")\n",
        "# W przeciwnym przypadku\n",
        "else:\n",
        "    # Wyświetl 'Fałsz!'\n",
        "    print(\"   Fałsz!\")"
      ]
    },
    {
      "cell_type": "markdown",
      "metadata": {},
      "source": [
        "### Operatory"
      ]
    },
    {
      "cell_type": "code",
      "execution_count": 31,
      "metadata": {
        "trusted": true
      },
      "outputs": [
        {
          "name": "stdout",
          "output_type": "stream",
          "text": [
            "- ==,\n",
            "- !=,\n",
            "- <=,\n",
            "- >=,\n",
            "- <,\n",
            "- >,\n"
          ]
        }
      ],
      "source": [
        "# Operatory w jęzuyku Python\n",
        "print(\"- ==,\")\n",
        "print(\"- !=,\")\n",
        "print(\"- <=,\")\n",
        "print(\"- >=,\")\n",
        "print(\"- <,\")\n",
        "print(\"- >,\")"
      ]
    },
    {
      "cell_type": "markdown",
      "metadata": {},
      "source": [
        "### Kwantyfikatory"
      ]
    },
    {
      "cell_type": "code",
      "execution_count": 32,
      "metadata": {
        "trusted": true
      },
      "outputs": [
        {
          "name": "stdout",
          "output_type": "stream",
          "text": [
            "- all()\n",
            "- any()\n",
            "list: [True, False, False]\n",
            "all(list): False\n",
            "any(list): True\n"
          ]
        }
      ],
      "source": [
        "# Komendy all() oraz any()\n",
        "print(\"- all()\")\n",
        "print(\"- any()\")\n",
        "\n",
        "# Zaalokowanie listy prawdy i fałszu\n",
        "list = [True, False, False]\n",
        "\n",
        "# Wyświtlenie listy\n",
        "print(f\"list: {list}\")\n",
        "\n",
        "# Wyświetlenie funkcji all() na liście\n",
        "print(f\"all(list): {all(list)}\")\n",
        "# Wyświetlenie funkcji any() na liście\n",
        "print(f\"any(list): {any(list)}\")"
      ]
    },
    {
      "cell_type": "markdown",
      "metadata": {},
      "source": [
        "### Operator zwierania - in"
      ]
    },
    {
      "cell_type": "code",
      "execution_count": 33,
      "metadata": {
        "trusted": true
      },
      "outputs": [
        {
          "name": "stdout",
          "output_type": "stream",
          "text": [
            "x(1) jest w liście: [1, 2, 3, 4]\n"
          ]
        }
      ],
      "source": [
        "# Zaalokowanie listy liczb\n",
        "list = [1, 2, 3, 4]\n",
        "\n",
        "# Zaalokowanie zmiennej x\n",
        "x = 1\n",
        "\n",
        "# Jeśli x jest w liście\n",
        "if x in list:\n",
        "    # Wyświetl odpowiedni komunikat\n",
        "    print(f\"x({x}) jest w liście: {list}\")"
      ]
    },
    {
      "attachments": {},
      "cell_type": "markdown",
      "metadata": {},
      "source": [
        "### Trójargumentowy operator logiczny"
      ]
    },
    {
      "cell_type": "code",
      "execution_count": 34,
      "metadata": {
        "trusted": true
      },
      "outputs": [
        {
          "name": "stdout",
          "output_type": "stream",
          "text": [
            "x = A if B else C\n",
            "B warunek logiczny\n",
            "A i C to wartości\n"
          ]
        }
      ],
      "source": [
        "print(\"x = A if B else C\")\n",
        "print(\"B warunek logiczny\")\n",
        "print(\"A i C to wartości\")"
      ]
    },
    {
      "cell_type": "markdown",
      "metadata": {},
      "source": [
        "### Pętle for i while"
      ]
    },
    {
      "cell_type": "code",
      "execution_count": 35,
      "metadata": {
        "trusted": true
      },
      "outputs": [
        {
          "name": "stdout",
          "output_type": "stream",
          "text": [
            "Pętla for:\n",
            "Ala ma kota\n",
            "Pętla while:\n",
            "Ala ma kota"
          ]
        },
        {
          "name": "stderr",
          "output_type": "stream",
          "text": [
            "Bad pipe message: %s [b'.)\\x14\\xb5\\x94\\xe0k\\x115\\xe0\\xb4\\xc9\\x17`hl\\x97\\x13 V{M\\x0bLS\\xb2\\xbe\\x0e+T\\x17\\xc3tT\\x86\\xe1$H\\r\\xa9\\xfb\\xeef\\x17\\x97\\x7f\\xd6-\\xc5\\xa9\\x8f\\x00\\x08\\x13\\x02\\x13\\x03\\x13\\x01\\x00\\xff\\x01\\x00\\x00\\x8f\\x00\\x00\\x00\\x0e']\n",
            "Bad pipe message: %s [b'\\xbd\\x0bH2\\xbe%f\\x7fTO\\\\\\xcb\\xba\\xf9\\xbeO\\x98k A\\xa3\\xf6\\xad\\x94\\x91O\\xed\\nW_\\xad\\x8d%\\x15F\\xb1Y\\x1f\\xdb\\x10\\x1f\\x96\\xa5_\\xc71\\x1e\\xd1A\\x02@\\x00\\x08\\x13\\x02\\x13\\x03\\x13\\x01\\x00\\xff\\x01\\x00\\x00\\x8f\\x00\\x00\\x00\\x0e\\x00\\x0c\\x00\\x00\\t127.0.0.1\\x00\\x0b\\x00\\x04\\x03\\x00\\x01\\x02\\x00\\n\\x00\\x0c\\x00\\n\\x00\\x1d\\x00\\x17']\n",
            "Bad pipe message: %s [b\"\\x8a\\x95x\\x8e8\\xba7\\xa3;\\xa3\\x01$]4J\\xfa\\x8fl\\x00\\x00\\xa6\\xc0,\\xc00\\x00\\xa3\\x00\\x9f\\xcc\\xa9\\xcc\\xa8\\xcc\\xaa\\xc0\\xaf\\xc0\\xad\\xc0\\xa3\\xc0\\x9f\\xc0]\\xc0a\\xc0W\\xc0S\\xc0+\\xc0/\\x00\\xa2\\x00\\x9e\\xc0\\xae\\xc0\\xac\\xc0\\xa2\\xc0\\x9e\\xc0\\\\\\xc0`\\xc0V\\xc0R\\xc0$\\xc0(\\x00k\\x00j\\xc0s\\xc0w\\x00\\xc4\\x00\\xc3\\xc0#\\xc0'\\x00g\\x00@\\xc0r\\xc0v\\x00\\xbe\\x00\\xbd\\xc0\\n\\xc0\\x14\\x009\\x008\\x00\\x88\\x00\\x87\\xc0\\t\\xc0\\x13\\x003\\x002\\x00\\x9a\\x00\\x99\\x00E\\x00D\\xc0\\x07\\xc0\\x11\\xc0\"]\n",
            "Bad pipe message: %s [b'\\x12\\x00\\x16\\x00\\x13\\x00\\x9d']\n",
            "Bad pipe message: %s [b'\\x83\\xd7l\\xc9\\xac\\x85s:\\x91m*\\xf1\\xb9_\\x80\\x0f\\xd5\\xbe\\x00\\x00>\\xc0\\x14\\xc0\\n\\x009\\x008\\x007\\x006\\xc0\\x0f\\xc0\\x05\\x005\\xc0\\x13\\xc0\\t\\x003\\x002\\x001\\x000\\xc0\\x0e\\xc0\\x04\\x00/\\x00\\x9a\\x00\\x99\\x00\\x98\\x00\\x97\\x00\\x96\\x00\\x07\\xc0\\x11\\xc0\\x07\\xc0\\x0c\\xc0\\x02\\x00\\x05\\x00\\x04\\x00\\xff\\x02\\x01\\x00\\x00C\\x00\\x00\\x00\\x0e\\x00\\x0c\\x00\\x00\\t127.0.0.1\\x00\\x0b\\x00\\x04\\x03\\x00\\x01\\x02\\x00\\n\\x00']\n",
            "Bad pipe message: %s [b'\\x1a\\x00\\x17\\x00\\x19\\x00\\x1c\\x00\\x1b\\x00\\x18\\x00\\x1a\\x00\\x16\\x00\\x0e\\x00\\r\\x00\\x0b\\x00\\x0c\\x00\\t\\x00\\n']\n",
            "Bad pipe message: %s [b'h\\xfb\\x19\\xd42\\xaf\\x8fb\\x95\\xbd\\xa7N8&\\x0f\\xdfc']\n",
            "Bad pipe message: %s [b'\\x00\\xa2\\xc0\\x14\\xc0\\n\\x009\\x008\\x007\\x006\\x00\\x88\\x00\\x87\\x00\\x86\\x00\\x85\\xc0\\x19\\x00:\\x00\\x89\\xc0\\x0f\\xc0\\x05\\x005\\x00\\x84\\xc0\\x13\\xc0\\t\\x003\\x002\\x001\\x000\\x00\\x9a\\x00\\x99\\x00\\x98\\x00\\x97\\x00E\\x00D\\x00C\\x00B\\xc0\\x18\\x004\\x00\\x9b\\x00F\\xc0\\x0e\\xc0\\x04\\x00/\\x00\\x96\\x00A\\x00\\x07\\xc0\\x11\\xc0\\x07\\xc0\\x16\\x00\\x18\\xc0\\x0c\\xc0\\x02\\x00\\x05\\x00\\x04\\xc0\\x12\\xc0\\x08\\x00\\x16\\x00\\x13\\x00\\x10\\x00\\r\\xc0\\x17\\x00\\x1b\\xc0\\r\\xc0\\x03\\x00\\n\\x00\\x15\\x00\\x12\\x00\\x0f\\x00\\x0c\\x00\\x1a\\x00\\t\\x00\\x14\\x00\\x11\\x00\\x19\\x00\\x08\\x00\\x06\\x00\\x17\\x00\\x03\\xc0\\x10\\xc0\\x06\\xc0\\x15\\xc0\\x0b\\xc0\\x01\\x00\\x02']\n",
            "Bad pipe message: %s [b'\\xbb\\xff:\\xfaBr\\xaa', b'\\xcf`%\\xb4\\xb23.2\\xa6\\x00\\x00>\\xc0\\x14\\xc0\\n\\x009\\x008\\x007\\x006\\xc0\\x0f\\xc0\\x05\\x005\\xc0\\x13\\xc0\\t\\x003\\x002\\x001\\x000\\xc0\\x0e\\xc0\\x04\\x00/\\x00\\x9a\\x00\\x99\\x00\\x98\\x00\\x97\\x00\\x96\\x00\\x07\\xc0\\x11\\xc0\\x07\\xc0\\x0c\\xc0']\n",
            "Bad pipe message: %s [b'\\x05']\n",
            "Bad pipe message: %s [b'\\x8c\\xeb']\n",
            "Bad pipe message: %s [b\"6\\x8d\\xa0u\\xa2\\xf7 \\x087\\\\\\xd6c\\x835<vq\\x1c\\x00\\x00\\x86\\xc00\\xc0,\\xc0(\\xc0$\\xc0\\x14\\xc0\\n\\x00\\xa5\\x00\\xa3\\x00\\xa1\\x00\\x9f\\x00k\\x00j\\x00i\\x00h\\x009\\x008\\x007\\x006\\xc02\\xc0.\\xc0*\\xc0&\\xc0\\x0f\\xc0\\x05\\x00\\x9d\\x00=\\x005\\xc0/\\xc0+\\xc0'\\xc0#\\xc0\\x13\\xc0\\t\\x00\\xa4\\x00\\xa2\\x00\\xa0\\x00\\x9e\\x00g\\x00@\\x00?\\x00>\\x003\\x002\\x001\\x000\\xc01\\xc0-\\xc0)\\xc0%\\xc0\\x0e\\xc0\\x04\\x00\\x9c\\x00<\\x00/\\x00\\x9a\\x00\\x99\\x00\\x98\\x00\\x97\\x00\\x96\\x00\\x07\\xc0\\x11\\xc0\\x07\\xc0\\x0c\\xc0\\x02\\x00\\x05\\x00\\x04\\x00\\xff\\x02\\x01\\x00\\x00g\\x00\\x00\\x00\\x0e\\x00\\x0c\\x00\\x00\\t127.0.0.1\\x00\\x0b\\x00\\x04\\x03\\x00\\x01\\x02\\x00\\n\\x00\", b'\\x1a\\x00\\x17\\x00\\x19\\x00\\x1c\\x00\\x1b\\x00\\x18\\x00\\x1a\\x00\\x16\\x00\\x0e\\x00\\r\\x00\\x0b\\x00\\x0c\\x00\\t\\x00\\n']\n",
            "Bad pipe message: %s [b\"\\xd8\\xceL\\xdc\\xfd1\\xc0\\xacE\\x7f\\xc8\\xc6(\\xfb*M&\\x8d\\x00\\x00\\xf4\\xc00\\xc0,\\xc0(\\xc0$\\xc0\\x14\\xc0\\n\\x00\\xa5\\x00\\xa3\\x00\\xa1\\x00\\x9f\\x00k\\x00j\\x00i\\x00h\\x009\\x008\\x007\\x006\\x00\\x88\\x00\\x87\\x00\\x86\\x00\\x85\\xc0\\x19\\x00\\xa7\\x00m\\x00:\\x00\\x89\\xc02\\xc0.\\xc0*\\xc0&\\xc0\\x0f\\xc0\\x05\\x00\\x9d\\x00=\\x005\\x00\\x84\\xc0/\\xc0+\\xc0'\\xc0#\\xc0\\x13\\xc0\\t\\x00\\xa4\\x00\\xa2\\x00\\xa0\\x00\\x9e\\x00g\\x00@\\x00?\\x00>\\x003\\x002\\x001\\x000\\x00\\x9a\\x00\\x99\\x00\\x98\\x00\\x97\\x00E\\x00D\\x00C\\x00B\\xc0\\x18\\x00\\xa6\\x00l\\x004\\x00\\x9b\\x00F\\xc01\\xc0-\\xc0)\\xc0%\\xc0\\x0e\\xc0\\x04\\x00\\x9c\\x00<\\x00/\\x00\\x96\\x00A\\x00\\x07\\xc0\\x11\\xc0\\x07\\xc0\\x16\\x00\\x18\\xc0\\x0c\\xc0\\x02\\x00\\x05\\x00\\x04\\xc0\\x12\\xc0\\x08\\x00\\x16\\x00\\x13\\x00\\x10\\x00\\r\\xc0\\x17\\x00\\x1b\\xc0\\r\\xc0\\x03\\x00\\n\\x00\\x15\\x00\\x12\\x00\\x0f\\x00\\x0c\\x00\\x1a\\x00\\t\\x00\\x14\\x00\\x11\\x00\\x19\\x00\"]\n",
            "Bad pipe message: %s [b'\\x06\\x00\\x17\\x00\\x03\\xc0\\x10']\n"
          ]
        }
      ],
      "source": [
        "# Wyświetlenie komunikatu o pętli for\n",
        "print(\"Pętla for:\")\n",
        "\n",
        "# Zaalokowanie zmiennej string\n",
        "string = \"Ala ma kota\"\n",
        "\n",
        "# Dla każdego znaku w łańcuchu znaków string\n",
        "for char in string:\n",
        "    # Wyświetl znak w łańcuchu znaków\n",
        "    print(char, end=\"\")\n",
        "\n",
        "\n",
        "\n",
        "# Wyświetlenie komunikatu o pętli while\n",
        "print(\"\\nPętla while:\")\n",
        "\n",
        "# Zaalokowanie licznika\n",
        "number = 0\n",
        "\n",
        "# Dopóki number jest mniejsze niż długość łańcuchu znaków string\n",
        "while number != len(string):\n",
        "    # Wyświetl łańcuch znaków string od indeksu number\n",
        "    print(string[number], end=\"\")\n",
        "    # Inkremenmtuj licznik\n",
        "    number += 1"
      ]
    }
  ],
  "metadata": {
    "kernelspec": {
      "display_name": "Python 3 (ipykernel)",
      "language": "python",
      "name": "python3"
    },
    "language_info": {
      "codemirror_mode": {
        "name": "ipython",
        "version": 3
      },
      "file_extension": ".py",
      "mimetype": "text/x-python",
      "name": "python",
      "nbconvert_exporter": "python",
      "pygments_lexer": "ipython3",
      "version": "3.10.4"
    }
  },
  "nbformat": 4,
  "nbformat_minor": 4
}
