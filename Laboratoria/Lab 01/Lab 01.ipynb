{
  "cells": [
    {
      "attachments": {},
      "cell_type": "markdown",
      "metadata": {},
      "source": [
        "# Programowanie w Pythonie"
      ]
    },
    {
      "attachments": {},
      "cell_type": "markdown",
      "metadata": {},
      "source": [
        "## Laboratorium 01"
      ]
    },
    {
      "cell_type": "markdown",
      "metadata": {},
      "source": [
        "### Powłoka, interpreter, środowiska"
      ]
    },
    {
      "cell_type": "code",
      "execution_count": 1,
      "metadata": {
        "trusted": true
      },
      "outputs": [
        {
          "name": "stdout",
          "output_type": "stream",
          "text": [
            "Pierwszy skrypt\n"
          ]
        }
      ],
      "source": [
        "# Funkcja print()\n",
        "print(\"Pierwszy skrypt\")"
      ]
    },
    {
      "cell_type": "code",
      "execution_count": 2,
      "metadata": {
        "trusted": true
      },
      "outputs": [
        {
          "name": "stdout",
          "output_type": "stream",
          "text": [
            "python3 ./skrypt.py\n"
          ]
        }
      ],
      "source": [
        "# Linia poleceń\n",
        "print(\"python3 ./skrypt.py\")"
      ]
    },
    {
      "cell_type": "code",
      "execution_count": 3,
      "metadata": {
        "trusted": true
      },
      "outputs": [
        {
          "name": "stdout",
          "output_type": "stream",
          "text": [
            "chmod +x skrypt.py\n"
          ]
        }
      ],
      "source": [
        "# Przed uruchomieniem należy nadać plikowi skrypt.py odpowiednie uprawnienia:\n",
        "print(\"chmod +x skrypt.py\")"
      ]
    },
    {
      "cell_type": "code",
      "execution_count": 4,
      "metadata": {
        "trusted": true
      },
      "outputs": [
        {
          "name": "stdout",
          "output_type": "stream",
          "text": [
            "pip3 install jupyter\n"
          ]
        }
      ],
      "source": [
        "# Środowisko Jupyter, wymagające wcześniejszego zainstalowania\n",
        "print(\"pip3 install jupyter\")"
      ]
    },
    {
      "cell_type": "markdown",
      "metadata": {},
      "source": [
        "### Typy liczbowe"
      ]
    },
    {
      "cell_type": "code",
      "execution_count": 5,
      "metadata": {
        "trusted": true
      },
      "outputs": [
        {
          "name": "stdout",
          "output_type": "stream",
          "text": [
            "type(x): <class 'int'>\n",
            "type(y): <class 'float'>\n"
          ]
        }
      ],
      "source": [
        "# Utworzenie zmiennych\n",
        "x = 2    # X typu int\n",
        "y = 2.0  # Y typu float\n",
        "# Wyświetlenie typów zmiennych x i y\n",
        "print(f\"type(x): {type(x)}\")\n",
        "print(f\"type(y): {type(y)}\")"
      ]
    },
    {
      "attachments": {},
      "cell_type": "markdown",
      "metadata": {},
      "source": [
        "### Trzy typy liczbowe: integer, float i complex"
      ]
    },
    {
      "cell_type": "code",
      "execution_count": 6,
      "metadata": {
        "trusted": true
      },
      "outputs": [
        {
          "name": "stdout",
          "output_type": "stream",
          "text": [
            "Działania na typach liczbowych:\n",
            "a += b  ⇔ a = a + b\n",
            "a -= b  ⇔ a = a - b\n",
            "a *= b  ⇔ a = a * b\n",
            "a /= b  ⇔ a = a / b\n",
            "a //= b ⇔ a = a // b\n",
            "a %= b  ⇔ a = a % b\n",
            "a **= b ⇔ a = a ** b\n"
          ]
        }
      ],
      "source": [
        "# Wyświetlenie działań na typach liczbowych\n",
        "print(\"Działania na typach liczbowych:\")\n",
        "print(\"a += b  ⇔ a = a + b\")\n",
        "print(\"a -= b  ⇔ a = a - b\")\n",
        "print(\"a *= b  ⇔ a = a * b\")\n",
        "print(\"a /= b  ⇔ a = a / b\")\n",
        "print(\"a //= b ⇔ a = a // b\")\n",
        "print(\"a %= b  ⇔ a = a % b\")\n",
        "print(\"a **= b ⇔ a = a ** b\")"
      ]
    },
    {
      "attachments": {},
      "cell_type": "markdown",
      "metadata": {},
      "source": [
        "### Operatory rzutowania na typy"
      ]
    },
    {
      "cell_type": "code",
      "execution_count": 7,
      "metadata": {
        "trusted": true
      },
      "outputs": [
        {
          "name": "stdout",
          "output_type": "stream",
          "text": [
            "Operatory rzutowania na typy:\n",
            "float(x): 2.0\n",
            "int(y):   2\n"
          ]
        }
      ],
      "source": [
        "# Wyświetlanie operatorów rzutowania\n",
        "print(\"Operatory rzutowania na typy:\")\n",
        "x = 2    # X typu int\n",
        "y = 2.0  # Y typu float\n",
        "# Wyświetlenie zmiennych x i y rzutowanych na odpowiednio float oraz int\n",
        "print(f\"float(x): {float(x)}\")\n",
        "print(f\"int(y):   {int(y)}\")"
      ]
    },
    {
      "cell_type": "markdown",
      "metadata": {},
      "source": [
        "### Typy sekwencyjne"
      ]
    },
    {
      "cell_type": "code",
      "execution_count": 8,
      "metadata": {
        "trusted": true
      },
      "outputs": [
        {
          "name": "stdout",
          "output_type": "stream",
          "text": [
            "4 Typy sekwencyjne:\n",
            "Napis (string):               'Ala ma kota'\n",
            "Łańcuch bajtów (byte string): b'Ala ma kota'\n",
            "Lista:                        [1, 2, 'a']\n",
            "Krotka (tupple):              (1, 2, 3)\n"
          ]
        }
      ],
      "source": [
        "# Wyświetlenie typów sekwencyjnych\n",
        "print(\"4 Typy sekwencyjne:\")\n",
        "\n",
        "# String - łańcuch znaków\n",
        "string = 'Ala ma kota'\n",
        "# Byte string = bajtowy łańcuch znaków\n",
        "byte_string = b'Ala ma kota'\n",
        "# List - lista\n",
        "list = [1, 2, \"a\"]\n",
        "# Tuple - krotka\n",
        "tuple = (1, 2, 3)\n",
        "\n",
        "# Wyświetlenie wszystkich typów sekwencyjnych\n",
        "print(f\"Napis (string):               '{string}'\")\n",
        "print(f\"Łańcuch bajtów (byte string): {byte_string}\")\n",
        "print(f\"Lista:                        {list}\")\n",
        "print(f\"Krotka (tupple):              {tuple}\")"
      ]
    },
    {
      "attachments": {},
      "cell_type": "markdown",
      "metadata": {},
      "source": [
        "### Wspólne operacje dla typów sekwencyjnych"
      ]
    },
    {
      "cell_type": "code",
      "execution_count": 9,
      "metadata": {
        "trusted": true
      },
      "outputs": [
        {
          "name": "stdout",
          "output_type": "stream",
          "text": [
            "Wspólne operacje dla typów sekwencyjnych:\n",
            "- indeksowanie: s[n],\n",
            "- wycinki: s[x:y:z], x - początek wycinka, y - koniec wycinka, z - co który element (możliwe są wartości ujemne i puste miejsca)\n",
            "- mnożenie przez liczbę, sprawdź 3 * 'ala' lub 3 * [1,2,3]\n",
            "- dodawanie (konkatenacja): 'ab' + bc lub [1, 2] + [3, 2]\n",
            "- operator zawierania in: 'a' in 'Ala ma kota'\n",
            "- długość len(s)\n",
            "- elementy minimalne i maksymalne nim(s) i max(s)\n",
            "- wyszukiwanie pierwszego indeksu: s.index('a')\n",
            "- zliczanie elementów: s.count('a')\n"
          ]
        }
      ],
      "source": [
        "# Wyświetlenie wspólnych operacji dla typów sekwencyjnych\n",
        "print(\"Wspólne operacje dla typów sekwencyjnych:\")\n",
        "print(\"- indeksowanie: s[n],\")\n",
        "print(\"- wycinki: s[x:y:z], x - początek wycinka, y - koniec wycinka, z - co który element (możliwe są wartości ujemne i puste miejsca)\")\n",
        "print(\"- mnożenie przez liczbę, sprawdź 3 * 'ala' lub 3 * [1,2,3]\")\n",
        "print(\"- dodawanie (konkatenacja): 'ab' + bc lub [1, 2] + [3, 2]\")\n",
        "print(\"- operator zawierania in: 'a' in 'Ala ma kota'\")\n",
        "print(\"- długość len(s)\")\n",
        "print(\"- elementy minimalne i maksymalne nim(s) i max(s)\")\n",
        "print(\"- wyszukiwanie pierwszego indeksu: s.index('a')\")\n",
        "print(\"- zliczanie elementów: s.count('a')\")"
      ]
    },
    {
      "cell_type": "markdown",
      "metadata": {},
      "source": [
        "### Znaki ucieczki"
      ]
    },
    {
      "cell_type": "code",
      "execution_count": 10,
      "metadata": {
        "trusted": true
      },
      "outputs": [
        {
          "name": "stdout",
          "output_type": "stream",
          "text": [
            "Znaki ucieczki:\n",
            "- \\\n",
            "- \\' - konieczne przy ograniczeniach ' lub '''\n",
            "- \\\" - podobnie jak wyżej\n",
            "- \\n - nowa linia\n",
            "- \\t - tabulacja pozioma\n",
            "- \\v - tabulacja pionowa\n",
            "- \\xab - znak ASCII zapisany w systemie szesnastkowym\n",
            "- r\\ - \\ nie jest znakiem ucieczki\n"
          ]
        }
      ],
      "source": [
        "# Wyświetlenie znaków ucieczki\n",
        "print(\"Znaki ucieczki:\")\n",
        "print(\"- \\\\\")\n",
        "print(\"- \\\\' - konieczne przy ograniczeniach ' lub '''\")\n",
        "print('- \\\\\" - podobnie jak wyżej')\n",
        "print(\"- \\\\n - nowa linia\")\n",
        "print(\"- \\\\t - tabulacja pozioma\")\n",
        "print(\"- \\\\v - tabulacja pionowa\")\n",
        "print(\"- \\\\xab - znak ASCII zapisany w systemie szesnastkowym\")\n",
        "print(\"- r\\ - \\ nie jest znakiem ucieczki\")"
      ]
    },
    {
      "cell_type": "markdown",
      "metadata": {},
      "source": [
        "### Wybrane metody typu str"
      ]
    },
    {
      "cell_type": "code",
      "execution_count": 11,
      "metadata": {
        "trusted": true
      },
      "outputs": [
        {
          "name": "stdout",
          "output_type": "stream",
          "text": [
            "Wybrane metody typu string:\n",
            "- split(), rsplit() - rozdzielanie łańcuchów znaków\n",
            "- startswith(), enswith() - czy łańcuch zaczyna się lub kończy od podłańcucha,\n",
            "- isalpha(), isdigit(), isalum() - tylko litery, cyfry, znaki alfanumeryczne,\n",
            "- strip(), rstrip(), lstrip() - usuwa białe znaki,\n",
            "- replace() - zastępuje podciąg innym, można podać ilość zastąpień,\n",
            "- chr() i ord() - zwracają znaki lub kody ASCII.\n"
          ]
        }
      ],
      "source": [
        "# Wyświetlenie wybranych metod dla typu string\n",
        "print(\"Wybrane metody typu string:\")\n",
        "print(\"- split(), rsplit() - rozdzielanie łańcuchów znaków\")\n",
        "print(\"- startswith(), enswith() - czy łańcuch zaczyna się lub kończy od podłańcucha,\")\n",
        "print(\"- isalpha(), isdigit(), isalum() - tylko litery, cyfry, znaki alfanumeryczne,\")\n",
        "print(\"- strip(), rstrip(), lstrip() - usuwa białe znaki,\")\n",
        "print(\"- replace() - zastępuje podciąg innym, można podać ilość zastąpień,\")\n",
        "print(\"- chr() i ord() - zwracają znaki lub kody ASCII.\")"
      ]
    },
    {
      "attachments": {},
      "cell_type": "markdown",
      "metadata": {},
      "source": [
        "### Przykłady funkcji split()"
      ]
    },
    {
      "cell_type": "code",
      "execution_count": 12,
      "metadata": {
        "trusted": true
      },
      "outputs": [
        {
          "name": "stdout",
          "output_type": "stream",
          "text": [
            "Przykłady użycia funkcji split():\n",
            "'a1a2a3aa4aaa5a'.split('a'):     ['', '1', '2', '3', '', '4', '', '', '5', '']\n",
            "'a1a2a3aa4aaa5a'split('a', 2):   ['', '1', '2a3aa4aaa5a']\n",
            "'a1a2a3aa4aaa5a'.rsplit('a', 2): ['a1a2a3aa4aa', '5', '']\n"
          ]
        }
      ],
      "source": [
        "# Wyświetlenie przykładów użycia funkcji split()\n",
        "print(\"Przykłady użycia funkcji split():\")\n",
        "print(f\"'a1a2a3aa4aaa5a'.split('a'):     {'a1a2a3aa4aaa5a'.split('a')}\")\n",
        "print(f\"'a1a2a3aa4aaa5a'split('a', 2):   {'a1a2a3aa4aaa5a'.split('a', 2)}\")\n",
        "print(f\"'a1a2a3aa4aaa5a'.rsplit('a', 2): {'a1a2a3aa4aaa5a'.rsplit('a', 2)}\")"
      ]
    },
    {
      "cell_type": "markdown",
      "metadata": {},
      "source": [
        "### Problem płytkiej kopii"
      ]
    },
    {
      "cell_type": "code",
      "execution_count": 13,
      "metadata": {
        "trusted": true
      },
      "outputs": [
        {
          "name": "stdout",
          "output_type": "stream",
          "text": [
            "Lista x: [1, 2, 3]\n",
            "Lista y: [1, 2, 3]\n",
            "Lista y po zmianie elementu pod indeksem 1 w liście x: [1, 'a', 3]\n"
          ]
        }
      ],
      "source": [
        "# Utworzenie listy x\n",
        "x = [1, 2, 3]\n",
        "\n",
        "# Wyświetlenie listy x\n",
        "print(f\"Lista x: {x}\")\n",
        "\n",
        "# Utworzenie płytkiej kopii x jako y\n",
        "y = x\n",
        "# Wyświetlenie listy y\n",
        "print(f\"Lista y: {y}\")\n",
        "\n",
        "# Zamiana elementu pod indeksem 1 na 'a'\n",
        "x[1] = 'a'\n",
        "# Wyświetlenie list y po zmianie elementu pod indeksem 1 w liście x\n",
        "print(f\"Lista y po zmianie elementu pod indeksem 1 w liście x: {y}\")"
      ]
    },
    {
      "attachments": {},
      "cell_type": "markdown",
      "metadata": {},
      "source": [
        "### Rozwiązanie problemu płtykiej kopii"
      ]
    },
    {
      "cell_type": "code",
      "execution_count": 14,
      "metadata": {
        "trusted": true
      },
      "outputs": [
        {
          "name": "stdout",
          "output_type": "stream",
          "text": [
            "y = x[:] - tworzymy nowa listę a nie dowiązanie!\n"
          ]
        }
      ],
      "source": [
        "# Rozwiązanie problemu płykiej kopii\n",
        "y = x[:]\n",
        "# Wyświetlenie rozwiązania problemu płytkiej kopii\n",
        "print(\"y = x[:] - tworzymy nowa listę a nie dowiązanie!\")"
      ]
    },
    {
      "cell_type": "markdown",
      "metadata": {},
      "source": [
        "### Krotki"
      ]
    },
    {
      "cell_type": "code",
      "execution_count": 15,
      "metadata": {
        "trusted": true
      },
      "outputs": [
        {
          "name": "stdout",
          "output_type": "stream",
          "text": [
            "Krotki (tuples) to listy o ustalonej długości i wartościach elementów.\n",
            "Owoce:    ('gruszki', 'banany', 'jablka')\n",
            "Zielony:  gruszki\n",
            "Zółty:    banany\n",
            "Czerwony: jablka\n"
          ]
        }
      ],
      "source": [
        "# Wyświetlenie definicji krotek\n",
        "print(\"Krotki (tuples) to listy o ustalonej długości i wartościach elementów.\")\n",
        "# Utworzenie nowej krotki owoców\n",
        "owoce = ('gruszki', 'banany', 'jablka')\n",
        "# Ustawienie wartości kolorów dla podanych owocó\n",
        "(zielony, zolty, czerwony) = owoce\n",
        "# Wyświetlenie kluczy krotki dla podanych wartości\n",
        "print(f\"Owoce:    {owoce}\")\n",
        "print(f\"Zielony:  {zielony}\")\n",
        "print(f\"Zółty:    {zolty}\")\n",
        "print(f\"Czerwony: {czerwony}\")"
      ]
    },
    {
      "cell_type": "markdown",
      "metadata": {},
      "source": [
        "### Instrukcje warunkowe"
      ]
    },
    {
      "cell_type": "code",
      "execution_count": 16,
      "metadata": {
        "trusted": true
      },
      "outputs": [
        {
          "name": "stdout",
          "output_type": "stream",
          "text": [
            "Instrukcje warunkowe:\n",
            "- if:\n",
            "   Prawda!\n",
            "- if, else:\n",
            "   Fałsz!\n"
          ]
        }
      ],
      "source": [
        "# Wyświetlenie działania instrukcji warunkowych\n",
        "print(\"Instrukcje warunkowe:\")\n",
        "# Instrukcja warunkowa if\n",
        "print(\"- if:\")\n",
        "\n",
        "# Jeśli prawda\n",
        "if True:\n",
        "    # Wyświetl 'Prawda!'\n",
        "    print(\"   Prawda!\")\n",
        "\n",
        "# Ustaw zmienną x jako Fałsz\n",
        "x = False\n",
        "\n",
        "# Instrukcja warunkowa if\n",
        "print(\"- if, else:\")\n",
        "\n",
        "# Jeśli x to prawda\n",
        "if x:\n",
        "    # Wyświetl 'Prawda!'\n",
        "    print(\"   Prawda!\")\n",
        "# W przeciwnym przypadku\n",
        "else:\n",
        "    # Wyświetl 'Fałsz!'\n",
        "    print(\"   Fałsz!\")"
      ]
    },
    {
      "cell_type": "markdown",
      "metadata": {},
      "source": [
        "### Operatory"
      ]
    },
    {
      "cell_type": "code",
      "execution_count": 17,
      "metadata": {
        "trusted": true
      },
      "outputs": [
        {
          "name": "stdout",
          "output_type": "stream",
          "text": [
            "Operatory w języku Python:\n",
            "- ==,\n",
            "- !=,\n",
            "- <=,\n",
            "- >=,\n",
            "- <,\n",
            "- >,\n"
          ]
        }
      ],
      "source": [
        "# Wyświetlenie operatorów w języku Python\n",
        "print(\"Operatory w języku Python:\")\n",
        "print(\"- ==,\")\n",
        "print(\"- !=,\")\n",
        "print(\"- <=,\")\n",
        "print(\"- >=,\")\n",
        "print(\"- <,\")\n",
        "print(\"- >,\")"
      ]
    },
    {
      "cell_type": "markdown",
      "metadata": {},
      "source": [
        "### Kwantyfikatory"
      ]
    },
    {
      "cell_type": "code",
      "execution_count": 18,
      "metadata": {
        "trusted": true
      },
      "outputs": [
        {
          "name": "stdout",
          "output_type": "stream",
          "text": [
            "Kwantyfikatory:\n",
            "- all()\n",
            "- any()\n",
            "list: [True, False, False]\n",
            "all(list): False\n",
            "any(list): True\n"
          ]
        }
      ],
      "source": [
        "# Komendy all() oraz any()\n",
        "print(\"Kwantyfikatory:\")\n",
        "print(\"- all()\")\n",
        "print(\"- any()\")\n",
        "\n",
        "# Utworzenie listy prawdy i fałszu\n",
        "list = [True, False, False]\n",
        "\n",
        "# Wyświtlenie listy\n",
        "print(f\"list: {list}\")\n",
        "\n",
        "# Wyświetlenie funkcji all() na liście\n",
        "print(f\"all(list): {all(list)}\")\n",
        "\n",
        "# Wyświetlenie funkcji any() na liście\n",
        "print(f\"any(list): {any(list)}\")"
      ]
    },
    {
      "cell_type": "markdown",
      "metadata": {},
      "source": [
        "### Operator zwierania - in"
      ]
    },
    {
      "cell_type": "code",
      "execution_count": 19,
      "metadata": {
        "trusted": true
      },
      "outputs": [
        {
          "name": "stdout",
          "output_type": "stream",
          "text": [
            "x(1) jest w liście: [1, 2, 3, 4]\n"
          ]
        }
      ],
      "source": [
        "# Utworzenie listy liczb\n",
        "list = [1, 2, 3, 4]\n",
        "\n",
        "# Utworzenie zmiennej x\n",
        "x = 1\n",
        "\n",
        "# Jeśli x jest w liście\n",
        "if x in list:\n",
        "    # Wyświetl odpowiedni komunikat\n",
        "    print(f\"x({x}) jest w liście: {list}\")"
      ]
    },
    {
      "attachments": {},
      "cell_type": "markdown",
      "metadata": {},
      "source": [
        "### Trójargumentowy operator logiczny"
      ]
    },
    {
      "cell_type": "code",
      "execution_count": 20,
      "metadata": {
        "trusted": true
      },
      "outputs": [
        {
          "name": "stdout",
          "output_type": "stream",
          "text": [
            "x = A if B else C\n",
            "B warunek logiczny\n",
            "A i C to wartości\n"
          ]
        }
      ],
      "source": [
        "# Wyświetlenie trójargumentowych operatorów logicznych\n",
        "print(\"x = A if B else C\")\n",
        "# Wyświetlenie warunku logicznego B\n",
        "print(\"B warunek logiczny\")\n",
        "# Wyświetlenie wartości\n",
        "print(\"A i C to wartości\")"
      ]
    },
    {
      "cell_type": "markdown",
      "metadata": {},
      "source": [
        "### Pętle for i while"
      ]
    },
    {
      "cell_type": "code",
      "execution_count": 21,
      "metadata": {
        "trusted": true
      },
      "outputs": [
        {
          "name": "stdout",
          "output_type": "stream",
          "text": [
            "Pętla for:\n",
            "Ala ma kota\n",
            "Pętla while:\n",
            "Ala ma kot"
          ]
        }
      ],
      "source": [
        "# Wyświetlenie komunikatu o pętli for\n",
        "print(\"Pętla for:\")\n",
        "\n",
        "# Utworzenie zmiennej string\n",
        "string = \"Ala ma kota\"\n",
        "\n",
        "# Dla każdego znaku w łańcuchu znaków string\n",
        "for char in string:\n",
        "    # Wyświetl znak w łańcuchu znaków\n",
        "    print(char, end=\"\")\n",
        "\n",
        "# Wyświetlenie komunikatu o pętli while\n",
        "print(\"\\nPętla while:\")\n",
        "\n",
        "# Utworzenie licznika\n",
        "number = 0\n",
        "\n",
        "# Dopóki number jest mniejsze niż długość łańcuchu znaków string\n",
        "while number != (len(string) - 1):\n",
        "    # Wyświetl łańcuch znaków string od indeksu number\n",
        "    print(string[number], end=\"\")\n",
        "    # Inkremenmtuj licznik\n",
        "    number += 1"
      ]
    }
  ],
  "metadata": {
    "kernelspec": {
      "display_name": "Python 3 (ipykernel)",
      "language": "python",
      "name": "python3"
    },
    "language_info": {
      "codemirror_mode": {
        "name": "ipython",
        "version": 3
      },
      "file_extension": ".py",
      "mimetype": "text/x-python",
      "name": "python",
      "nbconvert_exporter": "python",
      "pygments_lexer": "ipython3",
      "version": "3.10.4"
    }
  },
  "nbformat": 4,
  "nbformat_minor": 4
}
