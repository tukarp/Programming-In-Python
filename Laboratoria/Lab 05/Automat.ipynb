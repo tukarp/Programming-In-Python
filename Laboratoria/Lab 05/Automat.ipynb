{
  "metadata": {
    "language_info": {
      "codemirror_mode": {
        "name": "python",
        "version": 3
      },
      "file_extension": ".py",
      "mimetype": "text/x-python",
      "name": "python",
      "nbconvert_exporter": "python",
      "pygments_lexer": "ipython3",
      "version": "3.8"
    },
    "kernelspec": {
      "name": "python",
      "display_name": "Python (Pyodide)",
      "language": "python"
    }
  },
  "nbformat_minor": 4,
  "nbformat": 4,
  "cells": [
    {
      "cell_type": "code",
      "source": "# Zadanie - Automaty\n# Reguła - rule 90\n# Dane:\n# - rule - ciąg binarny,\n# - n - długość ciągu,\n# - k - liczba kroków,\n# - plik - nazwa pliku z wynikami,\n\n# Nazwy plików\nresult_file_name = \"automat.txt\"\n\n# Wprowadzenie danych\nrule = int(\"01011010\", 2)   # Regula\nn = 60                      # Dlugosc ciagu\nk = 30                      # Liczba krokow\n\n# Tworzenie slownika do zastosowania reguly\nchars = [\"*\", \"_\"]\npredict = [\"***\",\"**_\",\"*_*\",\"*__\",\"_**\",\"_*_\",\"__*\",\"___\"]\nprerule = [\"_\"*int(i=='0') + \"*\"*int(i=='1') for i in str(bin(rule))[2:].zfill(8)]\nautomat = {key: value for (key, value) in zip(predict, prerule)}\n\n# Zmienne do zapisania wyników\nrandom_string = \"\"\nresult = \"\"\n\n# Rozwiązanie\nimport random\n\nfor i in range(n):\n    random_string += random.choice(chars)\n\nfor i in range(k):\n    result += automat[\"\".join([random_string[-1], random_string[i], random_string[1]])]\n    for i in range(1, n - 1):\n        result += automat[random_string[i - 1:i + 2]]\n    result += automat[\"\".join([random_string[-2], random_string[-1], random_string[0]])]\n\n# Wyświetlenie odpowiedzi\nprint(f\"Reguła: {rule}\")\nprint(f\"Dlugosc ciagu: {n}\")\nprint(f\"Liczba Kroków: {k}\")\nprint(f\"Wynik: \\n {result}\")\n\n# Zapis wyników do pliku\nfile = open(result_file_name, \"w\")\nfile.write(f\"Reguła: {rule}\\n\")\nfile.write(f\"Dlugosc ciagu: {n}\\n\")\nfile.write(f\"Liczba Kroków: {k}\\n\")\nfile.write(f\"Wynik: \\n {result}\\n\")\nfile.close()",
      "metadata": {
        "trusted": true
      },
      "execution_count": 31,
      "outputs": [
        {
          "name": "stdout",
          "text": "Reguła: 90\nDlugosc ciagu: 60\nLiczba Kroków: 30\nWynik: \n *___*____*****__*____*___*_**___***_**___**_*___**____**__***___*____*****__*____*___*_**___***_**___**_*___**____**__***___*____*****__*____*___*_**___***_**___**_*___**____**__***___*____*****__*____*___*_**___***_**___**_*___**____**__***___*____*****__*____*___*_**___***_**___**_*___**____**__***___*____*****__*____*___*_**___***_**___**_*___**____**__***___*____*****__*____*___*_**___***_**___**_*___**____**__***___*____*****__*____*___*_**___***_**___**_*___**____**__***___*____*****__*____*___*_**___***_**___**_*___**____**__***___*____*****__*____*___*_**___***_**___**_*___**____**__***___*____*****__*____*___*_**___***_**___**_*___**____**__***___*____*****__*____*___*_**___***_**___**_*___**____**__***___*____*****__*____*___*_**___***_**___**_*___**____**__***___*____*****__*____*___*_**___***_**___**_*___**____**__***___*____*****__*____*___*_**___***_**___**_*___**____**__***___*____*****__*____*___*_**___***_**___**_*___**____**__***___*____*****__*____*___*_**___***_**___**_*___**____**__***___*____*****__*____*___*_**___***_**___**_*___**____**__***___*____*****__*____*___*_**___***_**___**_*___**____**__***___*____*****__*____*___*_**___***_**___**_*___**____**__***___*____*****__*____*___*_**___***_**___**_*___**____**__***___*____*****__*____*___*_**___***_**___**_*___**____**__***___*____*****__*____*___*_**___***_**___**_*___**____**__***___*____*****__*____*___*_**___***_**___**_*___**____**__***___*____*****__*____*___*_**___***_**___**_*___**____**__***___*____*****__*____*___*_**___***_**___**_*___**____**__***___*____*****__*____*___*_**___***_**___**_*___**____**__***___*____*****__*____*___*_**___***_**___**_*___**____**__***___*____*****__*____*___*_**___***_**___**_*___**____**__***___*____*****__*____*___*_**___***_**___**_*___**____**__**\n",
          "output_type": "stream"
        }
      ]
    },
    {
      "cell_type": "code",
      "source": "",
      "metadata": {},
      "execution_count": null,
      "outputs": []
    }
  ]
}