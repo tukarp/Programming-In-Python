{
  "cells": [
    {
      "attachments": {},
      "cell_type": "markdown",
      "metadata": {},
      "source": [
        "# Laboratorium 05"
      ]
    },
    {
      "cell_type": "markdown",
      "metadata": {},
      "source": [
        "## Zadanie"
      ]
    },
    {
      "cell_type": "markdown",
      "metadata": {},
      "source": [
        "### Automat\n",
        "\n",
        "Dane:\n",
        "- rule - ciąg binarny,\n",
        "- n - długość ciągu,\n",
        "- k - liczba kroków."
      ]
    },
    {
      "cell_type": "code",
      "execution_count": 1,
      "metadata": {
        "trusted": true
      },
      "outputs": [
        {
          "name": "stdout",
          "output_type": "stream",
          "text": [
            "Reguła: 90\n",
            "Dlugosc ciagu: 80\n",
            "Liczba Kroków: 30\n",
            "______________________________________*_*_______________________________________\n",
            "_____________________________________*___*______________________________________\n",
            "____________________________________*_*_*_*_____________________________________\n",
            "___________________________________*_______*____________________________________\n",
            "__________________________________*_*_____*_*___________________________________\n",
            "_________________________________*___*___*___*__________________________________\n",
            "________________________________*_*_*_*_*_*_*_*_________________________________\n",
            "_______________________________*_______________*________________________________\n",
            "______________________________*_*_____________*_*_______________________________\n",
            "_____________________________*___*___________*___*______________________________\n",
            "____________________________*_*_*_*_________*_*_*_*_____________________________\n",
            "___________________________*_______*_______*_______*____________________________\n",
            "__________________________*_*_____*_*_____*_*_____*_*___________________________\n",
            "_________________________*___*___*___*___*___*___*___*__________________________\n",
            "________________________*_*_*_*_*_*_*_*_*_*_*_*_*_*_*_*_________________________\n",
            "_______________________*_______________________________*________________________\n",
            "______________________*_*_____________________________*_*_______________________\n",
            "_____________________*___*___________________________*___*______________________\n",
            "____________________*_*_*_*_________________________*_*_*_*_____________________\n",
            "___________________*_______*_______________________*_______*____________________\n",
            "__________________*_*_____*_*_____________________*_*_____*_*___________________\n",
            "_________________*___*___*___*___________________*___*___*___*__________________\n",
            "________________*_*_*_*_*_*_*_*_________________*_*_*_*_*_*_*_*_________________\n",
            "_______________*_______________*_______________*_______________*________________\n",
            "______________*_*_____________*_*_____________*_*_____________*_*_______________\n",
            "_____________*___*___________*___*___________*___*___________*___*______________\n",
            "____________*_*_*_*_________*_*_*_*_________*_*_*_*_________*_*_*_*_____________\n",
            "___________*_______*_______*_______*_______*_______*_______*_______*____________\n",
            "__________*_*_____*_*_____*_*_____*_*_____*_*_____*_*_____*_*_____*_*___________\n",
            "_________*___*___*___*___*___*___*___*___*___*___*___*___*___*___*___*__________\n"
          ]
        },
        {
          "name": "stderr",
          "output_type": "stream",
          "text": [
            "Bad pipe message: %s [b'\\x90\\x0b\\xee@\\x8e\\xbd\\xea\\x824\\xd4V\\xf4S\\xf9\\xfb\\xb8\\x94\\xc0 [\\xa1\\x19v\\xaa\\xac\\x8aM\\xd2\\xdc\\xcb\\x9b\\xcc\\x1a-\\xf80\\xa8\\xf4@1O\\xde\\x14\\xf3TJ,Ud7\\x16\\x00\\x08\\x13\\x02\\x13\\x03\\x13\\x01\\x00\\xff\\x01\\x00\\x00\\x8f\\x00\\x00\\x00\\x0e\\x00\\x0c\\x00\\x00\\t127.0.0.1\\x00\\x0b\\x00\\x04\\x03\\x00\\x01\\x02\\x00\\n\\x00\\x0c\\x00\\n\\x00\\x1d\\x00\\x17\\x00\\x1e\\x00\\x19\\x00\\x18\\x00#\\x00\\x00\\x00\\x16']\n",
            "Bad pipe message: %s [b'\\xb6\\xc7\\x85s\\xed4[z2\\xd4E\\x95 \\xeb\\x80\\x1a\\x8b{ |\\xcaX\\xfap\\xe3\\xa7W\\x89J\\xe4i\\x84\\xe4\\x98\\x1c\\xc4\\xcc\\xc1%m\\xa0\\xed>d\\xfdi\\xaeI%T\\xf6\\x00\\x08\\x13\\x02\\x13\\x03\\x13\\x01']\n",
            "Bad pipe message: %s [b'qA\\xba\\xc8R\\xda\\x9bN\\x04\\xe6\\xef\\xfd\\xb9\\xa7\\x91\\x00\\xa2\\x07\\x00\\x00|\\xc0,\\xc00\\x00\\xa3\\x00\\x9f\\xcc\\xa9\\xcc\\xa8\\xcc\\xaa\\xc0\\xaf\\xc0\\xad\\xc0\\xa3\\xc0\\x9f\\xc0]\\xc0a\\xc0W\\xc0S\\xc0+\\xc0/\\x00']\n",
            "Bad pipe message: %s [b\"\\x9e\\xc0\\xae\\xc0\\xac\\xc0\\xa2\\xc0\\x9e\\xc0\\\\\\xc0`\\xc0V\\xc0R\\xc0$\\xc0(\\x00k\\x00j\\xc0#\\xc0'\\x00g\\x00@\\xc0\\n\\xc0\\x14\\x009\\x008\\xc0\\t\\xc0\\x13\\x003\\x002\\x00\\x9d\\xc0\\xa1\\xc0\\x9d\\xc0Q\\x00\\x9c\\xc0\\xa0\\xc0\\x9c\\xc0P\\x00=\\x00<\\x005\\x00/\\x00\\x9a\\x00\\x99\\xc0\\x07\\xc0\\x11\\x00\\x96\\x00\\x05\\x00\\xff\\x01\\x00\\x00j\\x00\\x00\\x00\\x0e\\x00\\x0c\\x00\\x00\\t127.0.0.1\\x00\\x0b\\x00\\x04\\x03\\x00\\x01\\x02\\x00\\n\\x00\\x0c\\x00\\n\\x00\\x1d\\x00\\x17\\x00\\x1e\\x00\\x19\\x00\\x18\\x00#\\x00\\x00\\x00\\x16\\x00\\x00\\x00\\x17\\x00\\x00\\x00\\r\\x000\\x00.\\x04\\x03\\x05\\x03\\x06\\x03\\x08\\x07\\x08\\x08\"]\n",
            "Bad pipe message: %s [b'\\x08\\n\\x08\\x0b\\x08\\x04\\x08', b'\\x06\\x04\\x01\\x05']\n",
            "Bad pipe message: %s [b'']\n",
            "Bad pipe message: %s [b'', b'\\x03\\x03']\n",
            "Bad pipe message: %s [b'']\n",
            "Bad pipe message: %s [b'', b'\\x02']\n",
            "Bad pipe message: %s [b'\\x05\\x02\\x06']\n",
            "Bad pipe message: %s [b'\\x1c\\x1d\\x90\\xce%\\xc3\\xf4\\xc0\\xd2\\xab\\xf3K\\xb3hN\\x9a\\xf0\\xfd\\x00\\x00>\\xc0\\x14\\xc0\\n\\x009\\x008\\x007\\x006\\xc0\\x0f\\xc0\\x05\\x005\\xc0\\x13\\xc0\\t\\x003\\x002\\x001\\x000\\xc0\\x0e\\xc0\\x04\\x00/\\x00\\x9a\\x00\\x99\\x00\\x98\\x00\\x97\\x00\\x96\\x00\\x07\\xc0\\x11']\n",
            "Bad pipe message: %s [b'>MlHFZH\\xbdxn\\x1eKI\\xfe\\x89\\xc8\\x9f.\\x00\\x00\\xa2\\xc0\\x14\\xc0\\n\\x009\\x008\\x007\\x006\\x00\\x88\\x00\\x87\\x00\\x86\\x00\\x85\\xc0\\x19\\x00:\\x00\\x89\\xc0\\x0f\\xc0\\x05\\x005\\x00\\x84\\xc0\\x13\\xc0\\t\\x003\\x002\\x001\\x000\\x00\\x9a\\x00\\x99\\x00\\x98\\x00\\x97\\x00E\\x00D\\x00C\\x00B\\xc0\\x18\\x004\\x00\\x9b\\x00F\\xc0\\x0e\\xc0\\x04\\x00/\\x00\\x96\\x00A\\x00\\x07\\xc0\\x11\\xc0\\x07\\xc0\\x16\\x00\\x18\\xc0\\x0c\\xc0\\x02\\x00\\x05\\x00\\x04\\xc0\\x12\\xc0\\x08\\x00\\x16\\x00\\x13\\x00\\x10\\x00\\r\\xc0\\x17\\x00']\n",
            "Bad pipe message: %s [b'\\r\\xc0\\x03\\x00\\n\\x00\\x15\\x00\\x12\\x00\\x0f\\x00\\x0c\\x00\\x1a\\x00\\t\\x00\\x14\\x00\\x11\\x00\\x19\\x00\\x08\\x00']\n",
            "Bad pipe message: %s [b'\\x17\\x00\\x03\\xc0\\x10']\n",
            "Bad pipe message: %s [b'-i\\xd1\\x16\\xff1\\x12/Nu?\\xa1\\xb1\\x80FO\\xe9\\x98\\x00\\x00>\\xc0\\x14\\xc0\\n\\x009\\x008\\x007\\x006\\xc0\\x0f\\xc0\\x05\\x005\\xc0\\x13\\xc0\\t\\x003\\x002\\x001\\x000\\xc0\\x0e\\xc0\\x04\\x00/\\x00\\x9a\\x00\\x99\\x00\\x98\\x00\\x97\\x00\\x96\\x00\\x07\\xc0\\x11\\xc0\\x07\\xc0\\x0c\\xc0\\x02\\x00\\x05\\x00\\x04\\x00\\xff\\x02\\x01\\x00\\x00C\\x00\\x00\\x00\\x0e\\x00\\x0c\\x00\\x00\\t127.0.0.1\\x00\\x0b']\n",
            "Bad pipe message: %s [b'\\xd8\\xb0\\xcf=\\xba\\xc6\\x8d\\xf3\\x9c\\x88\\x14\\x1dV.8\\x10\\xa7V']\n",
            "Bad pipe message: %s [b'z{uf\\xcb37\\rF\\x95\\x9f\\x88\\xd5\\xed\\xb6\\xd8 \\xbe\\x00\\x00\\xa2\\xc0\\x14\\xc0\\n\\x009\\x008\\x007\\x006\\x00\\x88\\x00\\x87\\x00\\x86\\x00\\x85\\xc0\\x19\\x00:\\x00\\x89\\xc0\\x0f\\xc0\\x05\\x005\\x00\\x84\\xc0\\x13\\xc0\\t\\x003\\x002\\x001\\x000\\x00\\x9a\\x00\\x99\\x00\\x98\\x00\\x97\\x00E\\x00D\\x00C\\x00B\\xc0\\x18\\x004\\x00\\x9b\\x00F\\xc0\\x0e\\xc0\\x04\\x00/\\x00\\x96\\x00A\\x00\\x07\\xc0\\x11\\xc0\\x07\\xc0\\x16\\x00\\x18\\xc0\\x0c\\xc0\\x02\\x00\\x05\\x00']\n",
            "Bad pipe message: %s [b'\\x12\\xc0\\x08']\n",
            "Bad pipe message: %s [b'\\xe6\\xafr\\x98r\\xf6\\x044\\xd0M\\xacF\\xef\\xb8)\\xfb\\xd38\\x00']\n",
            "Bad pipe message: %s [b\"\\xa8\\xae\\t\\xf8@\\r\\x82\\xcc OD2F\\x00\\xdc\\x0b\\xb9?\\x00\\x00\\xf4\\xc00\\xc0,\\xc0(\\xc0$\\xc0\\x14\\xc0\\n\\x00\\xa5\\x00\\xa3\\x00\\xa1\\x00\\x9f\\x00k\\x00j\\x00i\\x00h\\x009\\x008\\x007\\x006\\x00\\x88\\x00\\x87\\x00\\x86\\x00\\x85\\xc0\\x19\\x00\\xa7\\x00m\\x00:\\x00\\x89\\xc02\\xc0.\\xc0*\\xc0&\\xc0\\x0f\\xc0\\x05\\x00\\x9d\\x00=\\x005\\x00\\x84\\xc0/\\xc0+\\xc0'\\xc0#\\xc0\", b'\\t\\x00\\xa4\\x00\\xa2\\x00\\xa0\\x00\\x9e\\x00g\\x00@\\x00?\\x00>\\x00']\n",
            "Bad pipe message: %s [b'2\\x001\\x000\\x00\\x9a\\x00\\x99\\x00\\x98\\x00\\x97\\x00E\\x00D\\x00C\\x00B\\xc0\\x18\\x00\\xa6\\x00l\\x004\\x00\\x9b\\x00F\\xc01\\xc0-\\xc0)\\xc0%\\xc0\\x0e\\xc0\\x04\\x00\\x9c\\x00<\\x00']\n",
            "Bad pipe message: %s [b'\\x96\\x00A\\x00\\x07\\xc0\\x11\\xc0\\x07\\xc0\\x16\\x00\\x18\\xc0\\x0c\\xc0\\x02\\x00\\x05\\x00\\x04\\xc0\\x12\\xc0\\x08\\x00\\x16\\x00\\x13\\x00\\x10\\x00\\r\\xc0\\x17\\x00\\x1b\\xc0\\r\\xc0\\x03\\x00\\n\\x00\\x15\\x00']\n",
            "Bad pipe message: %s [b'\\x0f\\x00\\x0c\\x00\\x1a\\x00\\t\\x00\\x14\\x00\\x11\\x00\\x19\\x00\\x08\\x00\\x06']\n"
          ]
        }
      ],
      "source": [
        "# Rozwiązanie\n",
        "import random\n",
        "\n",
        "# Wprowadzenie danych\n",
        "rule = int(\"01011010\", 2)   # Reguła\n",
        "n = 80                      # Długość ciągu\n",
        "k = 30                      # Liczba kroków\n",
        "\n",
        "# Utworzenie słownika do zastosowania podanej reguły\n",
        "chars = [\"*\", \"_\"]  # Utworzenie listy znaków\n",
        "predict = [\"***\", \"**_\", \"*_*\", \"*__\", \"_**\", \"_*_\", \"__*\", \"___\"]  # Utworzenie listy predykatów\n",
        "prerule = [\"_\" * int(i=='0') + \"*\" * int(i=='1') for i in str(bin(rule))[2:].zfill(8)]  ## Utworzenie listy zasad początkowych\n",
        "automat = {key: value for (key, value) in zip(predict, prerule)}  # Utworzenie automatu łączącego wartości\n",
        "\n",
        "# Wyświetlenie wprowadzonych danych\n",
        "print(f\"Reguła: {rule}\")\n",
        "print(f\"Dlugosc ciagu: {n}\")\n",
        "print(f\"Liczba Kroków: {k}\")\n",
        "\n",
        "# Zaalokowanie zmiennych\n",
        "current_value = \"\"\n",
        "result = \"\"\n",
        "\n",
        "# Wylosowanie znaków\n",
        "for i in range(n):\n",
        "    # Dodaj do wyniku losowy znak\n",
        "    result += random.choice(chars)\n",
        "\n",
        "# Ustawienie result w środku\n",
        "result = 39 * '_' + '*' + 40 * '_'\n",
        "\n",
        "# Pętla automatu\n",
        "for i in range(k):\n",
        "    # Obecna wartość\n",
        "    current_value = \"\"\n",
        "    \n",
        "    # Obliczanie wartości automatu\n",
        "    current_value += automat[\"\".join([result[-1], result[0], result[1]])]\n",
        "    for i in range(1, n - 1):\n",
        "        current_value += automat[result[i - 1:i + 2]]\n",
        "    current_value += automat[\"\".join([result[-2], result[-1], result[0]])]\n",
        "    \n",
        "    # Przypisanie wartości do wyniku\n",
        "    result = current_value\n",
        "\n",
        "    # Wyświetlenie wyniku\n",
        "    print(result)"
      ]
    }
  ],
  "metadata": {
    "kernelspec": {
      "display_name": "Python 3",
      "language": "python",
      "name": "python3"
    },
    "language_info": {
      "codemirror_mode": {
        "name": "ipython",
        "version": 3
      },
      "file_extension": ".py",
      "mimetype": "text/x-python",
      "name": "python",
      "nbconvert_exporter": "python",
      "pygments_lexer": "ipython3",
      "version": "3.10.4"
    }
  },
  "nbformat": 4,
  "nbformat_minor": 4
}
