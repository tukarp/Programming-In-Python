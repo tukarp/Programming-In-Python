{
  "cells": [
    {
      "attachments": {},
      "cell_type": "markdown",
      "metadata": {},
      "source": [
        "# Laboratorium 5"
      ]
    },
    {
      "attachments": {},
      "cell_type": "markdown",
      "metadata": {},
      "source": [
        "## Zadanie"
      ]
    },
    {
      "attachments": {},
      "cell_type": "markdown",
      "metadata": {},
      "source": [
        "### Automat\n",
        "Reguła - rule 90\n",
        "\n",
        "Dane:\n",
        "- rule - ciąg binarny,\n",
        "- n - długość ciągu,\n",
        "- k - liczba kroków,\n",
        "- plik - nazwa pliku z wynikami,"
      ]
    },
    {
      "cell_type": "code",
      "execution_count": 31,
      "metadata": {
        "trusted": true
      },
      "outputs": [
        {
          "name": "stdout",
          "output_type": "stream",
          "text": [
            "Reguła: 90\n",
            "Dlugosc ciagu: 60\n",
            "Liczba Kroków: 30\n",
            "Wynik: \n",
            " *___*____*****__*____*___*_**___***_**___**_*___**____**__***___*____*****__*____*___*_**___***_**___**_*___**____**__***___*____*****__*____*___*_**___***_**___**_*___**____**__***___*____*****__*____*___*_**___***_**___**_*___**____**__***___*____*****__*____*___*_**___***_**___**_*___**____**__***___*____*****__*____*___*_**___***_**___**_*___**____**__***___*____*****__*____*___*_**___***_**___**_*___**____**__***___*____*****__*____*___*_**___***_**___**_*___**____**__***___*____*****__*____*___*_**___***_**___**_*___**____**__***___*____*****__*____*___*_**___***_**___**_*___**____**__***___*____*****__*____*___*_**___***_**___**_*___**____**__***___*____*****__*____*___*_**___***_**___**_*___**____**__***___*____*****__*____*___*_**___***_**___**_*___**____**__***___*____*****__*____*___*_**___***_**___**_*___**____**__***___*____*****__*____*___*_**___***_**___**_*___**____**__***___*____*****__*____*___*_**___***_**___**_*___**____**__***___*____*****__*____*___*_**___***_**___**_*___**____**__***___*____*****__*____*___*_**___***_**___**_*___**____**__***___*____*****__*____*___*_**___***_**___**_*___**____**__***___*____*****__*____*___*_**___***_**___**_*___**____**__***___*____*****__*____*___*_**___***_**___**_*___**____**__***___*____*****__*____*___*_**___***_**___**_*___**____**__***___*____*****__*____*___*_**___***_**___**_*___**____**__***___*____*****__*____*___*_**___***_**___**_*___**____**__***___*____*****__*____*___*_**___***_**___**_*___**____**__***___*____*****__*____*___*_**___***_**___**_*___**____**__***___*____*****__*____*___*_**___***_**___**_*___**____**__***___*____*****__*____*___*_**___***_**___**_*___**____**__***___*____*****__*____*___*_**___***_**___**_*___**____**__***___*____*****__*____*___*_**___***_**___**_*___**____**__**\n"
          ]
        }
      ],
      "source": [
        "# Nazwy plików\n",
        "result_file_name = \"automat.txt\"\n",
        "\n",
        "# Wprowadzenie danych\n",
        "rule = int(\"01011010\", 2)   # Regula\n",
        "n = 60                      # Dlugosc ciagu\n",
        "k = 30                      # Liczba krokow\n",
        "\n",
        "# Tworzenie slownika do zastosowania reguly\n",
        "chars = [\"*\", \"_\"]\n",
        "predict = [\"***\",\"**_\",\"*_*\",\"*__\",\"_**\",\"_*_\",\"__*\",\"___\"]\n",
        "prerule = [\"_\"*int(i=='0') + \"*\"*int(i=='1') for i in str(bin(rule))[2:].zfill(8)]\n",
        "automat = {key: value for (key, value) in zip(predict, prerule)}\n",
        "\n",
        "# Zmienne do zapisania wyników\n",
        "random_string = \"\"\n",
        "result = \"\"\n",
        "\n",
        "# Rozwiązanie\n",
        "import random\n",
        "\n",
        "for i in range(n):\n",
        "    random_string += random.choice(chars)\n",
        "\n",
        "for i in range(k):\n",
        "    result += automat[\"\".join([random_string[-1], random_string[i], random_string[1]])]\n",
        "    for i in range(1, n - 1):\n",
        "        result += automat[random_string[i - 1:i + 2]]\n",
        "    result += automat[\"\".join([random_string[-2], random_string[-1], random_string[0]])]\n",
        "\n",
        "# Wyświetlenie odpowiedzi\n",
        "print(f\"Reguła: {rule}\")\n",
        "print(f\"Dlugosc ciagu: {n}\")\n",
        "print(f\"Liczba Kroków: {k}\")\n",
        "print(f\"Wynik: \\n {result}\")\n",
        "\n",
        "# Zapis wyników do pliku\n",
        "file = open(result_file_name, \"w\")\n",
        "file.write(f\"Reguła: {rule}\\n\")\n",
        "file.write(f\"Dlugosc ciagu: {n}\\n\")\n",
        "file.write(f\"Liczba Kroków: {k}\\n\")\n",
        "file.write(f\"Wynik: \\n {result}\\n\")\n",
        "file.close()"
      ]
    }
  ],
  "metadata": {
    "kernelspec": {
      "display_name": "Python (Pyodide)",
      "language": "python",
      "name": "python"
    },
    "language_info": {
      "codemirror_mode": {
        "name": "python",
        "version": 3
      },
      "file_extension": ".py",
      "mimetype": "text/x-python",
      "name": "python",
      "nbconvert_exporter": "python",
      "pygments_lexer": "ipython3",
      "version": "3.8"
    }
  },
  "nbformat": 4,
  "nbformat_minor": 4
}
