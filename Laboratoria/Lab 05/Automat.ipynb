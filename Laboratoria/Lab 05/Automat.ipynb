{
  "cells": [
    {
      "attachments": {},
      "cell_type": "markdown",
      "metadata": {},
      "source": [
        "# Programowanie w Pythonie"
      ]
    },
    {
      "attachments": {},
      "cell_type": "markdown",
      "metadata": {},
      "source": [
        "## Laboratorium 05"
      ]
    },
    {
      "attachments": {},
      "cell_type": "markdown",
      "metadata": {},
      "source": [
        "### Automat"
      ]
    },
    {
      "attachments": {},
      "cell_type": "markdown",
      "metadata": {},
      "source": [
        "Dane:\n",
        "- rule - ciąg binarny,\n",
        "- n - długość ciągu,\n",
        "- k - liczba kroków."
      ]
    },
    {
      "cell_type": "code",
      "execution_count": 1,
      "metadata": {
        "trusted": true
      },
      "outputs": [
        {
          "name": "stdout",
          "output_type": "stream",
          "text": [
            "Reguła: 90\n",
            "Dlugosc ciagu: 80\n",
            "Liczba Kroków: 30\n",
            "______________________________________*_*_______________________________________\n",
            "_____________________________________*___*______________________________________\n",
            "____________________________________*_*_*_*_____________________________________\n",
            "___________________________________*_______*____________________________________\n",
            "__________________________________*_*_____*_*___________________________________\n",
            "_________________________________*___*___*___*__________________________________\n",
            "________________________________*_*_*_*_*_*_*_*_________________________________\n",
            "_______________________________*_______________*________________________________\n",
            "______________________________*_*_____________*_*_______________________________\n",
            "_____________________________*___*___________*___*______________________________\n",
            "____________________________*_*_*_*_________*_*_*_*_____________________________\n",
            "___________________________*_______*_______*_______*____________________________\n",
            "__________________________*_*_____*_*_____*_*_____*_*___________________________\n",
            "_________________________*___*___*___*___*___*___*___*__________________________\n",
            "________________________*_*_*_*_*_*_*_*_*_*_*_*_*_*_*_*_________________________\n",
            "_______________________*_______________________________*________________________\n",
            "______________________*_*_____________________________*_*_______________________\n",
            "_____________________*___*___________________________*___*______________________\n",
            "____________________*_*_*_*_________________________*_*_*_*_____________________\n",
            "___________________*_______*_______________________*_______*____________________\n",
            "__________________*_*_____*_*_____________________*_*_____*_*___________________\n",
            "_________________*___*___*___*___________________*___*___*___*__________________\n",
            "________________*_*_*_*_*_*_*_*_________________*_*_*_*_*_*_*_*_________________\n",
            "_______________*_______________*_______________*_______________*________________\n",
            "______________*_*_____________*_*_____________*_*_____________*_*_______________\n",
            "_____________*___*___________*___*___________*___*___________*___*______________\n",
            "____________*_*_*_*_________*_*_*_*_________*_*_*_*_________*_*_*_*_____________\n",
            "___________*_______*_______*_______*_______*_______*_______*_______*____________\n",
            "__________*_*_____*_*_____*_*_____*_*_____*_*_____*_*_____*_*_____*_*___________\n",
            "_________*___*___*___*___*___*___*___*___*___*___*___*___*___*___*___*__________\n"
          ]
        }
      ],
      "source": [
        "# Rozwiązanie\n",
        "# Importowanie biblioteki\n",
        "import random\n",
        "\n",
        "# Wprowadzenie danych\n",
        "rule = int(\"01011010\", 2)   # Reguła\n",
        "n = 80                      # Długość ciągu\n",
        "k = 30                      # Liczba kroków\n",
        "\n",
        "# Utworzenie słownika do zastosowania podanej reguły\n",
        "chars = [\"*\", \"_\"]  # Utworzenie listy znaków\n",
        "predict = [\"***\", \"**_\", \"*_*\", \"*__\", \"_**\", \"_*_\", \"__*\", \"___\"]  # Utworzenie listy predykatów\n",
        "prerule = [\"_\" * int(i=='0') + \"*\" * int(i=='1') for i in str(bin(rule))[2:].zfill(8)]  ## Utworzenie listy zasad początkowych\n",
        "automat = {key: value for (key, value) in zip(predict, prerule)}  # Utworzenie automatu łączącego wartości\n",
        "\n",
        "# Wyświetlenie wprowadzonych danych\n",
        "print(f\"Reguła: {rule}\")\n",
        "print(f\"Dlugosc ciagu: {n}\")\n",
        "print(f\"Liczba Kroków: {k}\")\n",
        "\n",
        "# Zaalokowanie zmiennych\n",
        "current_value = \"\"\n",
        "result = \"\"\n",
        "\n",
        "# Wylosowanie znaków\n",
        "for i in range(n):\n",
        "    # Dodaj do wyniku losowy znak\n",
        "    result += random.choice(chars)\n",
        "\n",
        "# Ustawienie result w środku\n",
        "result = 39 * '_' + '*' + 40 * '_'\n",
        "\n",
        "# Pętla automatu\n",
        "for i in range(k):\n",
        "    # Obecna wartość\n",
        "    current_value = \"\"\n",
        "    \n",
        "    # Obliczanie wartości automatu\n",
        "    current_value += automat[\"\".join([result[-1], result[0], result[1]])]\n",
        "    for i in range(1, n - 1):\n",
        "        current_value += automat[result[i - 1:i + 2]]\n",
        "    current_value += automat[\"\".join([result[-2], result[-1], result[0]])]\n",
        "    \n",
        "    # Przypisanie wartości do wyniku\n",
        "    result = current_value\n",
        "\n",
        "    # Wyświetlenie wyniku\n",
        "    print(result)"
      ]
    }
  ],
  "metadata": {
    "kernelspec": {
      "display_name": "Python 3",
      "language": "python",
      "name": "python3"
    },
    "language_info": {
      "codemirror_mode": {
        "name": "ipython",
        "version": 3
      },
      "file_extension": ".py",
      "mimetype": "text/x-python",
      "name": "python",
      "nbconvert_exporter": "python",
      "pygments_lexer": "ipython3",
      "version": "3.10.4"
    }
  },
  "nbformat": 4,
  "nbformat_minor": 4
}
